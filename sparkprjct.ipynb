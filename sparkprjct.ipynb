{
  "nbformat": 4,
  "nbformat_minor": 0,
  "metadata": {
    "colab": {
      "provenance": []
    },
    "kernelspec": {
      "name": "python3",
      "display_name": "Python 3"
    },
    "language_info": {
      "name": "python"
    }
  },
  "cells": [
    {
      "cell_type": "code",
      "execution_count": null,
      "metadata": {
        "colab": {
          "base_uri": "https://localhost:8080/",
          "height": 219
        },
        "id": "-ndOgBUXM8hI",
        "outputId": "f5c1aec7-df04-47af-e22a-777ef0b5dffa"
      },
      "outputs": [
        {
          "output_type": "execute_result",
          "data": {
            "text/plain": [
              "<pyspark.sql.session.SparkSession at 0x7b9759ccccd0>"
            ],
            "text/html": [
              "\n",
              "            <div>\n",
              "                <p><b>SparkSession - in-memory</b></p>\n",
              "                \n",
              "        <div>\n",
              "            <p><b>SparkContext</b></p>\n",
              "\n",
              "            <p><a href=\"http://bd571c7ec1b6:4040\">Spark UI</a></p>\n",
              "\n",
              "            <dl>\n",
              "              <dt>Version</dt>\n",
              "                <dd><code>v3.5.1</code></dd>\n",
              "              <dt>Master</dt>\n",
              "                <dd><code>local[*]</code></dd>\n",
              "              <dt>AppName</dt>\n",
              "                <dd><code>SparkIntroduction</code></dd>\n",
              "            </dl>\n",
              "        </div>\n",
              "        \n",
              "            </div>\n",
              "        "
            ]
          },
          "metadata": {},
          "execution_count": 3
        }
      ],
      "source": [
        "from pyspark.sql import SparkSession\n",
        "spark=(\n",
        "    SparkSession.builder.appName(\"SparkIntroduction\").getOrCreate()\n",
        ")\n",
        "spark"
      ]
    },
    {
      "cell_type": "markdown",
      "source": [
        "load the dataset and displaying the data"
      ],
      "metadata": {
        "id": "OyKJPKSxRooj"
      }
    },
    {
      "cell_type": "code",
      "source": [
        "ev_data=spark.read.csv(\"EV_Dataset.csv\",header=True)\n",
        "ev_data.show()"
      ],
      "metadata": {
        "colab": {
          "base_uri": "https://localhost:8080/"
        },
        "id": "y5zHlW2SNM7J",
        "outputId": "1abe8bc7-33c2-442d-ccea-09d0a3f20619"
      },
      "execution_count": null,
      "outputs": [
        {
          "output_type": "stream",
          "name": "stdout",
          "text": [
            "+------+----------+--------+--------------+--------------------+----------------+---------------+-----------------+\n",
            "|  Year|Month_Name|    Date|         State|       Vehicle_Class|Vehicle_Category|   Vehicle_Type|EV_Sales_Quantity|\n",
            "+------+----------+--------+--------------+--------------------+----------------+---------------+-----------------+\n",
            "|2014.0|       jan|1/1/2014|Andhra Pradesh|     ADAPTED VEHICLE|          Others|         Others|              0.0|\n",
            "|2014.0|       jan|1/1/2014|Andhra Pradesh|AGRICULTURAL TRACTOR|          Others|         Others|              0.0|\n",
            "|2014.0|       jan|1/1/2014|Andhra Pradesh|           AMBULANCE|          Others|         Others|              0.0|\n",
            "|2014.0|       jan|1/1/2014|Andhra Pradesh| ARTICULATED VEHICLE|          Others|         Others|              0.0|\n",
            "|2014.0|       jan|1/1/2014|Andhra Pradesh|                 BUS|             Bus|            Bus|              0.0|\n",
            "|2014.0|       jan|1/1/2014|Andhra Pradesh|            CASH VAN|          Others|         Others|              0.0|\n",
            "|2014.0|       jan|1/1/2014|Andhra Pradesh|CRANE MOUNTED VEH...|          Others|         Others|              0.0|\n",
            "|2014.0|       jan|1/1/2014|Andhra Pradesh|EDUCATIONAL INSTI...|             Bus|Institution Bus|              0.0|\n",
            "|2014.0|       jan|1/1/2014|Andhra Pradesh|EXCAVATOR (COMMER...|          Others|         Others|              0.0|\n",
            "|2014.0|       jan|1/1/2014|Andhra Pradesh|           FORK LIFT|          Others|         Others|              0.0|\n",
            "|2014.0|       jan|1/1/2014|Andhra Pradesh|       GOODS CARRIER|          Others|         Others|              0.0|\n",
            "|2014.0|       jan|1/1/2014|Andhra Pradesh|           HARVESTER|          Others|         Others|              0.0|\n",
            "|2014.0|       jan|1/1/2014|Andhra Pradesh|            MAXI CAB|          Others|         Others|              0.0|\n",
            "|2014.0|       jan|1/1/2014|Andhra Pradesh|     M-CYCLE/SCOOTER|      2-Wheelers|    2W_Personal|              1.0|\n",
            "|2014.0|       jan|1/1/2014|Andhra Pradesh|           MOTOR CAB|      4-Wheelers|      4W_Shared|              0.0|\n",
            "|2014.0|       jan|1/1/2014|Andhra Pradesh|           MOTOR CAR|      4-Wheelers|    4W_Personal|              0.0|\n",
            "|2014.0|       jan|1/1/2014|Andhra Pradesh|            OMNI BUS|             Bus|            Bus|              0.0|\n",
            "|2014.0|       jan|1/1/2014|Andhra Pradesh|PRIVATE SERVICE V...|          Others|         Others|              0.0|\n",
            "|2014.0|       jan|1/1/2014|Andhra Pradesh|    RECOVERY VEHICLE|          Others|         Others|              0.0|\n",
            "|2014.0|       jan|1/1/2014|Andhra Pradesh|THREE WHEELER (PA...|      3-Wheelers|      3W_Shared|              0.0|\n",
            "+------+----------+--------+--------------+--------------------+----------------+---------------+-----------------+\n",
            "only showing top 20 rows\n",
            "\n"
          ]
        }
      ]
    },
    {
      "cell_type": "markdown",
      "source": [
        "here we use inferschema for automatically detect the datatype"
      ],
      "metadata": {
        "id": "1zJrdS4_Ryin"
      }
    },
    {
      "cell_type": "code",
      "source": [
        "df=spark.read.csv('EV_Dataset.csv',header=True,inferSchema=True)\n",
        "df.printSchema()"
      ],
      "metadata": {
        "colab": {
          "base_uri": "https://localhost:8080/"
        },
        "id": "YgE1k7fIOH4X",
        "outputId": "f988556f-3727-46ff-aa1c-36a52572c492"
      },
      "execution_count": null,
      "outputs": [
        {
          "output_type": "stream",
          "name": "stdout",
          "text": [
            "root\n",
            " |-- Year: double (nullable = true)\n",
            " |-- Month_Name: string (nullable = true)\n",
            " |-- Date: string (nullable = true)\n",
            " |-- State: string (nullable = true)\n",
            " |-- Vehicle_Class: string (nullable = true)\n",
            " |-- Vehicle_Category: string (nullable = true)\n",
            " |-- Vehicle_Type: string (nullable = true)\n",
            " |-- EV_Sales_Quantity: double (nullable = true)\n",
            "\n"
          ]
        }
      ]
    },
    {
      "cell_type": "markdown",
      "source": [
        "here we use the default read mode permissive for load bad records as null values instead of failing"
      ],
      "metadata": {
        "id": "qD_HyRgAR9yI"
      }
    },
    {
      "cell_type": "code",
      "source": [
        "df=spark.read.csv('EV_Dataset.csv',header=True,mode=\"PERMISSIVE\")\n",
        "df.show()"
      ],
      "metadata": {
        "colab": {
          "base_uri": "https://localhost:8080/"
        },
        "id": "ZOHxWGtZOshd",
        "outputId": "e4ae181e-37e6-4968-f586-62fee346b5f9"
      },
      "execution_count": null,
      "outputs": [
        {
          "output_type": "stream",
          "name": "stdout",
          "text": [
            "+------+----------+--------+--------------+--------------------+----------------+---------------+-----------------+\n",
            "|  Year|Month_Name|    Date|         State|       Vehicle_Class|Vehicle_Category|   Vehicle_Type|EV_Sales_Quantity|\n",
            "+------+----------+--------+--------------+--------------------+----------------+---------------+-----------------+\n",
            "|2014.0|       jan|1/1/2014|Andhra Pradesh|     ADAPTED VEHICLE|          Others|         Others|              0.0|\n",
            "|2014.0|       jan|1/1/2014|Andhra Pradesh|AGRICULTURAL TRACTOR|          Others|         Others|              0.0|\n",
            "|2014.0|       jan|1/1/2014|Andhra Pradesh|           AMBULANCE|          Others|         Others|              0.0|\n",
            "|2014.0|       jan|1/1/2014|Andhra Pradesh| ARTICULATED VEHICLE|          Others|         Others|              0.0|\n",
            "|2014.0|       jan|1/1/2014|Andhra Pradesh|                 BUS|             Bus|            Bus|              0.0|\n",
            "|2014.0|       jan|1/1/2014|Andhra Pradesh|            CASH VAN|          Others|         Others|              0.0|\n",
            "|2014.0|       jan|1/1/2014|Andhra Pradesh|CRANE MOUNTED VEH...|          Others|         Others|              0.0|\n",
            "|2014.0|       jan|1/1/2014|Andhra Pradesh|EDUCATIONAL INSTI...|             Bus|Institution Bus|              0.0|\n",
            "|2014.0|       jan|1/1/2014|Andhra Pradesh|EXCAVATOR (COMMER...|          Others|         Others|              0.0|\n",
            "|2014.0|       jan|1/1/2014|Andhra Pradesh|           FORK LIFT|          Others|         Others|              0.0|\n",
            "|2014.0|       jan|1/1/2014|Andhra Pradesh|       GOODS CARRIER|          Others|         Others|              0.0|\n",
            "|2014.0|       jan|1/1/2014|Andhra Pradesh|           HARVESTER|          Others|         Others|              0.0|\n",
            "|2014.0|       jan|1/1/2014|Andhra Pradesh|            MAXI CAB|          Others|         Others|              0.0|\n",
            "|2014.0|       jan|1/1/2014|Andhra Pradesh|     M-CYCLE/SCOOTER|      2-Wheelers|    2W_Personal|              1.0|\n",
            "|2014.0|       jan|1/1/2014|Andhra Pradesh|           MOTOR CAB|      4-Wheelers|      4W_Shared|              0.0|\n",
            "|2014.0|       jan|1/1/2014|Andhra Pradesh|           MOTOR CAR|      4-Wheelers|    4W_Personal|              0.0|\n",
            "|2014.0|       jan|1/1/2014|Andhra Pradesh|            OMNI BUS|             Bus|            Bus|              0.0|\n",
            "|2014.0|       jan|1/1/2014|Andhra Pradesh|PRIVATE SERVICE V...|          Others|         Others|              0.0|\n",
            "|2014.0|       jan|1/1/2014|Andhra Pradesh|    RECOVERY VEHICLE|          Others|         Others|              0.0|\n",
            "|2014.0|       jan|1/1/2014|Andhra Pradesh|THREE WHEELER (PA...|      3-Wheelers|      3W_Shared|              0.0|\n",
            "+------+----------+--------+--------------+--------------------+----------------+---------------+-----------------+\n",
            "only showing top 20 rows\n",
            "\n"
          ]
        }
      ]
    },
    {
      "cell_type": "markdown",
      "source": [
        "drop the missing values(not working)"
      ],
      "metadata": {
        "id": "lYwu7xE1RkWt"
      }
    },
    {
      "cell_type": "code",
      "source": [
        "df = spark.read.csv('EV_Dataset.csv',header=True,mode=\"DROPMALFORMED\")\n",
        "df.show()"
      ],
      "metadata": {
        "colab": {
          "base_uri": "https://localhost:8080/"
        },
        "id": "XU-ESj2MQdY4",
        "outputId": "2dcf5c33-5e9a-491b-b101-f10a1cefce56"
      },
      "execution_count": null,
      "outputs": [
        {
          "output_type": "stream",
          "name": "stdout",
          "text": [
            "+------+----------+--------+--------------+--------------------+----------------+---------------+-----------------+\n",
            "|  Year|Month_Name|    Date|         State|       Vehicle_Class|Vehicle_Category|   Vehicle_Type|EV_Sales_Quantity|\n",
            "+------+----------+--------+--------------+--------------------+----------------+---------------+-----------------+\n",
            "|2014.0|       jan|1/1/2014|Andhra Pradesh|     ADAPTED VEHICLE|          Others|         Others|              0.0|\n",
            "|2014.0|       jan|1/1/2014|Andhra Pradesh|AGRICULTURAL TRACTOR|          Others|         Others|              0.0|\n",
            "|2014.0|       jan|1/1/2014|Andhra Pradesh|           AMBULANCE|          Others|         Others|              0.0|\n",
            "|2014.0|       jan|1/1/2014|Andhra Pradesh| ARTICULATED VEHICLE|          Others|         Others|              0.0|\n",
            "|2014.0|       jan|1/1/2014|Andhra Pradesh|                 BUS|             Bus|            Bus|              0.0|\n",
            "|2014.0|       jan|1/1/2014|Andhra Pradesh|            CASH VAN|          Others|         Others|              0.0|\n",
            "|2014.0|       jan|1/1/2014|Andhra Pradesh|CRANE MOUNTED VEH...|          Others|         Others|              0.0|\n",
            "|2014.0|       jan|1/1/2014|Andhra Pradesh|EDUCATIONAL INSTI...|             Bus|Institution Bus|              0.0|\n",
            "|2014.0|       jan|1/1/2014|Andhra Pradesh|EXCAVATOR (COMMER...|          Others|         Others|              0.0|\n",
            "|2014.0|       jan|1/1/2014|Andhra Pradesh|           FORK LIFT|          Others|         Others|              0.0|\n",
            "|2014.0|       jan|1/1/2014|Andhra Pradesh|       GOODS CARRIER|          Others|         Others|              0.0|\n",
            "|2014.0|       jan|1/1/2014|Andhra Pradesh|           HARVESTER|          Others|         Others|              0.0|\n",
            "|2014.0|       jan|1/1/2014|Andhra Pradesh|            MAXI CAB|          Others|         Others|              0.0|\n",
            "|2014.0|       jan|1/1/2014|Andhra Pradesh|     M-CYCLE/SCOOTER|      2-Wheelers|    2W_Personal|              1.0|\n",
            "|2014.0|       jan|1/1/2014|Andhra Pradesh|           MOTOR CAB|      4-Wheelers|      4W_Shared|              0.0|\n",
            "|2014.0|       jan|1/1/2014|Andhra Pradesh|           MOTOR CAR|      4-Wheelers|    4W_Personal|              0.0|\n",
            "|2014.0|       jan|1/1/2014|Andhra Pradesh|            OMNI BUS|             Bus|            Bus|              0.0|\n",
            "|2014.0|       jan|1/1/2014|Andhra Pradesh|PRIVATE SERVICE V...|          Others|         Others|              0.0|\n",
            "|2014.0|       jan|1/1/2014|Andhra Pradesh|    RECOVERY VEHICLE|          Others|         Others|              0.0|\n",
            "|2014.0|       jan|1/1/2014|Andhra Pradesh|THREE WHEELER (PA...|      3-Wheelers|      3W_Shared|              0.0|\n",
            "+------+----------+--------+--------------+--------------------+----------------+---------------+-----------------+\n",
            "only showing top 20 rows\n",
            "\n"
          ]
        }
      ]
    },
    {
      "cell_type": "markdown",
      "source": [
        "convert the dataframe to parquet"
      ],
      "metadata": {
        "id": "xNZra85kSy5w"
      }
    },
    {
      "cell_type": "code",
      "source": [
        "ev_data.write.mode(\"overwrite\").parquet(\"EV_Dataset.parquet\")"
      ],
      "metadata": {
        "id": "iA10VzE6Rgza"
      },
      "execution_count": null,
      "outputs": []
    },
    {
      "cell_type": "markdown",
      "source": [
        "reading the data from complex files like parquet"
      ],
      "metadata": {
        "id": "GbmGgKkXTJnq"
      }
    },
    {
      "cell_type": "code",
      "source": [
        "df_parquet =spark.read.parquet(\"EV_Dataset.parquet\")\n",
        "df_parquet.show()"
      ],
      "metadata": {
        "colab": {
          "base_uri": "https://localhost:8080/"
        },
        "id": "3kgd4DLPTHS1",
        "outputId": "b02c8b67-70b0-4277-8f67-6a44a8acf639"
      },
      "execution_count": null,
      "outputs": [
        {
          "output_type": "stream",
          "name": "stdout",
          "text": [
            "+------+----------+--------+--------------+--------------------+----------------+---------------+-----------------+\n",
            "|  Year|Month_Name|    Date|         State|       Vehicle_Class|Vehicle_Category|   Vehicle_Type|EV_Sales_Quantity|\n",
            "+------+----------+--------+--------------+--------------------+----------------+---------------+-----------------+\n",
            "|2014.0|       jan|1/1/2014|Andhra Pradesh|     ADAPTED VEHICLE|          Others|         Others|              0.0|\n",
            "|2014.0|       jan|1/1/2014|Andhra Pradesh|AGRICULTURAL TRACTOR|          Others|         Others|              0.0|\n",
            "|2014.0|       jan|1/1/2014|Andhra Pradesh|           AMBULANCE|          Others|         Others|              0.0|\n",
            "|2014.0|       jan|1/1/2014|Andhra Pradesh| ARTICULATED VEHICLE|          Others|         Others|              0.0|\n",
            "|2014.0|       jan|1/1/2014|Andhra Pradesh|                 BUS|             Bus|            Bus|              0.0|\n",
            "|2014.0|       jan|1/1/2014|Andhra Pradesh|            CASH VAN|          Others|         Others|              0.0|\n",
            "|2014.0|       jan|1/1/2014|Andhra Pradesh|CRANE MOUNTED VEH...|          Others|         Others|              0.0|\n",
            "|2014.0|       jan|1/1/2014|Andhra Pradesh|EDUCATIONAL INSTI...|             Bus|Institution Bus|              0.0|\n",
            "|2014.0|       jan|1/1/2014|Andhra Pradesh|EXCAVATOR (COMMER...|          Others|         Others|              0.0|\n",
            "|2014.0|       jan|1/1/2014|Andhra Pradesh|           FORK LIFT|          Others|         Others|              0.0|\n",
            "|2014.0|       jan|1/1/2014|Andhra Pradesh|       GOODS CARRIER|          Others|         Others|              0.0|\n",
            "|2014.0|       jan|1/1/2014|Andhra Pradesh|           HARVESTER|          Others|         Others|              0.0|\n",
            "|2014.0|       jan|1/1/2014|Andhra Pradesh|            MAXI CAB|          Others|         Others|              0.0|\n",
            "|2014.0|       jan|1/1/2014|Andhra Pradesh|     M-CYCLE/SCOOTER|      2-Wheelers|    2W_Personal|              1.0|\n",
            "|2014.0|       jan|1/1/2014|Andhra Pradesh|           MOTOR CAB|      4-Wheelers|      4W_Shared|              0.0|\n",
            "|2014.0|       jan|1/1/2014|Andhra Pradesh|           MOTOR CAR|      4-Wheelers|    4W_Personal|              0.0|\n",
            "|2014.0|       jan|1/1/2014|Andhra Pradesh|            OMNI BUS|             Bus|            Bus|              0.0|\n",
            "|2014.0|       jan|1/1/2014|Andhra Pradesh|PRIVATE SERVICE V...|          Others|         Others|              0.0|\n",
            "|2014.0|       jan|1/1/2014|Andhra Pradesh|    RECOVERY VEHICLE|          Others|         Others|              0.0|\n",
            "|2014.0|       jan|1/1/2014|Andhra Pradesh|THREE WHEELER (PA...|      3-Wheelers|      3W_Shared|              0.0|\n",
            "+------+----------+--------+--------------+--------------------+----------------+---------------+-----------------+\n",
            "only showing top 20 rows\n",
            "\n"
          ]
        }
      ]
    },
    {
      "cell_type": "markdown",
      "source": [
        "convert the dataframe into orc"
      ],
      "metadata": {
        "id": "f_uV7YszZH3S"
      }
    },
    {
      "cell_type": "code",
      "source": [
        "ev_data.write.orc(\"EV_Dataset.orc\",mode=\"overwrite\")"
      ],
      "metadata": {
        "id": "tiOAqglfTZcG"
      },
      "execution_count": null,
      "outputs": []
    },
    {
      "cell_type": "code",
      "source": [
        "df_orc = spark.read.orc(\"EV_Dataset.orc\")\n",
        "df_orc.show()\n",
        "df_orc.printSchema()"
      ],
      "metadata": {
        "colab": {
          "base_uri": "https://localhost:8080/"
        },
        "id": "O2chLNIpZXLO",
        "outputId": "c238c1c1-6f92-4bde-e159-066427aa8a91"
      },
      "execution_count": null,
      "outputs": [
        {
          "output_type": "stream",
          "name": "stdout",
          "text": [
            "+------+----------+--------+--------------+--------------------+----------------+---------------+-----------------+\n",
            "|  Year|Month_Name|    Date|         State|       Vehicle_Class|Vehicle_Category|   Vehicle_Type|EV_Sales_Quantity|\n",
            "+------+----------+--------+--------------+--------------------+----------------+---------------+-----------------+\n",
            "|2014.0|       jan|1/1/2014|Andhra Pradesh|     ADAPTED VEHICLE|          Others|         Others|              0.0|\n",
            "|2014.0|       jan|1/1/2014|Andhra Pradesh|AGRICULTURAL TRACTOR|          Others|         Others|              0.0|\n",
            "|2014.0|       jan|1/1/2014|Andhra Pradesh|           AMBULANCE|          Others|         Others|              0.0|\n",
            "|2014.0|       jan|1/1/2014|Andhra Pradesh| ARTICULATED VEHICLE|          Others|         Others|              0.0|\n",
            "|2014.0|       jan|1/1/2014|Andhra Pradesh|                 BUS|             Bus|            Bus|              0.0|\n",
            "|2014.0|       jan|1/1/2014|Andhra Pradesh|            CASH VAN|          Others|         Others|              0.0|\n",
            "|2014.0|       jan|1/1/2014|Andhra Pradesh|CRANE MOUNTED VEH...|          Others|         Others|              0.0|\n",
            "|2014.0|       jan|1/1/2014|Andhra Pradesh|EDUCATIONAL INSTI...|             Bus|Institution Bus|              0.0|\n",
            "|2014.0|       jan|1/1/2014|Andhra Pradesh|EXCAVATOR (COMMER...|          Others|         Others|              0.0|\n",
            "|2014.0|       jan|1/1/2014|Andhra Pradesh|           FORK LIFT|          Others|         Others|              0.0|\n",
            "|2014.0|       jan|1/1/2014|Andhra Pradesh|       GOODS CARRIER|          Others|         Others|              0.0|\n",
            "|2014.0|       jan|1/1/2014|Andhra Pradesh|           HARVESTER|          Others|         Others|              0.0|\n",
            "|2014.0|       jan|1/1/2014|Andhra Pradesh|            MAXI CAB|          Others|         Others|              0.0|\n",
            "|2014.0|       jan|1/1/2014|Andhra Pradesh|     M-CYCLE/SCOOTER|      2-Wheelers|    2W_Personal|              1.0|\n",
            "|2014.0|       jan|1/1/2014|Andhra Pradesh|           MOTOR CAB|      4-Wheelers|      4W_Shared|              0.0|\n",
            "|2014.0|       jan|1/1/2014|Andhra Pradesh|           MOTOR CAR|      4-Wheelers|    4W_Personal|              0.0|\n",
            "|2014.0|       jan|1/1/2014|Andhra Pradesh|            OMNI BUS|             Bus|            Bus|              0.0|\n",
            "|2014.0|       jan|1/1/2014|Andhra Pradesh|PRIVATE SERVICE V...|          Others|         Others|              0.0|\n",
            "|2014.0|       jan|1/1/2014|Andhra Pradesh|    RECOVERY VEHICLE|          Others|         Others|              0.0|\n",
            "|2014.0|       jan|1/1/2014|Andhra Pradesh|THREE WHEELER (PA...|      3-Wheelers|      3W_Shared|              0.0|\n",
            "+------+----------+--------+--------------+--------------------+----------------+---------------+-----------------+\n",
            "only showing top 20 rows\n",
            "\n",
            "root\n",
            " |-- Year: string (nullable = true)\n",
            " |-- Month_Name: string (nullable = true)\n",
            " |-- Date: string (nullable = true)\n",
            " |-- State: string (nullable = true)\n",
            " |-- Vehicle_Class: string (nullable = true)\n",
            " |-- Vehicle_Category: string (nullable = true)\n",
            " |-- Vehicle_Type: string (nullable = true)\n",
            " |-- EV_Sales_Quantity: string (nullable = true)\n",
            "\n"
          ]
        }
      ]
    },
    {
      "cell_type": "markdown",
      "source": [
        "creating the JSON file"
      ],
      "metadata": {
        "id": "6NDGisdja48s"
      }
    },
    {
      "cell_type": "code",
      "source": [
        "json_data =[\n",
        "    {\"employee_id\":1,\"name\":\"John\",\"details\":{\"department\":\"HR\",\"salary\":50000}},\n",
        "    {\"employee_id\":2,\"name\":\"Jane\",\"details\":{\"department\":\"IT\",\"salary\":60000}},\n",
        "    {\"employee_id\":3,\"name\":\"Bob\",\"details\":{\"department\":\"Finance\",\"salary\":55000}}\n",
        "]\n",
        "df = spark.createDataFrame(json_data)\n",
        "df.write.mode(\"overwrite\").json(\"employee.json\")"
      ],
      "metadata": {
        "id": "NNeURTRwZhkL"
      },
      "execution_count": null,
      "outputs": []
    },
    {
      "cell_type": "markdown",
      "source": [
        "reading and displaying the json table"
      ],
      "metadata": {
        "id": "L_1uJ1XrdUO_"
      }
    },
    {
      "cell_type": "code",
      "source": [
        "df_json = spark.read.json(\"employee.json\")\n",
        "df_json.show()\n",
        "df_json.printSchema()"
      ],
      "metadata": {
        "colab": {
          "base_uri": "https://localhost:8080/"
        },
        "id": "HZxJ_5H4cLN_",
        "outputId": "3f444f8b-0c3b-44c8-b197-66dccff91e4c"
      },
      "execution_count": null,
      "outputs": [
        {
          "output_type": "stream",
          "name": "stdout",
          "text": [
            "+----------------+-----------+----+\n",
            "|         details|employee_id|name|\n",
            "+----------------+-----------+----+\n",
            "|     {IT, 60000}|          2|Jane|\n",
            "|{Finance, 55000}|          3| Bob|\n",
            "|     {HR, 50000}|          1|John|\n",
            "+----------------+-----------+----+\n",
            "\n",
            "root\n",
            " |-- details: struct (nullable = true)\n",
            " |    |-- department: string (nullable = true)\n",
            " |    |-- salary: string (nullable = true)\n",
            " |-- employee_id: long (nullable = true)\n",
            " |-- name: string (nullable = true)\n",
            "\n"
          ]
        }
      ]
    },
    {
      "cell_type": "markdown",
      "source": [
        "parse JSON data or flatten JSON"
      ],
      "metadata": {
        "id": "vPyQnpNYdaen"
      }
    },
    {
      "cell_type": "code",
      "source": [
        "df_flattened = df_json.select(\"employee_id\",\"name\",\"details.department\",\"details.salary\")\n",
        "df_flattened.show()"
      ],
      "metadata": {
        "colab": {
          "base_uri": "https://localhost:8080/"
        },
        "id": "W7JvvB2bcsi3",
        "outputId": "5c262776-ed4d-4f9e-87ea-7320da4c596a"
      },
      "execution_count": null,
      "outputs": [
        {
          "output_type": "stream",
          "name": "stdout",
          "text": [
            "+-----------+----+----------+------+\n",
            "|employee_id|name|department|salary|\n",
            "+-----------+----+----------+------+\n",
            "|          2|Jane|        IT| 60000|\n",
            "|          3| Bob|   Finance| 55000|\n",
            "|          1|John|        HR| 50000|\n",
            "+-----------+----+----------+------+\n",
            "\n"
          ]
        }
      ]
    },
    {
      "cell_type": "code",
      "source": [],
      "metadata": {
        "id": "526ATaSTeLNs"
      },
      "execution_count": null,
      "outputs": []
    }
  ]
}