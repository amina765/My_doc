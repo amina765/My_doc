{
  "nbformat": 4,
  "nbformat_minor": 0,
  "metadata": {
    "colab": {
      "provenance": [],
      "authorship_tag": "ABX9TyPtT6gGN34a75E3dfLc5t9X",
      "include_colab_link": true
    },
    "kernelspec": {
      "name": "python3",
      "display_name": "Python 3"
    },
    "language_info": {
      "name": "python"
    }
  },
  "cells": [
    {
      "cell_type": "markdown",
      "metadata": {
        "id": "view-in-github",
        "colab_type": "text"
      },
      "source": [
        "<a href=\"https://colab.research.google.com/github/amina765/My_doc/blob/main/Spark_day1.ipynb\" target=\"_parent\"><img src=\"https://colab.research.google.com/assets/colab-badge.svg\" alt=\"Open In Colab\"/></a>"
      ]
    },
    {
      "cell_type": "code",
      "execution_count": null,
      "metadata": {
        "id": "dqO9hICH_OVU"
      },
      "outputs": [],
      "source": [
        "from pyspark import SparkContext\n",
        "sc=SparkContext()"
      ]
    },
    {
      "cell_type": "code",
      "source": [
        "rdd=sc.parallelize([1,2,3,4,5])"
      ],
      "metadata": {
        "id": "VJX5QGdVAuLy"
      },
      "execution_count": null,
      "outputs": []
    },
    {
      "cell_type": "code",
      "source": [
        "rdd.collect()"
      ],
      "metadata": {
        "colab": {
          "base_uri": "https://localhost:8080/"
        },
        "id": "AE6MQQ_XA2yL",
        "outputId": "bbc8133c-e0ff-4c97-e9b4-d7efef61ea20"
      },
      "execution_count": null,
      "outputs": [
        {
          "output_type": "execute_result",
          "data": {
            "text/plain": [
              "[1, 2, 3, 4, 5]"
            ]
          },
          "metadata": {},
          "execution_count": 3
        }
      ]
    },
    {
      "cell_type": "code",
      "source": [
        "rdd.count()"
      ],
      "metadata": {
        "colab": {
          "base_uri": "https://localhost:8080/"
        },
        "id": "bkHNEyc6A6NC",
        "outputId": "454e7ba2-a3af-4dfa-d679-ed576f5b398b"
      },
      "execution_count": null,
      "outputs": [
        {
          "output_type": "execute_result",
          "data": {
            "text/plain": [
              "5"
            ]
          },
          "metadata": {},
          "execution_count": 4
        }
      ]
    },
    {
      "cell_type": "code",
      "source": [
        "rdd.first()"
      ],
      "metadata": {
        "colab": {
          "base_uri": "https://localhost:8080/"
        },
        "id": "qUKv681ZA8i_",
        "outputId": "d2aa3578-6068-429d-947a-d179a274bc99"
      },
      "execution_count": null,
      "outputs": [
        {
          "output_type": "execute_result",
          "data": {
            "text/plain": [
              "1"
            ]
          },
          "metadata": {},
          "execution_count": 5
        }
      ]
    },
    {
      "cell_type": "code",
      "source": [
        "rdd.take(3)"
      ],
      "metadata": {
        "colab": {
          "base_uri": "https://localhost:8080/"
        },
        "id": "jtcwX3GXA_Nf",
        "outputId": "303386a9-139d-44f1-908b-f76d563e8b31"
      },
      "execution_count": null,
      "outputs": [
        {
          "output_type": "execute_result",
          "data": {
            "text/plain": [
              "[1, 2, 3]"
            ]
          },
          "metadata": {},
          "execution_count": 6
        }
      ]
    },
    {
      "cell_type": "code",
      "source": [
        "rdd.map(lambda x:x*2).collect()"
      ],
      "metadata": {
        "colab": {
          "base_uri": "https://localhost:8080/"
        },
        "id": "FN_7KLjCBCDS",
        "outputId": "67378b83-7bd4-48f9-8fbc-e84b934d32ba"
      },
      "execution_count": null,
      "outputs": [
        {
          "output_type": "execute_result",
          "data": {
            "text/plain": [
              "[2, 4, 6, 8, 10]"
            ]
          },
          "metadata": {},
          "execution_count": 7
        }
      ]
    },
    {
      "cell_type": "code",
      "source": [
        "rdd.filter(lambda x:x%2 == 0).collect()"
      ],
      "metadata": {
        "colab": {
          "base_uri": "https://localhost:8080/"
        },
        "id": "-un6wPs9BLTG",
        "outputId": "4b1bf759-c5c2-4f5b-cf48-5cd32d807069"
      },
      "execution_count": null,
      "outputs": [
        {
          "output_type": "execute_result",
          "data": {
            "text/plain": [
              "[2, 4]"
            ]
          },
          "metadata": {},
          "execution_count": 8
        }
      ]
    },
    {
      "cell_type": "code",
      "source": [
        "sc.parallelize([\"hello world\"]).flatMap(lambda x:x.split(\" \")).collect()"
      ],
      "metadata": {
        "colab": {
          "base_uri": "https://localhost:8080/"
        },
        "id": "7ktqc1ViBbXE",
        "outputId": "077670c9-afd8-4740-c97b-301fee096f60"
      },
      "execution_count": null,
      "outputs": [
        {
          "output_type": "execute_result",
          "data": {
            "text/plain": [
              "['hello', 'world']"
            ]
          },
          "metadata": {},
          "execution_count": 9
        }
      ]
    },
    {
      "cell_type": "code",
      "source": [
        "rdd=sc.parallelize([1,2,3,4,5])\n",
        "multiply=rdd.map(lambda x:x*x)\n",
        "a=rdd.filter(lambda x:x%2==0)\n",
        "print(multiply.collect())\n",
        "print(a.collect())"
      ],
      "metadata": {
        "colab": {
          "base_uri": "https://localhost:8080/"
        },
        "id": "YeEcU0RxBpBw",
        "outputId": "0e5cebca-c55a-4358-8709-45cfff2fb0ab"
      },
      "execution_count": null,
      "outputs": [
        {
          "output_type": "stream",
          "name": "stdout",
          "text": [
            "[1, 4, 9, 16, 25]\n",
            "[2, 4]\n"
          ]
        }
      ]
    },
    {
      "cell_type": "code",
      "source": [
        "rdd.reduce(lambda x,y:x+y)"
      ],
      "metadata": {
        "id": "cCdw5OFBC1zG",
        "colab": {
          "base_uri": "https://localhost:8080/"
        },
        "outputId": "518f4204-cd48-41de-a3c6-a25c34cc2554"
      },
      "execution_count": null,
      "outputs": [
        {
          "output_type": "execute_result",
          "data": {
            "text/plain": [
              "15"
            ]
          },
          "metadata": {},
          "execution_count": 11
        }
      ]
    },
    {
      "cell_type": "code",
      "source": [
        "rdd.distinct().collect()"
      ],
      "metadata": {
        "colab": {
          "base_uri": "https://localhost:8080/"
        },
        "id": "pKjGbAUUJJPV",
        "outputId": "9fc9ecee-2a5f-4a5d-ed0a-508395bdf7ab"
      },
      "execution_count": null,
      "outputs": [
        {
          "output_type": "execute_result",
          "data": {
            "text/plain": [
              "[2, 4, 1, 3, 5]"
            ]
          },
          "metadata": {},
          "execution_count": 12
        }
      ]
    },
    {
      "cell_type": "code",
      "source": [
        "rdd.sortBy(lambda x:x).collect()"
      ],
      "metadata": {
        "colab": {
          "base_uri": "https://localhost:8080/"
        },
        "id": "IRCRE0S-JcqR",
        "outputId": "22e314ad-b814-433d-9f2a-3c04b9330b67"
      },
      "execution_count": null,
      "outputs": [
        {
          "output_type": "execute_result",
          "data": {
            "text/plain": [
              "[1, 2, 3, 4, 5]"
            ]
          },
          "metadata": {},
          "execution_count": 13
        }
      ]
    },
    {
      "cell_type": "code",
      "source": [
        "rdd1=sc.parallelize([7,6,8,9,5])"
      ],
      "metadata": {
        "id": "YbXfFthYJy5n"
      },
      "execution_count": null,
      "outputs": []
    },
    {
      "cell_type": "code",
      "source": [
        "rdd1.collect()"
      ],
      "metadata": {
        "colab": {
          "base_uri": "https://localhost:8080/"
        },
        "id": "oQkxmVPiKEiV",
        "outputId": "3faab25e-d0dd-4871-c1ab-cf7c7271518d"
      },
      "execution_count": null,
      "outputs": [
        {
          "output_type": "execute_result",
          "data": {
            "text/plain": [
              "[7, 6, 8, 9, 5]"
            ]
          },
          "metadata": {},
          "execution_count": 15
        }
      ]
    },
    {
      "cell_type": "code",
      "source": [
        "rdd.union(rdd1).collect()"
      ],
      "metadata": {
        "colab": {
          "base_uri": "https://localhost:8080/"
        },
        "id": "ky4uIatnKM9C",
        "outputId": "47feaa0e-eb67-4017-aed2-1e032d69c53e"
      },
      "execution_count": null,
      "outputs": [
        {
          "output_type": "execute_result",
          "data": {
            "text/plain": [
              "[1, 2, 3, 4, 5, 7, 6, 8, 9, 5]"
            ]
          },
          "metadata": {},
          "execution_count": 16
        }
      ]
    },
    {
      "cell_type": "code",
      "source": [
        "rdd.intersection(rdd1).collect()"
      ],
      "metadata": {
        "colab": {
          "base_uri": "https://localhost:8080/"
        },
        "id": "xGyXY5fyKdOd",
        "outputId": "d2d585c6-38f3-4f66-b373-845f69c6729b"
      },
      "execution_count": null,
      "outputs": [
        {
          "output_type": "execute_result",
          "data": {
            "text/plain": [
              "[5]"
            ]
          },
          "metadata": {},
          "execution_count": 17
        }
      ]
    },
    {
      "cell_type": "code",
      "source": [
        "rdd.subtract(rdd1).collect()"
      ],
      "metadata": {
        "colab": {
          "base_uri": "https://localhost:8080/"
        },
        "id": "KOM4FFTlKncm",
        "outputId": "c306aa78-e723-4eb6-8c82-ba61be5b6916"
      },
      "execution_count": null,
      "outputs": [
        {
          "output_type": "execute_result",
          "data": {
            "text/plain": [
              "[4, 1, 2, 3]"
            ]
          },
          "metadata": {},
          "execution_count": 18
        }
      ]
    },
    {
      "cell_type": "code",
      "source": [
        "rdd.cartesian(rdd1).collect()"
      ],
      "metadata": {
        "colab": {
          "base_uri": "https://localhost:8080/"
        },
        "id": "yDIvKbqgKu1M",
        "outputId": "3a9ef0f3-ea4d-48c8-8bf6-5016f3802e2c"
      },
      "execution_count": null,
      "outputs": [
        {
          "output_type": "execute_result",
          "data": {
            "text/plain": [
              "[(1, 7),\n",
              " (1, 6),\n",
              " (2, 7),\n",
              " (2, 6),\n",
              " (1, 8),\n",
              " (1, 9),\n",
              " (2, 8),\n",
              " (2, 9),\n",
              " (1, 5),\n",
              " (2, 5),\n",
              " (3, 7),\n",
              " (3, 6),\n",
              " (4, 7),\n",
              " (4, 6),\n",
              " (5, 7),\n",
              " (5, 6),\n",
              " (3, 8),\n",
              " (3, 9),\n",
              " (4, 8),\n",
              " (4, 9),\n",
              " (3, 5),\n",
              " (4, 5),\n",
              " (5, 8),\n",
              " (5, 9),\n",
              " (5, 5)]"
            ]
          },
          "metadata": {},
          "execution_count": 19
        }
      ]
    },
    {
      "cell_type": "code",
      "source": [
        "pair_rdd=sc.parallelize([(\"a\",1),(\"b\",2),(\"c\",3),(\"a\",4)])"
      ],
      "metadata": {
        "id": "YAaCTDl2LUwV"
      },
      "execution_count": null,
      "outputs": []
    },
    {
      "cell_type": "code",
      "source": [
        "pair_rdd.collect()"
      ],
      "metadata": {
        "colab": {
          "base_uri": "https://localhost:8080/"
        },
        "id": "hxueicSWLOSR",
        "outputId": "43325988-5e4b-4283-8c95-6f86fa69d4c9"
      },
      "execution_count": null,
      "outputs": [
        {
          "output_type": "execute_result",
          "data": {
            "text/plain": [
              "[('a', 1), ('b', 2), ('c', 3), ('a', 4)]"
            ]
          },
          "metadata": {},
          "execution_count": 21
        }
      ]
    },
    {
      "cell_type": "code",
      "source": [
        "pair_rdd.groupByKey().mapValues(list).collect()"
      ],
      "metadata": {
        "colab": {
          "base_uri": "https://localhost:8080/"
        },
        "id": "dKwDU3hyLm6-",
        "outputId": "5ff39f43-20b7-4647-a4ed-d220bfb3e7b2"
      },
      "execution_count": null,
      "outputs": [
        {
          "output_type": "execute_result",
          "data": {
            "text/plain": [
              "[('b', [2]), ('c', [3]), ('a', [1, 4])]"
            ]
          },
          "metadata": {},
          "execution_count": 22
        }
      ]
    },
    {
      "cell_type": "code",
      "source": [
        "pair_rdd.reduceByKey(lambda x,y:x+y).collect()"
      ],
      "metadata": {
        "colab": {
          "base_uri": "https://localhost:8080/"
        },
        "id": "TvSata53L6TZ",
        "outputId": "385aea7b-9752-4f28-8040-46ff5b4d3c28"
      },
      "execution_count": null,
      "outputs": [
        {
          "output_type": "execute_result",
          "data": {
            "text/plain": [
              "[('b', 2), ('c', 3), ('a', 5)]"
            ]
          },
          "metadata": {},
          "execution_count": 23
        }
      ]
    },
    {
      "cell_type": "code",
      "source": [
        "rdd.countByValue()"
      ],
      "metadata": {
        "colab": {
          "base_uri": "https://localhost:8080/"
        },
        "id": "BBkg9Oq_MC5o",
        "outputId": "4114412e-9776-4516-815e-808bba26491e"
      },
      "execution_count": null,
      "outputs": [
        {
          "output_type": "execute_result",
          "data": {
            "text/plain": [
              "defaultdict(int, {1: 1, 2: 1, 3: 1, 4: 1, 5: 1})"
            ]
          },
          "metadata": {},
          "execution_count": 24
        }
      ]
    },
    {
      "cell_type": "code",
      "source": [
        "pair_rdd2=sc.parallelize([(1,2),(1,3),(2,3),(2,4),(3,2),(4,3),(5,9),(5,8),(5,5)])"
      ],
      "metadata": {
        "id": "rWbEMOPFMKPE"
      },
      "execution_count": null,
      "outputs": []
    },
    {
      "cell_type": "code",
      "source": [
        "pair_rdd2.collect()"
      ],
      "metadata": {
        "id": "tKXS5k-mPsDY",
        "colab": {
          "base_uri": "https://localhost:8080/"
        },
        "outputId": "85bd5630-b85d-4a73-dadb-a4261f24b3eb"
      },
      "execution_count": null,
      "outputs": [
        {
          "output_type": "execute_result",
          "data": {
            "text/plain": [
              "[(1, 2), (1, 3), (2, 3), (2, 4), (3, 2), (4, 3), (5, 9), (5, 8), (5, 5)]"
            ]
          },
          "metadata": {},
          "execution_count": 26
        }
      ]
    },
    {
      "cell_type": "code",
      "source": [
        "pair_rdd2.groupByKey().mapValues(list).collect()"
      ],
      "metadata": {
        "colab": {
          "base_uri": "https://localhost:8080/"
        },
        "id": "8RcEJbtCS6ON",
        "outputId": "4db3d69a-d237-478f-e239-752157934f7e"
      },
      "execution_count": null,
      "outputs": [
        {
          "output_type": "execute_result",
          "data": {
            "text/plain": [
              "[(2, [3, 4]), (4, [3]), (1, [2, 3]), (3, [2]), (5, [9, 8, 5])]"
            ]
          },
          "metadata": {},
          "execution_count": 27
        }
      ]
    },
    {
      "cell_type": "code",
      "source": [
        "pair_rdd2.reduceByKey(lambda x,y:x+y).collect()"
      ],
      "metadata": {
        "colab": {
          "base_uri": "https://localhost:8080/"
        },
        "id": "rj2VHrbkTAH_",
        "outputId": "8209551f-0577-4ef6-c85c-3f7ddf3ae558"
      },
      "execution_count": null,
      "outputs": [
        {
          "output_type": "execute_result",
          "data": {
            "text/plain": [
              "[(2, 7), (4, 3), (1, 5), (3, 2), (5, 22)]"
            ]
          },
          "metadata": {},
          "execution_count": 29
        }
      ]
    },
    {
      "cell_type": "code",
      "source": [
        "pair_rdd2.countByValue()"
      ],
      "metadata": {
        "colab": {
          "base_uri": "https://localhost:8080/"
        },
        "id": "cH_RSYRETINC",
        "outputId": "884d3999-4eb3-4ce2-dd6f-9475db900689"
      },
      "execution_count": null,
      "outputs": [
        {
          "output_type": "execute_result",
          "data": {
            "text/plain": [
              "defaultdict(int,\n",
              "            {(1, 2): 1,\n",
              "             (1, 3): 1,\n",
              "             (2, 3): 1,\n",
              "             (2, 4): 1,\n",
              "             (3, 2): 1,\n",
              "             (4, 3): 1,\n",
              "             (5, 9): 1,\n",
              "             (5, 8): 1,\n",
              "             (5, 5): 1})"
            ]
          },
          "metadata": {},
          "execution_count": 31
        }
      ]
    },
    {
      "cell_type": "code",
      "source": [
        "sd=sc.textFile(\"/content/evm.txt\")"
      ],
      "metadata": {
        "id": "k_v3YpJXTQH7"
      },
      "execution_count": null,
      "outputs": []
    },
    {
      "cell_type": "code",
      "source": [
        "word_rd = sd.flatMap(lambda line:line.split(\" \"))"
      ],
      "metadata": {
        "id": "sjtFre4eTxEG"
      },
      "execution_count": null,
      "outputs": []
    },
    {
      "cell_type": "code",
      "source": [
        "word_rd.collect()"
      ],
      "metadata": {
        "colab": {
          "base_uri": "https://localhost:8080/"
        },
        "id": "uDm0XO0KWFJb",
        "outputId": "64fd6963-bdc0-4c38-b4bb-905b09ed5b5f"
      },
      "execution_count": null,
      "outputs": [
        {
          "output_type": "execute_result",
          "data": {
            "text/plain": [
              "['bjp',\n",
              " 'cong',\n",
              " 'ldf',\n",
              " 'pnb',\n",
              " 'jkl',\n",
              " 'klm',\n",
              " 'hhh',\n",
              " 'bjp',\n",
              " 'cong',\n",
              " 'ldf',\n",
              " 'pnb',\n",
              " 'jkl',\n",
              " 'klm',\n",
              " 'hhh',\n",
              " 'bjp',\n",
              " 'cong',\n",
              " 'ldf',\n",
              " 'pnb',\n",
              " 'jkl',\n",
              " 'klm',\n",
              " 'mmm',\n",
              " 'bjp',\n",
              " 'cong',\n",
              " 'ldf',\n",
              " 'pnb',\n",
              " 'jkl',\n",
              " 'klm',\n",
              " 'nnn',\n",
              " 'bjp',\n",
              " 'cong',\n",
              " 'ldf',\n",
              " 'pnb',\n",
              " 'jkl',\n",
              " 'klm',\n",
              " 'iii',\n",
              " 'bjp',\n",
              " 'cong',\n",
              " 'ldf',\n",
              " 'pnb',\n",
              " 'jkl',\n",
              " 'klm',\n",
              " 'nnn']"
            ]
          },
          "metadata": {},
          "execution_count": 47
        }
      ]
    },
    {
      "cell_type": "code",
      "source": [
        "pair_rdd3=word_rd.map(lambda word:(word,1))"
      ],
      "metadata": {
        "id": "ec4__LaUWIEB"
      },
      "execution_count": null,
      "outputs": []
    },
    {
      "cell_type": "code",
      "source": [
        "pair_rdd3.collect()"
      ],
      "metadata": {
        "colab": {
          "base_uri": "https://localhost:8080/"
        },
        "id": "8klwNC1vXual",
        "outputId": "5ed31516-43b7-4d62-d553-ba57093490eb"
      },
      "execution_count": null,
      "outputs": [
        {
          "output_type": "execute_result",
          "data": {
            "text/plain": [
              "[('bjp', 1),\n",
              " ('cong', 1),\n",
              " ('ldf', 1),\n",
              " ('pnb', 1),\n",
              " ('jkl', 1),\n",
              " ('klm', 1),\n",
              " ('hhh', 1),\n",
              " ('bjp', 1),\n",
              " ('cong', 1),\n",
              " ('ldf', 1),\n",
              " ('pnb', 1),\n",
              " ('jkl', 1),\n",
              " ('klm', 1),\n",
              " ('hhh', 1),\n",
              " ('bjp', 1),\n",
              " ('cong', 1),\n",
              " ('ldf', 1),\n",
              " ('pnb', 1),\n",
              " ('jkl', 1),\n",
              " ('klm', 1),\n",
              " ('mmm', 1),\n",
              " ('bjp', 1),\n",
              " ('cong', 1),\n",
              " ('ldf', 1),\n",
              " ('pnb', 1),\n",
              " ('jkl', 1),\n",
              " ('klm', 1),\n",
              " ('nnn', 1),\n",
              " ('bjp', 1),\n",
              " ('cong', 1),\n",
              " ('ldf', 1),\n",
              " ('pnb', 1),\n",
              " ('jkl', 1),\n",
              " ('klm', 1),\n",
              " ('iii', 1),\n",
              " ('bjp', 1),\n",
              " ('cong', 1),\n",
              " ('ldf', 1),\n",
              " ('pnb', 1),\n",
              " ('jkl', 1),\n",
              " ('klm', 1),\n",
              " ('nnn', 1)]"
            ]
          },
          "metadata": {},
          "execution_count": 49
        }
      ]
    },
    {
      "cell_type": "code",
      "source": [
        "word_count=pair_rdd3.reduceByKey(lambda x,y:x+y)"
      ],
      "metadata": {
        "id": "hqK5TEq8Xwbm"
      },
      "execution_count": null,
      "outputs": []
    },
    {
      "cell_type": "code",
      "source": [
        "word_count.collect()"
      ],
      "metadata": {
        "colab": {
          "base_uri": "https://localhost:8080/"
        },
        "id": "oortoU6tX3oW",
        "outputId": "2a0a6b5a-377b-4c96-b4b4-a5643b679e65"
      },
      "execution_count": null,
      "outputs": [
        {
          "output_type": "execute_result",
          "data": {
            "text/plain": [
              "[('cong', 6),\n",
              " ('jkl', 6),\n",
              " ('nnn', 2),\n",
              " ('iii', 1),\n",
              " ('bjp', 6),\n",
              " ('ldf', 6),\n",
              " ('pnb', 6),\n",
              " ('klm', 6),\n",
              " ('hhh', 2),\n",
              " ('mmm', 1)]"
            ]
          },
          "metadata": {},
          "execution_count": 51
        }
      ]
    },
    {
      "cell_type": "code",
      "source": [],
      "metadata": {
        "id": "Vb6Ieb-FX6fY"
      },
      "execution_count": null,
      "outputs": []
    }
  ]
}