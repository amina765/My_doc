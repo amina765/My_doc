{
 "cells": [
  {
   "cell_type": "code",
   "execution_count": 1,
   "id": "94c006af-4d10-4c44-a663-b3bb89c69244",
   "metadata": {},
   "outputs": [],
   "source": [
    "import findspark\n",
    "findspark.init()\n",
    "from pyspark.sql import SparkSession\n",
    "spark=(\n",
    "    SparkSession.builder.appName(\"SparkIntroduction\").getOrCreate())"
   ]
  },
  {
   "cell_type": "code",
   "execution_count": 2,
   "id": "c93322cf-6212-4a7c-b81f-fd734f668fc4",
   "metadata": {
    "scrolled": true
   },
   "outputs": [
    {
     "name": "stdout",
     "output_type": "stream",
     "text": [
      "+---------------+---------------+--------+----------+---+---------+-----------------+-----------+---------------+-----+-----------+-------------+---------------+-----+------+--------+--------+-----+-------------+---------+---------+---------+----------+----------+-----------+--------------+---------------+---------+----------+------------+--------+----------+---------+\n",
      "|     Start_time|       End_time|    Name|    Mobile|Age|Pin-Codes|           Source|Vaccine_cus|    Destination|Miles|Est_Costing|Ride_category|        Purpose| temp|clouds|pressure|humidity| wind|accquire_vehi|free_vehi|Lattitute|Longitude|locationID|rating_cus|Riders_Name|Riders_contact|Trusted_Contact|Rating_RI|Vaccine_Ri|Payment_mode|Discount|Final_cost|   Status|\n",
      "+---------------+---------------+--------+----------+---+---------+-----------------+-----------+---------------+-----+-----------+-------------+---------------+-----+------+--------+--------+-----+-------------+---------+---------+---------+----------+----------+-----------+--------------+---------------+---------+----------+------------+--------+----------+---------+\n",
      "| 1/1/2016 21:11| 1/1/2016 21:17|  Almire|9298608912| 21|   318886|      Fort Pierce|        YES|    Fort Pierce|  5.1|      49.98|         Bike| Meal/Entertain|42.42|   1.0| 1012.14|    0.77|11.25|           26|       17|   40.769| -73.9549|       141|         3|    Johanna|    9181026109|            YES|      3.6|       YES|        Gpay|      0%|     49.98|Cancelled|\n",
      "| 1/2/2016 20:25| 1/2/2016 20:38| Frazier|8621617385| 27|   318886|      Fort Pierce|        YES|    Fort Pierce|  4.8|      47.04|         Bike|Errand/Supplies|42.43|   1.0| 1012.15|    0.76|11.32|           45|       24|  40.7267| -74.0345|        65|         4|    Charlot|    9855403124|            YES|      4.5|       YES|      Phonpe|      0%|     47.04|  Arrived|\n",
      "| 1/5/2016 17:31| 1/5/2016 17:45|  Editha|9954004976| 20|   318886|      Fort Pierce|        YES|    Fort Pierce|  4.7|      46.06|         Bike|        Meeting| 42.5|   1.0| 1012.15|    0.76|11.07|          731|       36|  40.7316| -73.9873|       100|         5|      Cissy|    9328907059|            YES|      4.8|       YES|       Paytm|      0%|     46.06| Assigned|\n",
      "| 1/6/2016 14:42| 1/6/2016 15:49|   Deeyn|9885727873| 34|   318886|      Fort Pierce|        YES|West Palm Beach| 63.7|     624.26|         Bike| Customer Visit|42.11|   1.0| 1012.13|    0.77|11.09|           10|        9|  40.7588| -73.9776|        80|         2|     Luelle|    9774674359|             NO|      4.9|       YES| Uber wallet|     10%|   561.834| Assigned|\n",
      "| 1/6/2016 17:15| 1/6/2016 17:19|  Correy|9661756645| 28|   475241|  West Palm Beach|         NO|West Palm Beach|  4.3|      42.14|         Bike| Meal/Entertain|43.13|   1.0| 1012.14|    0.75|11.49|          814|       62|  40.7594| -73.9722|        90|         3|      Myrle|    9425892986|             NO|      5.0|        NO|        cash|      0%|     42.14| Assigned|\n",
      "| 1/6/2016 17:30| 1/6/2016 17:35|   Bryan|8721880095| 50|   475241|  West Palm Beach|        YES|     Palm Beach|  7.1|      69.58|         Bike|        Meeting|42.34|   1.0| 1012.15|    0.77|11.49|          220|       46|  40.7383| -74.0403|       228|         4|     Duncan|    9611855033|            YES|      3.0|       YES| Uber wallet|     10%|    62.622|  Arrived|\n",
      "| 1/7/2016 13:27| 1/7/2016 13:33|  Crissy|8579258893| 68|   265814|             Cary|        YES|           Cary|  0.8|       7.84|         Bike|        Meeting|42.36|   1.0| 1012.15|    0.77|11.46|           36|       28|  40.7223| -73.9887|         7|         5|     Carine|    9700998304|            YES|      3.6|       YES| Uber wallet|     10%|     7.056| Assigned|\n",
      "| 1/10/2016 8:05| 1/10/2016 8:25|  Kendre|8900099665| 31|   265814|             Cary|        YES|    Morrisville|  8.3|      81.34|         Bike|        Meeting|42.21|   1.0| 1012.16|    0.77|11.37|         1137|      106|   40.762|  -73.979|        74|         5|   Collette|    9212537431|            YES|      3.9|       YES| Uber wallet|     10%|    73.206| Assigned|\n",
      "|1/10/2016 12:17|1/10/2016 12:44|   Aymer|9918333307| 47|   386077|          Jamaica|        YES|       New York| 16.5|      161.7|         Bike| Customer Visit|42.07|   1.0| 1012.12|    0.78|11.28|          236|      103|  40.7524|  -73.996|       249|         5|     Killie|    9426616674|             NO|      4.2|       YES| Uber wallet|     10%|    145.53|  Arrived|\n",
      "|1/10/2016 15:08|1/10/2016 15:51|  Gabbey|9050095157| 59|   125733|         New York|         NO|         Queens| 10.8|     105.84|         Bike|        Meeting|43.05|   1.0| 1012.12|    0.75|11.58|           47|       29|  40.7575| -73.9846|        22|         4|    Ellette|    8949025277|             NO|      4.8|        NO|        cash|      0%|    105.84| Assigned|\n",
      "|1/10/2016 18:18|1/10/2016 18:53|   Cammi|7884885405| 19|   646882|         Elmhurst|        YES|       New York|  7.5|       73.5|         Bike|        Meeting|42.09|   1.0| 1012.13|    0.78|11.41|         1792|      119|  40.7256| -73.9869|       263|         4|      Amara|    9247349792|            YES|      3.6|       YES|        Gpay|      0%|      73.5| Assigned|\n",
      "|1/10/2016 19:12|1/10/2016 19:32| Carlyle|8333928562| 22|   625132|          Midtown|        YES|    East Harlem|  6.2|      60.76|         Bike|        Meeting|43.28|  0.81|  990.81|    0.71|  8.3|           23|       13|  40.7591| -73.9684|        61|         3|     Ashlee|    9332965757|            YES|      4.5|       YES|        Gpay|      0%|     60.76|  Arrived|\n",
      "| 1/11/2016 8:55| 1/11/2016 9:21|Zedekiah|8283676665| 74|   210314|      East Harlem|        YES|          NoMad|  6.4|      62.72|         Bike| Temporary Site|43.27|   0.8|   990.8|    0.71|  8.3|           83|       20|  40.7271| -73.9803|       229|         3|        Kim|    9267421665|            YES|      4.8|       YES|      Phonpe|      0%|     62.72| Assigned|\n",
      "|1/11/2016 11:56|1/11/2016 12:03|   Sioux|8362408033| 75|   484320|Flatiron District|        YES|        Midtown|  1.6|      15.68|         Bike|Errand/Supplies|43.35|  0.82|  990.82|    0.71| 8.24|         1846|       86|  40.6463| -73.7896|       164|         5|      Jacky|    9472034451|             NO|      4.9|       YES|       Paytm|      0%|     15.68|  Arrived|\n",
      "|1/11/2016 13:32|1/11/2016 13:46| Mathian|9734846586| 62|   625132|          Midtown|         NO|   Midtown East|  1.7|      16.66|         Bike| Meal/Entertain|43.07|  0.82|  990.82|    0.72| 8.28|           57|       39|  40.7564| -73.9167|       237|         5|     Mikkel|    9117822322|             NO|      5.0|        NO| Uber wallet|     10%|    14.994|  Arrived|\n",
      "|1/11/2016 14:30|1/11/2016 14:43|  Maggie|7951534876| 36|   491563|     Midtown East|        YES|        Midtown|  1.9|      18.62|         Bike| Meal/Entertain|43.35|   0.8|   990.8|    0.71| 8.35|            9|        8|  40.7666| -73.9531|       142|         4|       Geri|    9738692778|            YES|      3.0|       YES|        cash|      0%|     18.62|  Arrived|\n",
      "|1/12/2016 12:33|1/12/2016 12:49| Maurice|7932768286| 40|   625132|          Midtown|        YES|  Hudson Square|  1.9|      18.62|         Bike| Meal/Entertain| 43.2|   0.8|  990.79|    0.71| 8.31|            4|        2|   40.758| -73.9761|       188|         5|  Stanislas|    9564616492|            YES|      3.6|       YES| Uber wallet|     10%|    16.758| Assigned|\n",
      "|1/12/2016 12:53|1/12/2016 13:09|    Timi|9323566102| 35|   509117|    Hudson Square|        YES|Lower Manhattan|  4.0|       39.2|         Bike| Meal/Entertain|43.24|   0.8|  990.79|    0.71| 8.32|           81|       37|  40.7238| -73.9821|       237|         5|       Yvon|    9985025265|            YES|      3.9|       YES| Uber wallet|     10%|     35.28|  Arrived|\n",
      "|1/12/2016 14:42|1/12/2016 14:56|   Janey|8572258661| 55|   223672|  Lower Manhattan|        YES|  Hudson Square|  1.8|      17.64|         Bike|Errand/Supplies|41.95|  0.81|  991.63|    0.73|10.87|         1765|      579|  40.7531| -74.0039|       224|         5|      Jaine|    9593730071|             NO|      4.2|       YES| Uber wallet|     10%|    15.876| Assigned|\n",
      "|1/12/2016 15:13|1/12/2016 15:28| Huntlee|9974250697| 32|   318886|      Fort Pierce|         NO| Hell's Kitchen|  2.4|      23.52|         Bike| Customer Visit|43.05|  0.81|  990.82|    0.72| 8.31|          766|       65|  40.7389| -74.0393|       238|         5|       Abbi|    9652057745|             NO|      4.8|        NO| Uber wallet|     10%|    21.168| Assigned|\n",
      "+---------------+---------------+--------+----------+---+---------+-----------------+-----------+---------------+-----+-----------+-------------+---------------+-----+------+--------+--------+-----+-------------+---------+---------+---------+----------+----------+-----------+--------------+---------------+---------+----------+------------+--------+----------+---------+\n",
      "only showing top 20 rows\n",
      "\n"
     ]
    }
   ],
   "source": [
    "df_data=spark.read.csv(\"Admin_data.csv\",header=True,inferSchema=True,mode=\"DROPMALFORMED\")\n",
    "df_data.show()"
   ]
  },
  {
   "cell_type": "code",
   "execution_count": 3,
   "id": "58d5f79b-394e-4b14-9b84-1dfb2907c7c4",
   "metadata": {},
   "outputs": [
    {
     "name": "stdout",
     "output_type": "stream",
     "text": [
      "+---------------+---------------+-----------+-------------------+-------------+-------+-----------------+---------------+-------------+---------+------------+---------------+--------------+----------------------+---------+----------------+------------+--------------+----------------+--------+-----------+\n",
      "|Pickup DateTime|  Drop DateTime|Driver Name|Driver Phone Number|Trip Distance|Trip ID|  Pickup Location|  Drop Location|Trip Duration|Trip Fare|Vehicle Type|   Trip Purpose|Passenger Name|Passenger Phone Number|Scheduled|Passenger Rating|Driver Rated|Payment Method|Payment Discount|Net Fare|Trip Status|\n",
      "+---------------+---------------+-----------+-------------------+-------------+-------+-----------------+---------------+-------------+---------+------------+---------------+--------------+----------------------+---------+----------------+------------+--------------+----------------+--------+-----------+\n",
      "| 1/1/2016 21:11| 1/1/2016 21:17|     Almire|         9298608912|           21| 318886|      Fort Pierce|    Fort Pierce|          5.1|    49.98|        Bike| Meal/Entertain|       Johanna|            9181026109|      YES|             3.6|         YES|          Gpay|              0%|   49.98|  Cancelled|\n",
      "| 1/2/2016 20:25| 1/2/2016 20:38|    Frazier|         8621617385|           27| 318886|      Fort Pierce|    Fort Pierce|          4.8|    47.04|        Bike|Errand/Supplies|       Charlot|            9855403124|      YES|             4.5|         YES|        Phonpe|              0%|   47.04|    Arrived|\n",
      "| 1/5/2016 17:31| 1/5/2016 17:45|     Editha|         9954004976|           20| 318886|      Fort Pierce|    Fort Pierce|          4.7|    46.06|        Bike|        Meeting|         Cissy|            9328907059|      YES|             4.8|         YES|         Paytm|              0%|   46.06|   Assigned|\n",
      "| 1/6/2016 14:42| 1/6/2016 15:49|      Deeyn|         9885727873|           34| 318886|      Fort Pierce|West Palm Beach|         63.7|   624.26|        Bike| Customer Visit|        Luelle|            9774674359|       NO|             4.9|         YES|   Uber wallet|             10%| 561.834|   Assigned|\n",
      "| 1/6/2016 17:15| 1/6/2016 17:19|     Correy|         9661756645|           28| 475241|  West Palm Beach|West Palm Beach|          4.3|    42.14|        Bike| Meal/Entertain|         Myrle|            9425892986|       NO|             5.0|          NO|          cash|              0%|   42.14|   Assigned|\n",
      "| 1/6/2016 17:30| 1/6/2016 17:35|      Bryan|         8721880095|           50| 475241|  West Palm Beach|     Palm Beach|          7.1|    69.58|        Bike|        Meeting|        Duncan|            9611855033|      YES|             3.0|         YES|   Uber wallet|             10%|  76.538|    Arrived|\n",
      "| 1/7/2016 13:27| 1/7/2016 13:33|     Crissy|         8579258893|           68| 265814|             Cary|           Cary|          0.8|     7.84|        Bike|        Meeting|        Carine|            9700998304|      YES|             3.6|         YES|   Uber wallet|             10%|   8.624|   Assigned|\n",
      "| 1/10/2016 8:05| 1/10/2016 8:25|     Kendre|         8900099665|           31| 265814|             Cary|    Morrisville|          8.3|    81.34|        Bike|        Meeting|      Collette|            9212537431|      YES|             3.9|         YES|   Uber wallet|             10%|  89.474|   Assigned|\n",
      "|1/10/2016 12:17|1/10/2016 12:44|      Aymer|         9918333307|           47| 386077|          Jamaica|       New York|         16.5|    161.7|        Bike| Customer Visit|        Killie|            9426616674|       NO|             4.2|         YES|   Uber wallet|             10%|  177.87|    Arrived|\n",
      "|1/10/2016 15:08|1/10/2016 15:51|     Gabbey|         9050095157|           59| 125733|         New York|         Queens|         10.8|   105.84|        Bike|        Meeting|       Ellette|            8949025277|       NO|             4.8|          NO|          cash|              0%|  105.84|   Assigned|\n",
      "|1/10/2016 18:18|1/10/2016 18:53|      Cammi|         7884885405|           19| 646882|         Elmhurst|       New York|          7.5|     73.5|        Bike|        Meeting|         Amara|            9247349792|      YES|             3.6|         YES|          Gpay|              0%|    73.5|   Assigned|\n",
      "|1/10/2016 19:12|1/10/2016 19:32|    Carlyle|         8333928562|           22| 625132|          Midtown|    East Harlem|          6.2|    60.76|        Bike|        Meeting|        Ashlee|            9332965757|      YES|             4.5|         YES|          Gpay|              0%|   60.76|    Arrived|\n",
      "| 1/11/2016 8:55| 1/11/2016 9:21|   Zedekiah|         8283676665|           74| 210314|      East Harlem|          NoMad|          6.4|    62.72|        Bike| Temporary Site|           Kim|            9267421665|      YES|             4.8|         YES|        Phonpe|              0%|   62.72|   Assigned|\n",
      "|1/11/2016 11:56|1/11/2016 12:03|      Sioux|         8362408033|           75| 484320|Flatiron District|        Midtown|          1.6|    15.68|        Bike|Errand/Supplies|         Jacky|            9472034451|       NO|             4.9|         YES|         Paytm|              0%|   15.68|    Arrived|\n",
      "|1/11/2016 13:32|1/11/2016 13:46|    Mathian|         9734846586|           62| 625132|          Midtown|   Midtown East|          1.7|    16.66|        Bike| Meal/Entertain|        Mikkel|            9117822322|       NO|             5.0|          NO|   Uber wallet|             10%|  14.994|    Arrived|\n",
      "|1/11/2016 14:30|1/11/2016 14:43|     Maggie|         7951534876|           36| 491563|     Midtown East|        Midtown|          1.9|    18.62|        Bike| Meal/Entertain|          Geri|            9738692778|      YES|             3.0|         YES|          cash|              0%|   18.62|    Arrived|\n",
      "|1/12/2016 12:33|1/12/2016 12:49|    Maurice|         7932768286|           40| 625132|          Midtown|  Hudson Square|          1.9|    18.62|        Bike| Meal/Entertain|     Stanislas|            9564616492|      YES|             3.6|         YES|   Uber wallet|             10%|  20.482|   Assigned|\n",
      "|1/12/2016 12:53|1/12/2016 13:09|       Timi|         9323566102|           35| 509117|    Hudson Square|Lower Manhattan|          4.0|     39.2|        Bike| Meal/Entertain|          Yvon|            9985025265|      YES|             3.9|         YES|   Uber wallet|             10%|   43.12|    Arrived|\n",
      "|1/12/2016 14:42|1/12/2016 14:56|      Janey|         8572258661|           55| 223672|  Lower Manhattan|  Hudson Square|          1.8|    17.64|        Bike|Errand/Supplies|         Jaine|            9593730071|       NO|             4.2|         YES|   Uber wallet|             10%|  19.404|   Assigned|\n",
      "|1/12/2016 15:13|1/12/2016 15:28|    Huntlee|         9974250697|           32| 318886|      Fort Pierce| Hell's Kitchen|          2.4|    23.52|        Bike| Customer Visit|          Abbi|            9652057745|       NO|             4.8|          NO|   Uber wallet|             10%|  25.872|   Assigned|\n",
      "+---------------+---------------+-----------+-------------------+-------------+-------+-----------------+---------------+-------------+---------+------------+---------------+--------------+----------------------+---------+----------------+------------+--------------+----------------+--------+-----------+\n",
      "only showing top 20 rows\n",
      "\n"
     ]
    }
   ],
   "source": [
    "df1_data=spark.read.csv(\"Customer_table.csv\",header=True,inferSchema=True,mode=\"DROPMALFORMED\")\n",
    "df1_data.show()"
   ]
  },
  {
   "cell_type": "code",
   "execution_count": 4,
   "id": "aed985e2-7fee-4f51-8014-1b2c7f24f0e4",
   "metadata": {
    "scrolled": true
   },
   "outputs": [
    {
     "name": "stdout",
     "output_type": "stream",
     "text": [
      "+---------------+---------------+--------+----------+---+------+-----------------+---------------+----+------+----+---------+----------+---+---+-----+-----+-----------+---+-------+---------+\n",
      "| 1/1/2016 21:11| 1/1/2016 21:17|  Almire|9298608912| 21|318886|     Fort Pierce6|   Fort Pierce7| 5.1|49.989|Bike|  Johanna|9181026109|  3|141|YES15|YES16|       Gpay| 0%|49.9819|Cancelled|\n",
      "+---------------+---------------+--------+----------+---+------+-----------------+---------------+----+------+----+---------+----------+---+---+-----+-----+-----------+---+-------+---------+\n",
      "| 1/2/2016 20:25| 1/2/2016 20:38| Frazier|8621617385| 27|318886|      Fort Pierce|    Fort Pierce| 4.8| 47.04|Bike|  Charlot|9855403124|  4| 65|  YES|  YES|     Phonpe| 0%|  47.04|  Arrived|\n",
      "| 1/5/2016 17:31| 1/5/2016 17:45|  Editha|9954004976| 20|318886|      Fort Pierce|    Fort Pierce| 4.7| 46.06|Bike|    Cissy|9328907059|  5|100|  YES|  YES|      Paytm| 0%|  46.06| Assigned|\n",
      "| 1/6/2016 14:42| 1/6/2016 15:49|   Deeyn|9885727873| 34|318886|      Fort Pierce|West Palm Beach|63.7|624.26|Bike|   Luelle|9774674359|  2| 80|   NO|  YES|Uber wallet|10%|561.834| Assigned|\n",
      "| 1/6/2016 17:15| 1/6/2016 17:19|  Correy|9661756645| 28|475241|  West Palm Beach|West Palm Beach| 4.3| 42.14|Bike|    Myrle|9425892986|  3| 90|   NO|   NO|       cash| 0%|  42.14| Assigned|\n",
      "| 1/6/2016 17:30| 1/6/2016 17:35|   Bryan|8721880095| 50|475241|  West Palm Beach|     Palm Beach| 7.1| 69.58|Bike|   Duncan|9611855033|  4|228|  YES|  YES|Uber wallet|10%| 62.622|  Arrived|\n",
      "| 1/7/2016 13:27| 1/7/2016 13:33|  Crissy|8579258893| 68|265814|             Cary|           Cary| 0.8|  7.84|Bike|   Carine|9700998304|  5|  7|  YES|  YES|Uber wallet|10%|  7.056| Assigned|\n",
      "| 1/10/2016 8:05| 1/10/2016 8:25|  Kendre|8900099665| 31|265814|             Cary|    Morrisville| 8.3| 81.34|Bike| Collette|9212537431|  5| 74|  YES|  YES|Uber wallet|10%| 73.206| Assigned|\n",
      "|1/10/2016 12:17|1/10/2016 12:44|   Aymer|9918333307| 47|386077|          Jamaica|       New York|16.5| 161.7|Bike|   Killie|9426616674|  5|249|   NO|  YES|Uber wallet|10%| 145.53|  Arrived|\n",
      "|1/10/2016 15:08|1/10/2016 15:51|  Gabbey|9050095157| 59|125733|         New York|         Queens|10.8|105.84|Bike|  Ellette|8949025277|  4| 22|   NO|   NO|       cash| 0%| 105.84| Assigned|\n",
      "|1/10/2016 18:18|1/10/2016 18:53|   Cammi|7884885405| 19|646882|         Elmhurst|       New York| 7.5|  73.5|Bike|    Amara|9247349792|  4|263|  YES|  YES|       Gpay| 0%|   73.5| Assigned|\n",
      "|1/10/2016 19:12|1/10/2016 19:32| Carlyle|8333928562| 22|625132|          Midtown|    East Harlem| 6.2| 60.76|Bike|   Ashlee|9332965757|  3| 61|  YES|  YES|       Gpay| 0%|  60.76|  Arrived|\n",
      "| 1/11/2016 8:55| 1/11/2016 9:21|Zedekiah|8283676665| 74|210314|      East Harlem|          NoMad| 6.4| 62.72|Bike|      Kim|9267421665|  3|229|  YES|  YES|     Phonpe| 0%|  62.72| Assigned|\n",
      "|1/11/2016 11:56|1/11/2016 12:03|   Sioux|8362408033| 75|484320|Flatiron District|        Midtown| 1.6| 15.68|Bike|    Jacky|9472034451|  5|164|   NO|  YES|      Paytm| 0%|  15.68|  Arrived|\n",
      "|1/11/2016 13:32|1/11/2016 13:46| Mathian|9734846586| 62|625132|          Midtown|   Midtown East| 1.7| 16.66|Bike|   Mikkel|9117822322|  5|237|   NO|   NO|Uber wallet|10%| 14.994|  Arrived|\n",
      "|1/11/2016 14:30|1/11/2016 14:43|  Maggie|7951534876| 36|491563|     Midtown East|        Midtown| 1.9| 18.62|Bike|     Geri|9738692778|  4|142|  YES|  YES|       cash| 0%|  18.62|  Arrived|\n",
      "|1/12/2016 12:33|1/12/2016 12:49| Maurice|7932768286| 40|625132|          Midtown|  Hudson Square| 1.9| 18.62|Bike|Stanislas|9564616492|  5|188|  YES|  YES|Uber wallet|10%| 16.758| Assigned|\n",
      "|1/12/2016 12:53|1/12/2016 13:09|    Timi|9323566102| 35|509117|    Hudson Square|Lower Manhattan| 4.0|  39.2|Bike|     Yvon|9985025265|  5|237|  YES|  YES|Uber wallet|10%|  35.28|  Arrived|\n",
      "|1/12/2016 14:42|1/12/2016 14:56|   Janey|8572258661| 55|223672|  Lower Manhattan|  Hudson Square| 1.8| 17.64|Bike|    Jaine|9593730071|  5|224|   NO|  YES|Uber wallet|10%| 15.876| Assigned|\n",
      "|1/12/2016 15:13|1/12/2016 15:28| Huntlee|9974250697| 32|318886|      Fort Pierce| Hell's Kitchen| 2.4| 23.52|Bike|     Abbi|9652057745|  5|238|   NO|   NO|Uber wallet|10%| 21.168| Assigned|\n",
      "|1/12/2016 15:42|1/12/2016 15:54|  Evania|9370194252| 66|318886|      Fort Pierce|        Midtown| 2.0|  19.6|Bike|     Mair|9111821429|  5|242|  YES|  YES|       cash| 0%|   19.6|Cancelled|\n",
      "+---------------+---------------+--------+----------+---+------+-----------------+---------------+----+------+----+---------+----------+---+---+-----+-----+-----------+---+-------+---------+\n",
      "only showing top 20 rows\n",
      "\n"
     ]
    }
   ],
   "source": [
    "df2_data=spark.read.csv(\"Riders_data.csv\",header=True,inferSchema=True,mode=\"DROPMALFORMED\")\n",
    "df2_data.show()"
   ]
  },
  {
   "cell_type": "code",
   "execution_count": 5,
   "id": "6d0d9cfa-9e4d-4779-a94a-828360517771",
   "metadata": {},
   "outputs": [
    {
     "data": {
      "text/plain": [
       "500"
      ]
     },
     "execution_count": 5,
     "metadata": {},
     "output_type": "execute_result"
    }
   ],
   "source": [
    "df_data.count()"
   ]
  },
  {
   "cell_type": "code",
   "execution_count": 6,
   "id": "2816e4a4-413b-4fba-aca8-ba1d5f16605f",
   "metadata": {},
   "outputs": [
    {
     "data": {
      "text/plain": [
       "500"
      ]
     },
     "execution_count": 6,
     "metadata": {},
     "output_type": "execute_result"
    }
   ],
   "source": [
    "df1_data.count()"
   ]
  },
  {
   "cell_type": "code",
   "execution_count": 7,
   "id": "6af87fc3-898a-4a05-a647-7b0aaf37e5e2",
   "metadata": {},
   "outputs": [
    {
     "data": {
      "text/plain": [
       "499"
      ]
     },
     "execution_count": 7,
     "metadata": {},
     "output_type": "execute_result"
    }
   ],
   "source": [
    "df2_data.count()"
   ]
  },
  {
   "cell_type": "code",
   "execution_count": 8,
   "id": "27273c59-2ad3-4b71-b0c2-0161d2a4dbbb",
   "metadata": {},
   "outputs": [
    {
     "name": "stdout",
     "output_type": "stream",
     "text": [
      "root\n",
      " |-- Start_time: string (nullable = true)\n",
      " |-- End_time: string (nullable = true)\n",
      " |-- Name: string (nullable = true)\n",
      " |-- Mobile: long (nullable = true)\n",
      " |-- Age: integer (nullable = true)\n",
      " |-- Pin-Codes: integer (nullable = true)\n",
      " |-- Source: string (nullable = true)\n",
      " |-- Vaccine_cus: string (nullable = true)\n",
      " |-- Destination: string (nullable = true)\n",
      " |-- Miles: double (nullable = true)\n",
      " |-- Est_Costing: double (nullable = true)\n",
      " |-- Ride_category: string (nullable = true)\n",
      " |-- Purpose: string (nullable = true)\n",
      " |-- temp: double (nullable = true)\n",
      " |-- clouds: double (nullable = true)\n",
      " |-- pressure: double (nullable = true)\n",
      " |-- humidity: double (nullable = true)\n",
      " |-- wind: double (nullable = true)\n",
      " |-- accquire_vehi: integer (nullable = true)\n",
      " |-- free_vehi: string (nullable = true)\n",
      " |-- Lattitute: double (nullable = true)\n",
      " |-- Longitude: double (nullable = true)\n",
      " |-- locationID: integer (nullable = true)\n",
      " |-- rating_cus: integer (nullable = true)\n",
      " |-- Riders_Name: string (nullable = true)\n",
      " |-- Riders_contact: long (nullable = true)\n",
      " |-- Trusted_Contact: string (nullable = true)\n",
      " |-- Rating_RI: double (nullable = true)\n",
      " |-- Vaccine_Ri: string (nullable = true)\n",
      " |-- Payment_mode: string (nullable = true)\n",
      " |-- Discount: string (nullable = true)\n",
      " |-- Final_cost: double (nullable = true)\n",
      " |-- Status: string (nullable = true)\n",
      "\n"
     ]
    }
   ],
   "source": [
    "df_data.printSchema()"
   ]
  },
  {
   "cell_type": "code",
   "execution_count": 9,
   "id": "d9332883-3d76-4af1-ba47-0c2df717fc5f",
   "metadata": {},
   "outputs": [
    {
     "name": "stdout",
     "output_type": "stream",
     "text": [
      "root\n",
      " |-- Pickup DateTime: string (nullable = true)\n",
      " |-- Drop DateTime: string (nullable = true)\n",
      " |-- Driver Name: string (nullable = true)\n",
      " |-- Driver Phone Number: long (nullable = true)\n",
      " |-- Trip Distance: integer (nullable = true)\n",
      " |-- Trip ID: integer (nullable = true)\n",
      " |-- Pickup Location: string (nullable = true)\n",
      " |-- Drop Location: string (nullable = true)\n",
      " |-- Trip Duration: double (nullable = true)\n",
      " |-- Trip Fare: double (nullable = true)\n",
      " |-- Vehicle Type: string (nullable = true)\n",
      " |-- Trip Purpose: string (nullable = true)\n",
      " |-- Passenger Name: string (nullable = true)\n",
      " |-- Passenger Phone Number: long (nullable = true)\n",
      " |-- Scheduled: string (nullable = true)\n",
      " |-- Passenger Rating: double (nullable = true)\n",
      " |-- Driver Rated: string (nullable = true)\n",
      " |-- Payment Method: string (nullable = true)\n",
      " |-- Payment Discount: string (nullable = true)\n",
      " |-- Net Fare: double (nullable = true)\n",
      " |-- Trip Status: string (nullable = true)\n",
      "\n"
     ]
    }
   ],
   "source": [
    "df1_data.printSchema()"
   ]
  },
  {
   "cell_type": "code",
   "execution_count": 10,
   "id": "57d4e511-ad91-4002-adff-83fdf85b6c95",
   "metadata": {},
   "outputs": [
    {
     "name": "stdout",
     "output_type": "stream",
     "text": [
      "root\n",
      " |-- 1/1/2016 21:11: string (nullable = true)\n",
      " |-- 1/1/2016 21:17: string (nullable = true)\n",
      " |-- Almire: string (nullable = true)\n",
      " |-- 9298608912: long (nullable = true)\n",
      " |-- 21: integer (nullable = true)\n",
      " |-- 318886: integer (nullable = true)\n",
      " |-- Fort Pierce6: string (nullable = true)\n",
      " |-- Fort Pierce7: string (nullable = true)\n",
      " |-- 5.1: double (nullable = true)\n",
      " |-- 49.989: double (nullable = true)\n",
      " |-- Bike: string (nullable = true)\n",
      " |-- Johanna: string (nullable = true)\n",
      " |-- 9181026109: long (nullable = true)\n",
      " |-- 3: integer (nullable = true)\n",
      " |-- 141: integer (nullable = true)\n",
      " |-- YES15: string (nullable = true)\n",
      " |-- YES16: string (nullable = true)\n",
      " |-- Gpay: string (nullable = true)\n",
      " |-- 0%: string (nullable = true)\n",
      " |-- 49.9819: double (nullable = true)\n",
      " |-- Cancelled: string (nullable = true)\n",
      "\n"
     ]
    }
   ],
   "source": [
    "df2_data.printSchema()"
   ]
  },
  {
   "cell_type": "markdown",
   "id": "ed631d7d-23b3-4712-a994-b97d4353a421",
   "metadata": {},
   "source": [
    "1.USE CASE\n",
    "How many no of customers take trip from same location."
   ]
  },
  {
   "cell_type": "code",
   "execution_count": 11,
   "id": "4d99d8e4-9098-4faa-8c10-b945ed99f3d1",
   "metadata": {},
   "outputs": [
    {
     "name": "stdout",
     "output_type": "stream",
     "text": [
      "+-----------------+---------------+\n",
      "|  Pickup Location|Total_Customers|\n",
      "+-----------------+---------------+\n",
      "|      Fort Pierce|            108|\n",
      "|          Midtown|             78|\n",
      "|  West Palm Beach|             54|\n",
      "|             Cary|             52|\n",
      "|  Lower Manhattan|             26|\n",
      "|     Midtown East|             26|\n",
      "|Flatiron District|             26|\n",
      "|      East Harlem|             26|\n",
      "|    Hudson Square|             26|\n",
      "|          Jamaica|             26|\n",
      "|         New York|             26|\n",
      "|         Elmhurst|             26|\n",
      "+-----------------+---------------+\n",
      "\n"
     ]
    },
    {
     "data": {
      "text/plain": [
       "12"
      ]
     },
     "execution_count": 11,
     "metadata": {},
     "output_type": "execute_result"
    }
   ],
   "source": [
    "from pyspark.sql.functions import count\n",
    "customer_counts = df1_data.groupBy(\"Pickup Location\").agg(count(\"Passenger Name\").alias(\"Total_Customers\")).orderBy(\"Total_Customers\", ascending=False)\n",
    "customer_counts.show()\n",
    "customer_counts.count()"
   ]
  },
  {
   "cell_type": "markdown",
   "id": "bd4473a3-cf05-4ad2-bbea-cd9f1ce9fb84",
   "metadata": {},
   "source": [
    "3.USECASE\n",
    "what are the longest locations of customer travelled."
   ]
  },
  {
   "cell_type": "code",
   "execution_count": 12,
   "id": "85699627-90e6-412c-bb9c-2b79d6407c7b",
   "metadata": {},
   "outputs": [
    {
     "name": "stdout",
     "output_type": "stream",
     "text": [
      "+---------------+----------------+-------------+\n",
      "|Pickup Location|   Drop Location|Trip Distance|\n",
      "+---------------+----------------+-------------+\n",
      "|    Fort Pierce|            Cary|           80|\n",
      "|    East Harlem|     Whitebridge|           80|\n",
      "|   Midtown East|          Durham|           80|\n",
      "|       Elmhurst|            Cary|           80|\n",
      "|           Cary|     Whitebridge|           80|\n",
      "|West Palm Beach|         Houston|           80|\n",
      "|    Fort Pierce|      Tanglewood|           80|\n",
      "|Lower Manhattan|     Morrisville|           80|\n",
      "|       New York|            Cary|           79|\n",
      "|    Fort Pierce|       Kissimmee|           79|\n",
      "|    Fort Pierce|            Cary|           79|\n",
      "|    Fort Pierce|    Port Bolivar|           79|\n",
      "|West Palm Beach|         Midtown|           79|\n",
      "|        Jamaica|       Kissimmee|           79|\n",
      "|        Midtown|            Cary|           79|\n",
      "|West Palm Beach|     Whitebridge|           79|\n",
      "|West Palm Beach|         Houston|           78|\n",
      "|  Hudson Square|            Apex|           78|\n",
      "|           Cary|Unknown Location|           78|\n",
      "|Lower Manhattan|Unknown Location|           78|\n",
      "+---------------+----------------+-------------+\n",
      "only showing top 20 rows\n",
      "\n"
     ]
    },
    {
     "data": {
      "text/plain": [
       "500"
      ]
     },
     "execution_count": 12,
     "metadata": {},
     "output_type": "execute_result"
    }
   ],
   "source": [
    "from pyspark.sql.functions import col\n",
    "longest_trips = df1_data.orderBy(col(\"Trip Distance\").desc()).select(\"Pickup Location\", \"Drop Location\", \"Trip Distance\")\n",
    "longest_trips.show()\n",
    "longest_trips.count()"
   ]
  },
  {
   "cell_type": "markdown",
   "id": "bfe35e63-e336-4cf7-bb64-b50938578b83",
   "metadata": {},
   "source": [
    "2.USECASE\n",
    "what is priority for each ride category from each location"
   ]
  },
  {
   "cell_type": "code",
   "execution_count": 13,
   "id": "8b2bc3ba-8146-4aa5-898d-55b2861f7573",
   "metadata": {},
   "outputs": [
    {
     "name": "stdout",
     "output_type": "stream",
     "text": [
      "+------+-------------+-----------+\n",
      "|Source|Ride_category|Total_Rides|\n",
      "+------+-------------+-----------+\n",
      "|  Cary|         Auto|         12|\n",
      "|  Cary|        Prime|         12|\n",
      "|  Cary|    Uber-Mini|         12|\n",
      "|  Cary|   Uber-Micro|          8|\n",
      "|  Cary|         Bike|          8|\n",
      "+------+-------------+-----------+\n",
      "only showing top 5 rows\n",
      "\n"
     ]
    }
   ],
   "source": [
    "ride_priority = df_data.groupBy(\"Source\", \"Ride_category\").agg(count(\"*\").alias(\"Total_Rides\")).orderBy(col(\"Source\"), col(\"Total_Rides\").desc())\n",
    "ride_priority.show(5)"
   ]
  },
  {
   "cell_type": "code",
   "execution_count": 14,
   "id": "8a6fb429-ee91-4c94-886c-073ce866ab38",
   "metadata": {},
   "outputs": [
    {
     "data": {
      "text/plain": [
       "60"
      ]
     },
     "execution_count": 14,
     "metadata": {},
     "output_type": "execute_result"
    }
   ],
   "source": [
    "ride_priority.count()"
   ]
  },
  {
   "cell_type": "markdown",
   "id": "1c7f876f-b02e-4877-9846-fa06107d0be0",
   "metadata": {},
   "source": [
    "8.USECASE\n",
    "who is the driver completed highest no of rides."
   ]
  },
  {
   "cell_type": "code",
   "execution_count": 15,
   "id": "4ed7cd72-de88-4366-879b-1bb0ec1fd780",
   "metadata": {},
   "outputs": [
    {
     "name": "stdout",
     "output_type": "stream",
     "text": [
      "+-----------+------------+\n",
      "|Driver Name|highest_ride|\n",
      "+-----------+------------+\n",
      "|    Mathian|           2|\n",
      "+-----------+------------+\n",
      "only showing top 1 row\n",
      "\n"
     ]
    }
   ],
   "source": [
    "ride_highest=df1_data.groupBy(\"Driver Name\").agg(count(\"*\").alias(\"highest_ride\")).orderBy(col(\"highest_ride\").desc())\n",
    "ride_highest.show(1)"
   ]
  },
  {
   "cell_type": "markdown",
   "id": "6c7b0419-6c75-4a03-ac07-52c5162a10a3",
   "metadata": {},
   "source": [
    "7.USECASE\n",
    "who is the customer completed highest no of rides."
   ]
  },
  {
   "cell_type": "code",
   "execution_count": 16,
   "id": "0bf8a92e-12b3-4b60-9c4c-5abe4285223b",
   "metadata": {},
   "outputs": [
    {
     "name": "stdout",
     "output_type": "stream",
     "text": [
      "+--------------+------------+\n",
      "|passenger Name|highest_ride|\n",
      "+--------------+------------+\n",
      "|          Cher|          10|\n",
      "+--------------+------------+\n",
      "only showing top 1 row\n",
      "\n"
     ]
    }
   ],
   "source": [
    "ride_highest=df1_data.groupBy(\"passenger Name\").agg(count(\"*\").alias(\"highest_ride\")).orderBy(col(\"highest_ride\").desc())\n",
    "ride_highest.show(1)"
   ]
  },
  {
   "cell_type": "markdown",
   "id": "b0950ee0-0a9f-421d-aba2-814af1eb5f05",
   "metadata": {},
   "source": [
    "4.USECASE\n",
    "Drivers who completed ride with non-vaccinated customers."
   ]
  },
  {
   "cell_type": "code",
   "execution_count": 17,
   "id": "60704087-252a-4bce-bab7-a3cd70323003",
   "metadata": {},
   "outputs": [
    {
     "name": "stdout",
     "output_type": "stream",
     "text": [
      "+-------+---+\n",
      "|   Name|Age|\n",
      "+-------+---+\n",
      "| Correy| 28|\n",
      "| Gabbey| 59|\n",
      "|Mathian| 62|\n",
      "|Huntlee| 32|\n",
      "|   Clim| 78|\n",
      "+-------+---+\n",
      "only showing top 5 rows\n",
      "\n"
     ]
    }
   ],
   "source": [
    "non_vaccinated = df_data.filter(df_data.Vaccine_cus==\"NO\").select(\"Name\",\"Age\")\n",
    "non_vaccinated.show(5)"
   ]
  },
  {
   "cell_type": "code",
   "execution_count": 18,
   "id": "8b676411-da06-46ae-b309-4cf287bf7103",
   "metadata": {},
   "outputs": [
    {
     "data": {
      "text/plain": [
       "100"
      ]
     },
     "execution_count": 18,
     "metadata": {},
     "output_type": "execute_result"
    }
   ],
   "source": [
    "non_vaccinated.count()"
   ]
  },
  {
   "cell_type": "markdown",
   "id": "806da225-78c3-413c-9a90-43912604d918",
   "metadata": {},
   "source": [
    "5.USECASE How many vaccinated customers have travelled."
   ]
  },
  {
   "cell_type": "code",
   "execution_count": 19,
   "id": "71994d08-8e8d-477e-9d8d-b0d3fb09f2dd",
   "metadata": {},
   "outputs": [
    {
     "name": "stdout",
     "output_type": "stream",
     "text": [
      "+-------+---+\n",
      "|   Name|Age|\n",
      "+-------+---+\n",
      "| Almire| 21|\n",
      "|Frazier| 27|\n",
      "| Editha| 20|\n",
      "|  Deeyn| 34|\n",
      "|  Bryan| 50|\n",
      "+-------+---+\n",
      "only showing top 5 rows\n",
      "\n"
     ]
    }
   ],
   "source": [
    "vacc_cus=df_data.filter(df_data.Vaccine_cus==\"YES\").select(\"Name\",\"Age\")\n",
    "vacc_cus.show(5)"
   ]
  },
  {
   "cell_type": "code",
   "execution_count": 20,
   "id": "e84b227e-73a6-4e93-9516-e62e2731c784",
   "metadata": {},
   "outputs": [
    {
     "data": {
      "text/plain": [
       "400"
      ]
     },
     "execution_count": 20,
     "metadata": {},
     "output_type": "execute_result"
    }
   ],
   "source": [
    "vacc_cus.count()"
   ]
  },
  {
   "cell_type": "markdown",
   "id": "9eccdabe-0bb3-4e32-b37d-77533210f421",
   "metadata": {},
   "source": [
    "6.Customers who completed ride with non-vaccinated Drivers."
   ]
  },
  {
   "cell_type": "code",
   "execution_count": 21,
   "id": "78743edf-6bd5-48df-ad85-16ff7798cc7f",
   "metadata": {},
   "outputs": [
    {
     "name": "stdout",
     "output_type": "stream",
     "text": [
      "+-----------+--------------+\n",
      "|Riders_Name|Riders_Contact|\n",
      "+-----------+--------------+\n",
      "|      Myrle|    9425892986|\n",
      "|    Ellette|    8949025277|\n",
      "|     Mikkel|    9117822322|\n",
      "|       Abbi|    9652057745|\n",
      "|       Dora|    9878699673|\n",
      "+-----------+--------------+\n",
      "only showing top 5 rows\n",
      "\n"
     ]
    }
   ],
   "source": [
    "nonvacc_rider=df_data.filter(df_data.Vaccine_Ri==\"NO\").select(\"Riders_Name\",\"Riders_Contact\")\n",
    "nonvacc_rider.show(5)"
   ]
  },
  {
   "cell_type": "code",
   "execution_count": 22,
   "id": "3e279400-3566-40bf-9bf3-487a2ba3f919",
   "metadata": {},
   "outputs": [
    {
     "data": {
      "text/plain": [
       "100"
      ]
     },
     "execution_count": 22,
     "metadata": {},
     "output_type": "execute_result"
    }
   ],
   "source": [
    "nonvacc_rider.count()"
   ]
  },
  {
   "cell_type": "markdown",
   "id": "6cfa037f-9ed8-4e57-98e1-d9988e0d1bce",
   "metadata": {},
   "source": [
    "10.USECASE : what is the count of different destination locations from same start location and also completed ride"
   ]
  },
  {
   "cell_type": "code",
   "execution_count": 23,
   "id": "81fce954-21ef-4fd1-ae53-7bda59836efc",
   "metadata": {},
   "outputs": [
    {
     "name": "stdout",
     "output_type": "stream",
     "text": [
      "+---------------+---------------+-----------+-------------------+-------------+-------+-----------------+---------------+-------------+---------+------------+---------------+--------------+----------------------+---------+----------------+------------+--------------+----------------+--------+-----------+\n",
      "|Pickup DateTime|  Drop DateTime|Driver Name|Driver Phone Number|Trip Distance|Trip ID|  Pickup Location|  Drop Location|Trip Duration|Trip Fare|Vehicle Type|   Trip Purpose|Passenger Name|Passenger Phone Number|Scheduled|Passenger Rating|Driver Rated|Payment Method|Payment Discount|Net Fare|Trip Status|\n",
      "+---------------+---------------+-----------+-------------------+-------------+-------+-----------------+---------------+-------------+---------+------------+---------------+--------------+----------------------+---------+----------------+------------+--------------+----------------+--------+-----------+\n",
      "| 1/6/2016 17:30| 1/6/2016 17:35|      Bryan|         8721880095|           50| 475241|  West Palm Beach|     Palm Beach|          7.1|    69.58|        Bike|        Meeting|        Duncan|            9611855033|      YES|             3.0|         YES|   Uber wallet|             10%|  76.538|    Arrived|\n",
      "|1/10/2016 12:17|1/10/2016 12:44|      Aymer|         9918333307|           47| 386077|          Jamaica|       New York|         16.5|    161.7|        Bike| Customer Visit|        Killie|            9426616674|       NO|             4.2|         YES|   Uber wallet|             10%|  177.87|    Arrived|\n",
      "|1/10/2016 19:12|1/10/2016 19:32|    Carlyle|         8333928562|           22| 625132|          Midtown|    East Harlem|          6.2|    60.76|        Bike|        Meeting|        Ashlee|            9332965757|      YES|             4.5|         YES|          Gpay|              0%|   60.76|    Arrived|\n",
      "|1/11/2016 11:56|1/11/2016 12:03|      Sioux|         8362408033|           75| 484320|Flatiron District|        Midtown|          1.6|    15.68|        Bike|Errand/Supplies|         Jacky|            9472034451|       NO|             4.9|         YES|         Paytm|              0%|   15.68|    Arrived|\n",
      "|1/11/2016 13:32|1/11/2016 13:46|    Mathian|         9734846586|           62| 625132|          Midtown|   Midtown East|          1.7|    16.66|        Bike| Meal/Entertain|        Mikkel|            9117822322|       NO|             5.0|          NO|   Uber wallet|             10%|  14.994|    Arrived|\n",
      "|1/11/2016 14:30|1/11/2016 14:43|     Maggie|         7951534876|           36| 491563|     Midtown East|        Midtown|          1.9|    18.62|        Bike| Meal/Entertain|          Geri|            9738692778|      YES|             3.0|         YES|          cash|              0%|   18.62|    Arrived|\n",
      "|1/12/2016 12:53|1/12/2016 13:09|       Timi|         9323566102|           35| 509117|    Hudson Square|Lower Manhattan|          4.0|     39.2|        Bike| Meal/Entertain|          Yvon|            9985025265|      YES|             3.9|         YES|   Uber wallet|             10%|   43.12|    Arrived|\n",
      "|1/12/2016 16:02|1/12/2016 17:00|      Mayne|         9557445925|           50| 318886|      Fort Pierce|  Queens County|         15.1|   147.98|        Bike|        Meeting|       Teriann|            9115587792|      YES|             4.5|         YES|          Gpay|              0%|  147.98|    Arrived|\n",
      "|1/13/2016 13:54|1/13/2016 14:07|       Iain|         9313837934|           35| 318886|      Fort Pierce|        Gulfton|         11.2|   109.76|        Bike|        Meeting|       Carmine|            9904076761|      YES|             4.8|         YES|          Gpay|              0%|  109.76|    Arrived|\n",
      "|1/13/2016 15:00|1/13/2016 15:28|      Moore|         8692496691|           33| 475241|  West Palm Beach|       Downtown|         11.8|   115.64|        Bike|        Meeting|         Margi|            9843393882|       NO|             4.9|         YES|        Phonpe|              0%|  115.64|    Arrived|\n",
      "+---------------+---------------+-----------+-------------------+-------------+-------+-----------------+---------------+-------------+---------+------------+---------------+--------------+----------------------+---------+----------------+------------+--------------+----------------+--------+-----------+\n",
      "only showing top 10 rows\n",
      "\n"
     ]
    },
    {
     "data": {
      "text/plain": [
       "217"
      ]
     },
     "execution_count": 23,
     "metadata": {},
     "output_type": "execute_result"
    }
   ],
   "source": [
    "completed_ride=df1_data.select(\"*\").where((col(\"Pickup Location\")!=col(\"Drop Location\"))& (col(\"Trip Status\")==\"Arrived\"))\n",
    "completed_ride.show(10)\n",
    "completed_ride.count()"
   ]
  },
  {
   "cell_type": "code",
   "execution_count": 24,
   "id": "56cd2cc1-ee82-4bb2-9cc4-04f81b1359e5",
   "metadata": {},
   "outputs": [
    {
     "name": "stdout",
     "output_type": "stream",
     "text": [
      "+-----------------+------------------+\n",
      "|  Pickup Location|unique_destination|\n",
      "+-----------------+------------------+\n",
      "|      Fort Pierce|                47|\n",
      "|  Lower Manhattan|                 9|\n",
      "|          Midtown|                36|\n",
      "|     Midtown East|                16|\n",
      "|Flatiron District|                15|\n",
      "|      East Harlem|                10|\n",
      "|    Hudson Square|                 9|\n",
      "|  West Palm Beach|                30|\n",
      "|          Jamaica|                12|\n",
      "|             Cary|                17|\n",
      "+-----------------+------------------+\n",
      "only showing top 10 rows\n",
      "\n"
     ]
    }
   ],
   "source": [
    "diff_destination=completed_ride.groupBy(\"Pickup Location\").agg(count(\"Drop Location\").alias(\"unique_destination\"))\n",
    "diff_destination.show(10)"
   ]
  },
  {
   "cell_type": "code",
   "execution_count": 25,
   "id": "2e2a1232-63ed-4a64-aff4-5531530e252e",
   "metadata": {},
   "outputs": [
    {
     "data": {
      "text/plain": [
       "12"
      ]
     },
     "execution_count": 25,
     "metadata": {},
     "output_type": "execute_result"
    }
   ],
   "source": [
    "diff_destination.count()"
   ]
  },
  {
   "cell_type": "markdown",
   "id": "0f322615-387e-4866-b464-63caba8e5e84",
   "metadata": {},
   "source": [
    "11.USECASE what is the most expensive Drive. "
   ]
  },
  {
   "cell_type": "code",
   "execution_count": 29,
   "id": "42049f9b-f22b-4182-90be-4899f67729f9",
   "metadata": {},
   "outputs": [
    {
     "name": "stdout",
     "output_type": "stream",
     "text": [
      "+-----------------+----------------+---------+\n",
      "|  Pickup Location|   Drop Location|Trip Fare|\n",
      "+-----------------+----------------+---------+\n",
      "|      Fort Pierce|            Katy|   3400.0|\n",
      "|      Fort Pierce|    Jacksonville|  3040.94|\n",
      "|          Midtown|       Ridgeland|   2613.0|\n",
      "|Flatiron District|            Cary|   2389.5|\n",
      "|      East Harlem|        Florence|   2160.0|\n",
      "|      Fort Pierce|       Kissimmee|   1969.8|\n",
      "|      Fort Pierce|         Houston|   1710.0|\n",
      "|      Fort Pierce|           Latta|   1411.2|\n",
      "|             Cary|Unknown Location|   1311.0|\n",
      "|         Elmhurst|    Jacksonville|   1207.5|\n",
      "+-----------------+----------------+---------+\n",
      "only showing top 10 rows\n",
      "\n"
     ]
    }
   ],
   "source": [
    "expn_drive=df1_data.select(\"Pickup Location\",\"Drop Location\",\"Trip Fare\").where(col(\"Pickup Location\")!=col(\"Drop Location\")).orderBy(col(\"Trip Fare\").desc()) \n",
    "expn_drive.show(10)"
   ]
  },
  {
   "cell_type": "code",
   "execution_count": 30,
   "id": "5f55b6d3-cb07-42ea-ae5b-d04d05440958",
   "metadata": {},
   "outputs": [
    {
     "data": {
      "text/plain": [
       "482"
      ]
     },
     "execution_count": 30,
     "metadata": {},
     "output_type": "execute_result"
    }
   ],
   "source": [
    "expn_drive.count()"
   ]
  },
  {
   "cell_type": "code",
   "execution_count": 31,
   "id": "c20acece-86bf-434d-a5cc-8b3164b8cfaa",
   "metadata": {},
   "outputs": [
    {
     "name": "stdout",
     "output_type": "stream",
     "text": [
      "+-----------------+----------------+--------+\n",
      "|  Pickup Location|   Drop Location|Net Fare|\n",
      "+-----------------+----------------+--------+\n",
      "|      Fort Pierce|    Jacksonville|3345.034|\n",
      "|      Fort Pierce|            Katy|  3060.0|\n",
      "|          Midtown|       Ridgeland|  2613.0|\n",
      "|Flatiron District|            Cary|  2389.5|\n",
      "|      Fort Pierce|       Kissimmee| 2166.78|\n",
      "|      East Harlem|        Florence|  1944.0|\n",
      "|      Fort Pierce|         Houston|  1710.0|\n",
      "|      Fort Pierce|           Latta| 1552.32|\n",
      "|             Cary|Unknown Location|  1311.0|\n",
      "|         Elmhurst|    Jacksonville|  1207.5|\n",
      "+-----------------+----------------+--------+\n",
      "only showing top 10 rows\n",
      "\n"
     ]
    }
   ],
   "source": [
    "expn_drive=df1_data.select(\"Pickup Location\",\"Drop Location\",\"Net Fare\").where(col(\"Pickup Location\")!=col(\"Drop Location\")).orderBy(col(\"Net Fare\").desc()) \n",
    "expn_drive.show(10)"
   ]
  },
  {
   "cell_type": "code",
   "execution_count": 32,
   "id": "c5470885-cf4b-48b5-8dd2-0a8306bbd795",
   "metadata": {},
   "outputs": [
    {
     "data": {
      "text/plain": [
       "482"
      ]
     },
     "execution_count": 32,
     "metadata": {},
     "output_type": "execute_result"
    }
   ],
   "source": [
    "expn_drive.count()"
   ]
  },
  {
   "cell_type": "markdown",
   "id": "494c4c57-2075-4b28-b7aa-2e7ce10e1fdd",
   "metadata": {},
   "source": [
    "9.USECASE what are first 10 age groups which uses uber services mostly."
   ]
  },
  {
   "cell_type": "code",
   "execution_count": 34,
   "id": "c8be43e1-c088-445f-9f1b-4ba4db84cf45",
   "metadata": {},
   "outputs": [],
   "source": [
    "from pyspark.sql.functions import when\n",
    "df_age=df_data.withColumn(\"age_group\",when(col(\"age\").between(18,25),\"18-25\").when(col(\"age\").between(26,35),\"26-35\").when(col(\"age\").between(36,45),\"36-45\").when(col(\"age\").between(46,55),\"46-55\").otherwise(\"66+\"))\n",
    "                          "
   ]
  },
  {
   "cell_type": "code",
   "execution_count": null,
   "id": "41237bc5-af9e-440a-9fd8-31589dcee17c",
   "metadata": {},
   "outputs": [],
   "source": [
    "age_group_count=df_age.groupBy(\"age_group\").count()\n",
    "age_gro"
   ]
  }
 ],
 "metadata": {
  "kernelspec": {
   "display_name": "PySpark",
   "language": "python",
   "name": "pyspark"
  },
  "language_info": {
   "codemirror_mode": {
    "name": "ipython",
    "version": 3
   },
   "file_extension": ".py",
   "mimetype": "text/x-python",
   "name": "python",
   "nbconvert_exporter": "python",
   "pygments_lexer": "ipython3",
   "version": "3.11.0"
  }
 },
 "nbformat": 4,
 "nbformat_minor": 5
}
