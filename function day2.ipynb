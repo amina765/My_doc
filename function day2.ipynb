{
 "cells": [
  {
   "cell_type": "code",
   "execution_count": 9,
   "id": "cc055e02-d9e9-436c-9c80-86db35354f71",
   "metadata": {},
   "outputs": [
    {
     "data": {
      "text/plain": [
       "3"
      ]
     },
     "execution_count": 9,
     "metadata": {},
     "output_type": "execute_result"
    }
   ],
   "source": [
    "#case1\n",
    "def say(x,y):\n",
    "    prod = x+y\n",
    "    return prod\n",
    "say(1,2)"
   ]
  },
  {
   "cell_type": "code",
   "execution_count": 10,
   "id": "ab2eceb8-d80b-42d6-8292-d8e754be9d06",
   "metadata": {},
   "outputs": [
    {
     "data": {
      "text/plain": [
       "3"
      ]
     },
     "execution_count": 10,
     "metadata": {},
     "output_type": "execute_result"
    }
   ],
   "source": [
    "#case2\n",
    "def say(x,y):\n",
    "    prod = x+y\n",
    "    return prod\n",
    "say(1,2)"
   ]
  },
  {
   "cell_type": "code",
   "execution_count": 11,
   "id": "d0491052-9c15-47b7-a8ac-ca4fbfb5a2f6",
   "metadata": {},
   "outputs": [
    {
     "data": {
      "text/plain": [
       "3"
      ]
     },
     "execution_count": 11,
     "metadata": {},
     "output_type": "execute_result"
    }
   ],
   "source": [
    "#case3\n",
    "def say(x=1,y=1):\n",
    "    prod = x+y\n",
    "    return prod\n",
    "say(1,2)"
   ]
  },
  {
   "cell_type": "code",
   "execution_count": 12,
   "id": "0dd05216-22aa-4ead-98a7-9388426cfec6",
   "metadata": {},
   "outputs": [
    {
     "data": {
      "text/plain": [
       "8"
      ]
     },
     "execution_count": 12,
     "metadata": {},
     "output_type": "execute_result"
    }
   ],
   "source": [
    "#case4\n",
    "def say(x,y=1,z=4):\n",
    "    prod = x+y+z\n",
    "    return prod\n",
    "say(2,z=5)"
   ]
  },
  {
   "cell_type": "code",
   "execution_count": 13,
   "id": "1edd7a45-f374-4620-9576-8828ba0e9d64",
   "metadata": {},
   "outputs": [
    {
     "data": {
      "text/plain": [
       "'C:\\\\Users\\\\Administrator'"
      ]
     },
     "execution_count": 13,
     "metadata": {},
     "output_type": "execute_result"
    }
   ],
   "source": [
    "import os\n",
    "os.getcwd()"
   ]
  },
  {
   "cell_type": "code",
   "execution_count": 68,
   "id": "3ed34754-de89-41c5-94e9-00f7db082894",
   "metadata": {},
   "outputs": [],
   "source": [
    "import os\n",
    "os.getenv(\"C:\\\\Users\\\\Administrator\")\n",
    "mypage = open(\"mywrld.txt\",\"w\")\n",
    "mypage.write(\"welcome to my world\\n\")\n",
    "mypage.close()"
   ]
  },
  {
   "cell_type": "code",
   "execution_count": 69,
   "id": "19acdae4-8eda-42f8-9d37-aa3d7109cfc0",
   "metadata": {},
   "outputs": [
    {
     "data": {
      "text/plain": [
       "'welcome to my world\\n'"
      ]
     },
     "execution_count": 69,
     "metadata": {},
     "output_type": "execute_result"
    }
   ],
   "source": [
    "mypage = open(\"mywrld.txt\",\"r\")\n",
    "mypage.read()"
   ]
  },
  {
   "cell_type": "code",
   "execution_count": 70,
   "id": "66297bb9-7220-420a-97de-2b4092925cd7",
   "metadata": {},
   "outputs": [
    {
     "data": {
      "text/plain": [
       "'welco'"
      ]
     },
     "execution_count": 70,
     "metadata": {},
     "output_type": "execute_result"
    }
   ],
   "source": [
    "mypage = open(\"mywrld.txt\",\"r\")\n",
    "mypage.read(5)"
   ]
  },
  {
   "cell_type": "code",
   "execution_count": 71,
   "id": "16c1b1bc-1f58-4737-bf72-315c1717ebc7",
   "metadata": {},
   "outputs": [
    {
     "data": {
      "text/plain": [
       "'welcome t'"
      ]
     },
     "execution_count": 71,
     "metadata": {},
     "output_type": "execute_result"
    }
   ],
   "source": [
    "mypage = open(\"mywrld.txt\",\"r\")\n",
    "mypage.read(9)"
   ]
  },
  {
   "cell_type": "code",
   "execution_count": 72,
   "id": "c9ca77da-1eef-4f2a-9c19-42fc108e75e6",
   "metadata": {},
   "outputs": [
    {
     "data": {
      "text/plain": [
       "9"
      ]
     },
     "execution_count": 72,
     "metadata": {},
     "output_type": "execute_result"
    }
   ],
   "source": [
    "mypage.tell()"
   ]
  },
  {
   "cell_type": "code",
   "execution_count": 73,
   "id": "6f739d46-2d92-48e9-9c93-59b9c1a8b2a9",
   "metadata": {},
   "outputs": [
    {
     "data": {
      "text/plain": [
       "3"
      ]
     },
     "execution_count": 73,
     "metadata": {},
     "output_type": "execute_result"
    }
   ],
   "source": [
    "mypage.seek(3)"
   ]
  },
  {
   "cell_type": "code",
   "execution_count": 74,
   "id": "16ea378d-7e05-43f4-b64b-1642e5c82cec",
   "metadata": {},
   "outputs": [
    {
     "name": "stdout",
     "output_type": "stream",
     "text": [
      "come to my world\n",
      "\n"
     ]
    }
   ],
   "source": [
    "print(mypage.read())"
   ]
  },
  {
   "cell_type": "code",
   "execution_count": 75,
   "id": "4931af40-d951-4a27-b75a-e16a1121c742",
   "metadata": {},
   "outputs": [],
   "source": [
    "mypage=open(\"mywrld.txt\",\"a\")\n",
    "mypage.write(\"i am amina from ust\")\n",
    "mypage.close()"
   ]
  },
  {
   "cell_type": "code",
   "execution_count": 76,
   "id": "96eb9eca-42b0-4395-816d-623378283eed",
   "metadata": {},
   "outputs": [
    {
     "data": {
      "text/plain": [
       "'welcome to my world\\n'"
      ]
     },
     "execution_count": 76,
     "metadata": {},
     "output_type": "execute_result"
    }
   ],
   "source": [
    "mypage = open(\"mywrld.txt\",\"r\")\n",
    "mypage.readline()"
   ]
  },
  {
   "cell_type": "code",
   "execution_count": 77,
   "id": "316037e0-e7af-4b10-bbda-c1f50995c424",
   "metadata": {},
   "outputs": [
    {
     "data": {
      "text/plain": [
       "'i am amina from ust'"
      ]
     },
     "execution_count": 77,
     "metadata": {},
     "output_type": "execute_result"
    }
   ],
   "source": [
    "mypage.readline()"
   ]
  },
  {
   "cell_type": "code",
   "execution_count": 80,
   "id": "7658f8ff-1983-45dd-8aa4-564a4693e03c",
   "metadata": {},
   "outputs": [
    {
     "data": {
      "text/plain": [
       "['welcome to my world\\n', 'i am amina from ust']"
      ]
     },
     "execution_count": 80,
     "metadata": {},
     "output_type": "execute_result"
    }
   ],
   "source": [
    "mypage = open(\"mywrld.txt\",\"r\")\n",
    "mypage.readlines()"
   ]
  },
  {
   "cell_type": "code",
   "execution_count": 81,
   "id": "51f98e49-92b4-4614-afa4-b3be1932e967",
   "metadata": {},
   "outputs": [],
   "source": [
    "#change the directory\n",
    "os.chdir(\"C:/Users/Administrator/Downloads\")"
   ]
  },
  {
   "cell_type": "code",
   "execution_count": 82,
   "id": "5477eb21-7dc2-4924-ae2b-0bd3e2c27377",
   "metadata": {},
   "outputs": [
    {
     "data": {
      "text/plain": [
       "'C:\\\\Users\\\\Administrator\\\\Downloads'"
      ]
     },
     "execution_count": 82,
     "metadata": {},
     "output_type": "execute_result"
    }
   ],
   "source": [
    "os.getcwd()"
   ]
  },
  {
   "cell_type": "code",
   "execution_count": 83,
   "id": "22a01ff7-df49-40b1-a1c4-9ac7d7926ea2",
   "metadata": {},
   "outputs": [
    {
     "data": {
      "text/plain": [
       "[b'desktop.ini', b'mywrld.txt', b'python base.ipynb']"
      ]
     },
     "execution_count": 83,
     "metadata": {},
     "output_type": "execute_result"
    }
   ],
   "source": [
    "#list of files and directory\n",
    "os.listdir(os.getcwdb())"
   ]
  },
  {
   "cell_type": "code",
   "execution_count": 84,
   "id": "bbc64b58-5aee-4241-97e4-9b7ab823aa69",
   "metadata": {},
   "outputs": [],
   "source": [
    "os.mkdir(\"Amina\")"
   ]
  },
  {
   "cell_type": "code",
   "execution_count": 85,
   "id": "50a3e02f-ec54-4158-8376-655a46a31f21",
   "metadata": {},
   "outputs": [
    {
     "data": {
      "text/plain": [
       "[b'Amina', b'desktop.ini', b'mywrld.txt', b'python base.ipynb']"
      ]
     },
     "execution_count": 85,
     "metadata": {},
     "output_type": "execute_result"
    }
   ],
   "source": [
    "os.listdir(os.getcwdb())"
   ]
  },
  {
   "cell_type": "code",
   "execution_count": 86,
   "id": "d9e76a29-94ed-48e5-abea-10f26be964ae",
   "metadata": {},
   "outputs": [],
   "source": [
    "#delete a directorty\n",
    "os.rmdir(\"Amina\")"
   ]
  },
  {
   "cell_type": "code",
   "execution_count": 87,
   "id": "47230fe2-b745-4c8f-9eed-f5d0c5978b51",
   "metadata": {},
   "outputs": [
    {
     "data": {
      "text/plain": [
       "[b'desktop.ini', b'mywrld.txt', b'python base.ipynb']"
      ]
     },
     "execution_count": 87,
     "metadata": {},
     "output_type": "execute_result"
    }
   ],
   "source": [
    "os.listdir(os.getcwdb())"
   ]
  },
  {
   "cell_type": "code",
   "execution_count": 103,
   "id": "db4049d5-a828-4232-aad7-bcfc715157b7",
   "metadata": {},
   "outputs": [],
   "source": [
    "os.mkdir(\"Amina\")"
   ]
  },
  {
   "cell_type": "code",
   "execution_count": 104,
   "id": "7d821c9b-00dd-4a55-8009-2da6192f0942",
   "metadata": {},
   "outputs": [
    {
     "data": {
      "text/plain": [
       "'C:\\\\Users\\\\Administrator\\\\Downloads'"
      ]
     },
     "execution_count": 104,
     "metadata": {},
     "output_type": "execute_result"
    }
   ],
   "source": [
    "os.getcwd()"
   ]
  },
  {
   "cell_type": "code",
   "execution_count": 105,
   "id": "3bc0b561-1b6d-416f-8af3-47105d5c8591",
   "metadata": {},
   "outputs": [],
   "source": [
    "import shutil\n",
    "os.getenv(\"C:\\\\Users\\\\Administrator\\\\Downloads\\\\Amina\")\n",
    "mypage = open(\"my.txt\",\"w\")\n",
    "mypage.write(\"Hello my world\\n\")\n",
    "mypage.close()"
   ]
  },
  {
   "cell_type": "code",
   "execution_count": 107,
   "id": "c8f540a8-432c-4d34-9d9b-b1da3447774b",
   "metadata": {},
   "outputs": [
    {
     "data": {
      "text/plain": [
       "'C:\\\\Users\\\\Administrator\\\\Downloads'"
      ]
     },
     "execution_count": 107,
     "metadata": {},
     "output_type": "execute_result"
    }
   ],
   "source": [
    "os.getcwd()"
   ]
  },
  {
   "cell_type": "code",
   "execution_count": 108,
   "id": "d8cdcb12-855e-496c-89c4-95e311fd26ea",
   "metadata": {},
   "outputs": [],
   "source": [
    "os.chdir(\"C:\\\\Users\\\\Administrator\\\\Downloads\\\\Amina\")"
   ]
  },
  {
   "cell_type": "code",
   "execution_count": 109,
   "id": "f628c4ca-d828-44c2-9ed6-68655d52c8ba",
   "metadata": {},
   "outputs": [
    {
     "data": {
      "text/plain": [
       "'C:\\\\Users\\\\Administrator\\\\Downloads\\\\Amina'"
      ]
     },
     "execution_count": 109,
     "metadata": {},
     "output_type": "execute_result"
    }
   ],
   "source": [
    "os.getcwd()"
   ]
  },
  {
   "cell_type": "code",
   "execution_count": 110,
   "id": "d5d46e0c-75e9-4b12-a525-865ccfee9963",
   "metadata": {},
   "outputs": [],
   "source": [
    "mypage1 = open(\"my.txt1\",\"w\")\n",
    "mypage1.write(\"Hello my world\\n\")\n",
    "mypage1.close()"
   ]
  },
  {
   "cell_type": "code",
   "execution_count": 112,
   "id": "26b433f9-d04f-47bd-99ca-cd8a6f292bc1",
   "metadata": {},
   "outputs": [
    {
     "data": {
      "text/plain": [
       "'Hello my world\\n'"
      ]
     },
     "execution_count": 112,
     "metadata": {},
     "output_type": "execute_result"
    }
   ],
   "source": [
    "mypage1 = open(\"my.txt1\",\"r\")\n",
    "mypage1.read()"
   ]
  },
  {
   "cell_type": "code",
   "execution_count": 113,
   "id": "6c469521-64ad-490c-a546-261085f0122e",
   "metadata": {},
   "outputs": [
    {
     "data": {
      "text/plain": [
       "[b'my.txt1']"
      ]
     },
     "execution_count": 113,
     "metadata": {},
     "output_type": "execute_result"
    }
   ],
   "source": [
    "os.listdir(os.getcwdb())"
   ]
  },
  {
   "cell_type": "code",
   "execution_count": 116,
   "id": "2381932d-b746-4731-a72e-80f5a649b5ac",
   "metadata": {},
   "outputs": [
    {
     "data": {
      "text/plain": [
       "'C:\\\\Users\\\\Administrator\\\\Downloads\\\\Amina'"
      ]
     },
     "execution_count": 116,
     "metadata": {},
     "output_type": "execute_result"
    }
   ],
   "source": [
    "os.getcwd()"
   ]
  },
  {
   "cell_type": "code",
   "execution_count": 115,
   "id": "d674642e-f2be-4664-a96a-2b1e0d786dca",
   "metadata": {},
   "outputs": [
    {
     "ename": "PermissionError",
     "evalue": "[WinError 32] The process cannot access the file because it is being used by another process: 'C:\\\\Users\\\\Administrator\\\\Downloads\\\\Amina\\\\my.txt1'",
     "output_type": "error",
     "traceback": [
      "\u001b[31m---------------------------------------------------------------------------\u001b[39m",
      "\u001b[31mPermissionError\u001b[39m                           Traceback (most recent call last)",
      "\u001b[36mCell\u001b[39m\u001b[36m \u001b[39m\u001b[32mIn[115]\u001b[39m\u001b[32m, line 3\u001b[39m\n\u001b[32m      1\u001b[39m \u001b[38;5;66;03m#to delete a directory without deleting the file\u001b[39;00m\n\u001b[32m      2\u001b[39m \u001b[38;5;28;01mimport\u001b[39;00m\u001b[38;5;250m \u001b[39m\u001b[34;01mshutil\u001b[39;00m\n\u001b[32m----> \u001b[39m\u001b[32m3\u001b[39m \u001b[43mshutil\u001b[49m\u001b[43m.\u001b[49m\u001b[43mrmtree\u001b[49m\u001b[43m(\u001b[49m\u001b[33;43m\"\u001b[39;49m\u001b[33;43mC:\u001b[39;49m\u001b[38;5;130;43;01m\\\\\u001b[39;49;00m\u001b[33;43mUsers\u001b[39;49m\u001b[38;5;130;43;01m\\\\\u001b[39;49;00m\u001b[33;43mAdministrator\u001b[39;49m\u001b[38;5;130;43;01m\\\\\u001b[39;49;00m\u001b[33;43mDownloads\u001b[39;49m\u001b[38;5;130;43;01m\\\\\u001b[39;49;00m\u001b[33;43mAmina\u001b[39;49m\u001b[33;43m\"\u001b[39;49m\u001b[43m)\u001b[49m\n",
      "\u001b[36mFile \u001b[39m\u001b[32mC:\\Program Files\\Python311\\Lib\\shutil.py:758\u001b[39m, in \u001b[36mrmtree\u001b[39m\u001b[34m(path, ignore_errors, onerror, dir_fd)\u001b[39m\n\u001b[32m    756\u001b[39m     \u001b[38;5;66;03m# can't continue even if onerror hook returns\u001b[39;00m\n\u001b[32m    757\u001b[39m     \u001b[38;5;28;01mreturn\u001b[39;00m\n\u001b[32m--> \u001b[39m\u001b[32m758\u001b[39m \u001b[38;5;28;01mreturn\u001b[39;00m \u001b[43m_rmtree_unsafe\u001b[49m\u001b[43m(\u001b[49m\u001b[43mpath\u001b[49m\u001b[43m,\u001b[49m\u001b[43m \u001b[49m\u001b[43monerror\u001b[49m\u001b[43m)\u001b[49m\n",
      "\u001b[36mFile \u001b[39m\u001b[32mC:\\Program Files\\Python311\\Lib\\shutil.py:621\u001b[39m, in \u001b[36m_rmtree_unsafe\u001b[39m\u001b[34m(path, onerror)\u001b[39m\n\u001b[32m    619\u001b[39m             os.unlink(fullname)\n\u001b[32m    620\u001b[39m         \u001b[38;5;28;01mexcept\u001b[39;00m \u001b[38;5;167;01mOSError\u001b[39;00m:\n\u001b[32m--> \u001b[39m\u001b[32m621\u001b[39m             \u001b[43monerror\u001b[49m\u001b[43m(\u001b[49m\u001b[43mos\u001b[49m\u001b[43m.\u001b[49m\u001b[43munlink\u001b[49m\u001b[43m,\u001b[49m\u001b[43m \u001b[49m\u001b[43mfullname\u001b[49m\u001b[43m,\u001b[49m\u001b[43m \u001b[49m\u001b[43msys\u001b[49m\u001b[43m.\u001b[49m\u001b[43mexc_info\u001b[49m\u001b[43m(\u001b[49m\u001b[43m)\u001b[49m\u001b[43m)\u001b[49m\n\u001b[32m    622\u001b[39m \u001b[38;5;28;01mtry\u001b[39;00m:\n\u001b[32m    623\u001b[39m     os.rmdir(path)\n",
      "\u001b[36mFile \u001b[39m\u001b[32mC:\\Program Files\\Python311\\Lib\\shutil.py:619\u001b[39m, in \u001b[36m_rmtree_unsafe\u001b[39m\u001b[34m(path, onerror)\u001b[39m\n\u001b[32m    617\u001b[39m \u001b[38;5;28;01melse\u001b[39;00m:\n\u001b[32m    618\u001b[39m     \u001b[38;5;28;01mtry\u001b[39;00m:\n\u001b[32m--> \u001b[39m\u001b[32m619\u001b[39m         \u001b[43mos\u001b[49m\u001b[43m.\u001b[49m\u001b[43munlink\u001b[49m\u001b[43m(\u001b[49m\u001b[43mfullname\u001b[49m\u001b[43m)\u001b[49m\n\u001b[32m    620\u001b[39m     \u001b[38;5;28;01mexcept\u001b[39;00m \u001b[38;5;167;01mOSError\u001b[39;00m:\n\u001b[32m    621\u001b[39m         onerror(os.unlink, fullname, sys.exc_info())\n",
      "\u001b[31mPermissionError\u001b[39m: [WinError 32] The process cannot access the file because it is being used by another process: 'C:\\\\Users\\\\Administrator\\\\Downloads\\\\Amina\\\\my.txt1'"
     ]
    }
   ],
   "source": [
    "#to delete a directory without deleting the file\n",
    "import shutil\n",
    "shutil.rmtree(\"C:\\\\Users\\\\Administrator\\\\Downloads\\\\Amina\")"
   ]
  },
  {
   "cell_type": "code",
   "execution_count": 102,
   "id": "b20e2948-114f-40be-be78-fee763e408e7",
   "metadata": {},
   "outputs": [
    {
     "data": {
      "text/plain": [
       "[b'desktop.ini', b'my.txt', b'mywrld.txt', b'python base.ipynb']"
      ]
     },
     "execution_count": 102,
     "metadata": {},
     "output_type": "execute_result"
    }
   ],
   "source": [
    "os.listdir(os.getcwdb())"
   ]
  },
  {
   "cell_type": "code",
   "execution_count": null,
   "id": "6554cee6-8ac0-4ff6-b7b5-e14ce4c0e69f",
   "metadata": {},
   "outputs": [],
   "source": []
  },
  {
   "cell_type": "markdown",
   "id": "ab9c6dc6-d955-4332-ae5f-ff7da5af8dac",
   "metadata": {},
   "source": [
    "os.remove(filename) to delete the file"
   ]
  },
  {
   "cell_type": "code",
   "execution_count": 117,
   "id": "55494e4a-2728-4c05-95bf-76fe3f75b60b",
   "metadata": {},
   "outputs": [
    {
     "data": {
      "text/plain": [
       "['ArithmeticError',\n",
       " 'AssertionError',\n",
       " 'AttributeError',\n",
       " 'BaseException',\n",
       " 'BaseExceptionGroup',\n",
       " 'BlockingIOError',\n",
       " 'BrokenPipeError',\n",
       " 'BufferError',\n",
       " 'BytesWarning',\n",
       " 'ChildProcessError',\n",
       " 'ConnectionAbortedError',\n",
       " 'ConnectionError',\n",
       " 'ConnectionRefusedError',\n",
       " 'ConnectionResetError',\n",
       " 'DeprecationWarning',\n",
       " 'EOFError',\n",
       " 'Ellipsis',\n",
       " 'EncodingWarning',\n",
       " 'EnvironmentError',\n",
       " 'Exception',\n",
       " 'ExceptionGroup',\n",
       " 'False',\n",
       " 'FileExistsError',\n",
       " 'FileNotFoundError',\n",
       " 'FloatingPointError',\n",
       " 'FutureWarning',\n",
       " 'GeneratorExit',\n",
       " 'IOError',\n",
       " 'ImportError',\n",
       " 'ImportWarning',\n",
       " 'IndentationError',\n",
       " 'IndexError',\n",
       " 'InterruptedError',\n",
       " 'IsADirectoryError',\n",
       " 'KeyError',\n",
       " 'KeyboardInterrupt',\n",
       " 'LookupError',\n",
       " 'MemoryError',\n",
       " 'ModuleNotFoundError',\n",
       " 'NameError',\n",
       " 'None',\n",
       " 'NotADirectoryError',\n",
       " 'NotImplemented',\n",
       " 'NotImplementedError',\n",
       " 'OSError',\n",
       " 'OverflowError',\n",
       " 'PendingDeprecationWarning',\n",
       " 'PermissionError',\n",
       " 'ProcessLookupError',\n",
       " 'RecursionError',\n",
       " 'ReferenceError',\n",
       " 'ResourceWarning',\n",
       " 'RuntimeError',\n",
       " 'RuntimeWarning',\n",
       " 'StopAsyncIteration',\n",
       " 'StopIteration',\n",
       " 'SyntaxError',\n",
       " 'SyntaxWarning',\n",
       " 'SystemError',\n",
       " 'SystemExit',\n",
       " 'TabError',\n",
       " 'TimeoutError',\n",
       " 'True',\n",
       " 'TypeError',\n",
       " 'UnboundLocalError',\n",
       " 'UnicodeDecodeError',\n",
       " 'UnicodeEncodeError',\n",
       " 'UnicodeError',\n",
       " 'UnicodeTranslateError',\n",
       " 'UnicodeWarning',\n",
       " 'UserWarning',\n",
       " 'ValueError',\n",
       " 'Warning',\n",
       " 'WindowsError',\n",
       " 'ZeroDivisionError',\n",
       " '__IPYTHON__',\n",
       " '__build_class__',\n",
       " '__debug__',\n",
       " '__doc__',\n",
       " '__import__',\n",
       " '__loader__',\n",
       " '__name__',\n",
       " '__package__',\n",
       " '__spec__',\n",
       " 'abs',\n",
       " 'aiter',\n",
       " 'all',\n",
       " 'anext',\n",
       " 'any',\n",
       " 'ascii',\n",
       " 'bin',\n",
       " 'bool',\n",
       " 'breakpoint',\n",
       " 'bytearray',\n",
       " 'bytes',\n",
       " 'callable',\n",
       " 'chr',\n",
       " 'classmethod',\n",
       " 'compile',\n",
       " 'complex',\n",
       " 'copyright',\n",
       " 'credits',\n",
       " 'delattr',\n",
       " 'dict',\n",
       " 'dir',\n",
       " 'display',\n",
       " 'divmod',\n",
       " 'enumerate',\n",
       " 'eval',\n",
       " 'exec',\n",
       " 'execfile',\n",
       " 'filter',\n",
       " 'float',\n",
       " 'format',\n",
       " 'frozenset',\n",
       " 'get_ipython',\n",
       " 'getattr',\n",
       " 'globals',\n",
       " 'hasattr',\n",
       " 'hash',\n",
       " 'help',\n",
       " 'hex',\n",
       " 'id',\n",
       " 'input',\n",
       " 'int',\n",
       " 'isinstance',\n",
       " 'issubclass',\n",
       " 'iter',\n",
       " 'len',\n",
       " 'license',\n",
       " 'list',\n",
       " 'locals',\n",
       " 'map',\n",
       " 'max',\n",
       " 'memoryview',\n",
       " 'min',\n",
       " 'next',\n",
       " 'object',\n",
       " 'oct',\n",
       " 'open',\n",
       " 'ord',\n",
       " 'pow',\n",
       " 'print',\n",
       " 'property',\n",
       " 'range',\n",
       " 'repr',\n",
       " 'reversed',\n",
       " 'round',\n",
       " 'runfile',\n",
       " 'set',\n",
       " 'setattr',\n",
       " 'slice',\n",
       " 'sorted',\n",
       " 'staticmethod',\n",
       " 'str',\n",
       " 'sum',\n",
       " 'super',\n",
       " 'tuple',\n",
       " 'type',\n",
       " 'vars',\n",
       " 'zip']"
      ]
     },
     "execution_count": 117,
     "metadata": {},
     "output_type": "execute_result"
    }
   ],
   "source": [
    "dir(__builtins__)"
   ]
  },
  {
   "cell_type": "code",
   "execution_count": 121,
   "id": "789dc8f3-5292-461e-9b3a-422ee6e43bff",
   "metadata": {},
   "outputs": [
    {
     "name": "stdout",
     "output_type": "stream",
     "text": [
      "Value is: b\n"
     ]
    },
    {
     "ename": "ValueError",
     "evalue": "invalid literal for int() with base 10: 'b'",
     "output_type": "error",
     "traceback": [
      "\u001b[31m---------------------------------------------------------------------------\u001b[39m",
      "\u001b[31mValueError\u001b[39m                                Traceback (most recent call last)",
      "\u001b[36mCell\u001b[39m\u001b[36m \u001b[39m\u001b[32mIn[121]\u001b[39m\u001b[32m, line 4\u001b[39m\n\u001b[32m      2\u001b[39m \u001b[38;5;28;01mfor\u001b[39;00m x \u001b[38;5;129;01min\u001b[39;00m lis:\n\u001b[32m      3\u001b[39m             \u001b[38;5;28mprint\u001b[39m(\u001b[33m\"\u001b[39m\u001b[33mValue is:\u001b[39m\u001b[33m\"\u001b[39m,x)\n\u001b[32m----> \u001b[39m\u001b[32m4\u001b[39m             k=\u001b[32m1\u001b[39m/\u001b[38;5;28;43mint\u001b[39;49m\u001b[43m(\u001b[49m\u001b[43mx\u001b[49m\u001b[43m)\u001b[49m\n",
      "\u001b[31mValueError\u001b[39m: invalid literal for int() with base 10: 'b'"
     ]
    }
   ],
   "source": [
    "lis = ['b',0,2]\n",
    "for x in lis:\n",
    "            print(\"Value is:\",x)\n",
    "            k=1/int(x)"
   ]
  },
  {
   "cell_type": "code",
   "execution_count": 124,
   "id": "ea36f73f-ae9f-4a34-892a-fc86de027072",
   "metadata": {},
   "outputs": [
    {
     "name": "stdout",
     "output_type": "stream",
     "text": [
      "value is: b\n",
      "give proper input (<class 'ValueError'>, ValueError(\"invalid literal for int() with base 10: 'b'\"), <traceback object at 0x000001FB15F9FB00>)\n",
      "value is: 0\n",
      "give proper input (<class 'ZeroDivisionError'>, ZeroDivisionError('division by zero'), <traceback object at 0x000001FB15F9FB00>)\n",
      "value is: 2\n",
      "The reciprocal of 2 is 0.5\n"
     ]
    }
   ],
   "source": [
    "import sys\n",
    "lis = ['b',0,2]\n",
    "for x in lis:\n",
    "    try:\n",
    "        print(\"value is:\",x)\n",
    "        k=1/int(x)\n",
    "    except:\n",
    "        print(\"give proper input\",sys.exc_info())\n",
    "print(\"The reciprocal of\",x, \"is\", k)\n",
    "    "
   ]
  },
  {
   "cell_type": "code",
   "execution_count": 125,
   "id": "08497974-52f4-47f1-ac19-30ca98c8d035",
   "metadata": {},
   "outputs": [
    {
     "name": "stdout",
     "output_type": "stream",
     "text": [
      "value is: b\n",
      "this is valueError.\n",
      "value is: 0\n"
     ]
    },
    {
     "ename": "TypeError",
     "evalue": "catching classes that do not inherit from BaseException is not allowed",
     "output_type": "error",
     "traceback": [
      "\u001b[31m---------------------------------------------------------------------------\u001b[39m",
      "\u001b[31mZeroDivisionError\u001b[39m                         Traceback (most recent call last)",
      "\u001b[36mCell\u001b[39m\u001b[36m \u001b[39m\u001b[32mIn[125]\u001b[39m\u001b[32m, line 6\u001b[39m\n\u001b[32m      5\u001b[39m     \u001b[38;5;28mprint\u001b[39m(\u001b[33m\"\u001b[39m\u001b[33mvalue is:\u001b[39m\u001b[33m\"\u001b[39m,x)\n\u001b[32m----> \u001b[39m\u001b[32m6\u001b[39m     k=\u001b[32;43m1\u001b[39;49m\u001b[43m/\u001b[49m\u001b[38;5;28;43mint\u001b[39;49m\u001b[43m(\u001b[49m\u001b[43mx\u001b[49m\u001b[43m)\u001b[49m\n\u001b[32m      7\u001b[39m \u001b[38;5;28;01mexcept\u001b[39;00m(\u001b[38;5;167;01mValueError\u001b[39;00m):\n",
      "\u001b[31mZeroDivisionError\u001b[39m: division by zero",
      "\nDuring handling of the above exception, another exception occurred:\n",
      "\u001b[31mTypeError\u001b[39m                                 Traceback (most recent call last)",
      "\u001b[36mCell\u001b[39m\u001b[36m \u001b[39m\u001b[32mIn[125]\u001b[39m\u001b[32m, line 9\u001b[39m\n\u001b[32m      7\u001b[39m \u001b[38;5;28;01mexcept\u001b[39;00m(\u001b[38;5;167;01mValueError\u001b[39;00m):\n\u001b[32m      8\u001b[39m     \u001b[38;5;28mprint\u001b[39m(\u001b[33m\"\u001b[39m\u001b[33mthis is valueError.\u001b[39m\u001b[33m\"\u001b[39m)\n\u001b[32m----> \u001b[39m\u001b[32m9\u001b[39m \u001b[38;5;28;01mexcept\u001b[39;00m(\u001b[33m\"\u001b[39m\u001b[33mZeroDivisionError.\u001b[39m\u001b[33m\"\u001b[39m):\n\u001b[32m     10\u001b[39m     \u001b[38;5;28mprint\u001b[39m(\u001b[33m\"\u001b[39m\u001b[33mthis is zerodivisionerror.\u001b[39m\u001b[33m\"\u001b[39m)\n\u001b[32m     11\u001b[39m \u001b[38;5;28;01mexcept\u001b[39;00m:\n",
      "\u001b[31mTypeError\u001b[39m: catching classes that do not inherit from BaseException is not allowed"
     ]
    }
   ],
   "source": [
    "import sys\n",
    "lis = ['b',0,2]\n",
    "for x in lis:\n",
    "    try:\n",
    "        print(\"value is:\",x)\n",
    "        k=1/int(x)\n",
    "    except(ValueError):\n",
    "        print(\"this is valueError.\")\n",
    "    except(\"ZeroDivisionError.\"):\n",
    "        print(\"this is zerodivisionerror.\")\n",
    "    except:\n",
    "        print(\"other error\")\n",
    "print(\"the reciprocal of\",x,\"is\",k)"
   ]
  },
  {
   "cell_type": "code",
   "execution_count": 126,
   "id": "1376a909-8e1e-48dc-8f7e-708e8989e191",
   "metadata": {},
   "outputs": [
    {
     "data": {
      "text/plain": [
       "'C:\\\\Users\\\\Administrator\\\\Downloads\\\\Amina'"
      ]
     },
     "execution_count": 126,
     "metadata": {},
     "output_type": "execute_result"
    }
   ],
   "source": [
    "os.getcwd()"
   ]
  },
  {
   "cell_type": "code",
   "execution_count": 127,
   "id": "87872836-4180-4595-8965-c47a41e2a994",
   "metadata": {},
   "outputs": [
    {
     "name": "stdout",
     "output_type": "stream",
     "text": [
      "not found\n"
     ]
    },
    {
     "ename": "NameError",
     "evalue": "name 'f' is not defined",
     "output_type": "error",
     "traceback": [
      "\u001b[31m---------------------------------------------------------------------------\u001b[39m",
      "\u001b[31mFileNotFoundError\u001b[39m                         Traceback (most recent call last)",
      "\u001b[36mCell\u001b[39m\u001b[36m \u001b[39m\u001b[32mIn[127]\u001b[39m\u001b[32m, line 3\u001b[39m\n\u001b[32m      2\u001b[39m \u001b[38;5;28;01mtry\u001b[39;00m:\n\u001b[32m----> \u001b[39m\u001b[32m3\u001b[39m     f=\u001b[38;5;28;43mopen\u001b[39;49m\u001b[43m(\u001b[49m\u001b[33;43m\"\u001b[39;49m\u001b[33;43mami.txt\u001b[39;49m\u001b[33;43m\"\u001b[39;49m\u001b[43m)\u001b[49m\n\u001b[32m      4\u001b[39m \u001b[38;5;28;01mfinally\u001b[39;00m:\n",
      "\u001b[36mFile \u001b[39m\u001b[32mC:\\Program Files\\Python311\\Lib\\site-packages\\IPython\\core\\interactiveshell.py:326\u001b[39m, in \u001b[36m_modified_open\u001b[39m\u001b[34m(file, *args, **kwargs)\u001b[39m\n\u001b[32m    320\u001b[39m     \u001b[38;5;28;01mraise\u001b[39;00m \u001b[38;5;167;01mValueError\u001b[39;00m(\n\u001b[32m    321\u001b[39m         \u001b[33mf\u001b[39m\u001b[33m\"\u001b[39m\u001b[33mIPython won\u001b[39m\u001b[33m'\u001b[39m\u001b[33mt let you open fd=\u001b[39m\u001b[38;5;132;01m{\u001b[39;00mfile\u001b[38;5;132;01m}\u001b[39;00m\u001b[33m by default \u001b[39m\u001b[33m\"\u001b[39m\n\u001b[32m    322\u001b[39m         \u001b[33m\"\u001b[39m\u001b[33mas it is likely to crash IPython. If you know what you are doing, \u001b[39m\u001b[33m\"\u001b[39m\n\u001b[32m    323\u001b[39m         \u001b[33m\"\u001b[39m\u001b[33myou can use builtins\u001b[39m\u001b[33m'\u001b[39m\u001b[33m open.\u001b[39m\u001b[33m\"\u001b[39m\n\u001b[32m    324\u001b[39m     )\n\u001b[32m--> \u001b[39m\u001b[32m326\u001b[39m \u001b[38;5;28;01mreturn\u001b[39;00m \u001b[43mio_open\u001b[49m\u001b[43m(\u001b[49m\u001b[43mfile\u001b[49m\u001b[43m,\u001b[49m\u001b[43m \u001b[49m\u001b[43m*\u001b[49m\u001b[43margs\u001b[49m\u001b[43m,\u001b[49m\u001b[43m \u001b[49m\u001b[43m*\u001b[49m\u001b[43m*\u001b[49m\u001b[43mkwargs\u001b[49m\u001b[43m)\u001b[49m\n",
      "\u001b[31mFileNotFoundError\u001b[39m: [Errno 2] No such file or directory: 'ami.txt'",
      "\nDuring handling of the above exception, another exception occurred:\n",
      "\u001b[31mNameError\u001b[39m                                 Traceback (most recent call last)",
      "\u001b[36mCell\u001b[39m\u001b[36m \u001b[39m\u001b[32mIn[127]\u001b[39m\u001b[32m, line 6\u001b[39m\n\u001b[32m      4\u001b[39m \u001b[38;5;28;01mfinally\u001b[39;00m:\n\u001b[32m      5\u001b[39m     \u001b[38;5;28mprint\u001b[39m(\u001b[33m\"\u001b[39m\u001b[33mnot found\u001b[39m\u001b[33m\"\u001b[39m)\n\u001b[32m----> \u001b[39m\u001b[32m6\u001b[39m     \u001b[43mf\u001b[49m.close()\n",
      "\u001b[31mNameError\u001b[39m: name 'f' is not defined"
     ]
    }
   ],
   "source": [
    "os.chdir('c:\\\\users\\\\Administrator')\n",
    "try:\n",
    "    f=open(\"ami.txt\")\n",
    "finally:\n",
    "    print(\"not found\")\n",
    "    f.close()"
   ]
  },
  {
   "cell_type": "code",
   "execution_count": 128,
   "id": "7ab1a406-118c-4fec-8903-8cfcc6d4cbda",
   "metadata": {},
   "outputs": [
    {
     "name": "stdout",
     "output_type": "stream",
     "text": [
      "something wrong\n"
     ]
    }
   ],
   "source": [
    "try:\n",
    "    f=open(\"ami.txt\")\n",
    "except:\n",
    "    print(\"something wrong\")"
   ]
  },
  {
   "cell_type": "code",
   "execution_count": null,
   "id": "e766b560-54f9-4550-b1ce-5bb93a768d97",
   "metadata": {},
   "outputs": [],
   "source": []
  },
  {
   "cell_type": "code",
   "execution_count": 129,
   "id": "e44e3398-e217-4dec-a408-58cc999f4848",
   "metadata": {},
   "outputs": [],
   "source": [
    "import logging\n",
    "logging.basicConfig(level=logging.INFO)"
   ]
  },
  {
   "cell_type": "code",
   "execution_count": 130,
   "id": "00db5953-7b60-46e3-9ddb-654efb297e14",
   "metadata": {},
   "outputs": [],
   "source": [
    "logging.debug(\"this is a debug message\")"
   ]
  },
  {
   "cell_type": "code",
   "execution_count": 131,
   "id": "5c6317ce-9c4d-4806-990e-534631c7556f",
   "metadata": {},
   "outputs": [
    {
     "name": "stderr",
     "output_type": "stream",
     "text": [
      "INFO:root:App started\n"
     ]
    }
   ],
   "source": [
    "logging.info(\"App started\")"
   ]
  },
  {
   "cell_type": "code",
   "execution_count": 132,
   "id": "0da65df5-4429-4879-83de-3ebf1a1b4308",
   "metadata": {},
   "outputs": [
    {
     "name": "stderr",
     "output_type": "stream",
     "text": [
      "WARNING:root:this is a warning\n"
     ]
    }
   ],
   "source": [
    "logging.warning(\"this is a warning\")"
   ]
  },
  {
   "cell_type": "code",
   "execution_count": 133,
   "id": "d11548f6-6b16-485d-a517-5e63f037c943",
   "metadata": {},
   "outputs": [
    {
     "name": "stderr",
     "output_type": "stream",
     "text": [
      "ERROR:root:An error occured\n"
     ]
    }
   ],
   "source": [
    "logging.error(\"An error occured\")"
   ]
  },
  {
   "cell_type": "code",
   "execution_count": null,
   "id": "19a6c65e-1ca9-4e31-a372-071b51405477",
   "metadata": {},
   "outputs": [],
   "source": [
    "logging.critical(\"Critical issue\")"
   ]
  }
 ],
 "metadata": {
  "kernelspec": {
   "display_name": "Python 3 (ipykernel)",
   "language": "python",
   "name": "python3"
  },
  "language_info": {
   "codemirror_mode": {
    "name": "ipython",
    "version": 3
   },
   "file_extension": ".py",
   "mimetype": "text/x-python",
   "name": "python",
   "nbconvert_exporter": "python",
   "pygments_lexer": "ipython3",
   "version": "3.11.0"
  }
 },
 "nbformat": 4,
 "nbformat_minor": 5
}
