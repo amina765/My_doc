{
 "cells": [
  {
   "cell_type": "code",
   "execution_count": 1,
   "id": "78b2750c-4cb6-4ed9-9d87-d5e21810104d",
   "metadata": {},
   "outputs": [
    {
     "data": {
      "text/html": [
       "\n",
       "            <div>\n",
       "                <p><b>SparkSession - in-memory</b></p>\n",
       "                \n",
       "        <div>\n",
       "            <p><b>SparkContext</b></p>\n",
       "\n",
       "            <p><a href=\"http://172.19.3.250:4040\">Spark UI</a></p>\n",
       "\n",
       "            <dl>\n",
       "              <dt>Version</dt>\n",
       "                <dd><code>v3.5.5</code></dd>\n",
       "              <dt>Master</dt>\n",
       "                <dd><code>local[*]</code></dd>\n",
       "              <dt>AppName</dt>\n",
       "                <dd><code>SparkIntroduction</code></dd>\n",
       "            </dl>\n",
       "        </div>\n",
       "        \n",
       "            </div>\n",
       "        "
      ],
      "text/plain": [
       "<pyspark.sql.session.SparkSession at 0x2b844bfd590>"
      ]
     },
     "execution_count": 1,
     "metadata": {},
     "output_type": "execute_result"
    }
   ],
   "source": [
    "import findspark\n",
    "findspark.init()\n",
    "from pyspark.sql import SparkSession\n",
    "spark=(\n",
    "    SparkSession.builder.appName(\"SparkIntroduction\").getOrCreate())\n",
    "spark\n",
    "# sc=spark.spark.Context"
   ]
  },
  {
   "cell_type": "code",
   "execution_count": 2,
   "id": "26741dd5-faf9-4556-b149-fbbcdd55d0b6",
   "metadata": {},
   "outputs": [
    {
     "name": "stdout",
     "output_type": "stream",
     "text": [
      "+---------------------+-------------------+--------------------+--------------+------+-----------+---------+------+--------------------+-----------------+-----+-----+------------------+------------------+--------+--------------------+----------+--------------------+----------+------------------+------------------+--------+\n",
      "|trans_date_trans_time|             cc_num|            merchant|      category|   amt|      first|     last|gender|              street|             city|state|  zip|               lat|              long|city_pop|                 job|       dob|           trans_num| unix_time|         merch_lat|        merch_long|is_fraud|\n",
      "+---------------------+-------------------+--------------------+--------------+------+-----------+---------+------+--------------------+-----------------+-----+-----+------------------+------------------+--------+--------------------+----------+--------------------+----------+------------------+------------------+--------+\n",
      "|  2019-08-11 19:38:33|   4681601008538160|fraud_Hermann and...|  shopping_pos| 50.81|      Tammy|    Davis|     F|77663 Colleen Fre...|      Moundsville|   WV|26041|           39.9148|-80.73100000000001|   16183|     Physiotherapist|1977-08-12|f64003a5726ca9951...|1344713913|         39.238053|        -81.728984|       0|\n",
      "|  2020-02-21 13:31:42|   4653879239169997|fraud_Cronin, Ksh...|health_fitness|  1.97|     Monica|   Tucker|     F|302 Christina Isl...|     Smiths Grove|   KY|42171|           37.0581|          -86.1938|    6841|   Therapist, sports|1999-06-06|f8e25094098b22a8e...|1361453502|         36.665575|        -85.608885|       0|\n",
      "|  2019-09-03 02:39:49|   4334230547694630|fraud_Rutherford-...|   grocery_pos|100.18|      Scott|   Martin|     M|  7483 Navarro Flats|          Freedom|   WY|83120|           43.0172|         -111.0292|     471|Education officer...|1967-08-02|291160a410748e5be...|1346639989|43.362578000000006|       -110.580382|       0|\n",
      "|  2020-03-31 02:39:04|   2256234701263057|  fraud_Kris-Padberg|  shopping_pos|  7.67|Christopher|   Grimes|     M|   39631 Dunn Radial|         Grantham|   NH| 3753|           43.5103|          -72.1334|    2971|  Charity fundraiser|1948-04-11|df716fe9ce97522bc...|1364697544|         44.312773|        -71.555079|       0|\n",
      "|  2020-12-05 07:58:57|   6011948324228984|fraud_Towne, Gree...|  shopping_net| 478.1|   Mckenzie|   Brooks|     F| 3872 Matthew Skyway|            Paris|   MS|38949|           34.1992|           -89.382|     297|Administrator, lo...|1961-12-14|c33bcd8c63d50b4fe...|1386230337|34.362314000000005|        -89.623306|       0|\n",
      "|  2020-10-19 01:22:18|     30026790933302|fraud_Herman, Tre...|      misc_net|107.49|       John|   Peters|     M|   555 Michael Burgs|      Mayersville|   MS|39113|           32.9013|          -91.0286|     595|    Technical brewer|1979-09-03|976e58ac18356b393...|1382145738|         31.928995|        -91.321494|       0|\n",
      "|  2019-04-19 11:42:53|     30551643947183|      fraud_Cole PLC|   grocery_pos|231.61|     Morgan|    Smith|     F|  1441 Bradley Place|           Grover|   NC|28073|           35.1836|          -81.4552|    5621|        Toxicologist|1973-11-14|5ba428ae126192628...|1334835773|         35.257566|        -81.134489|       0|\n",
      "|  2019-09-23 11:08:42|   3559160581764413|    fraud_Schumm PLC|  shopping_net| 85.74|      Allen|     Bell|     M| 70147 Amanda Fields|Saint Bonaventure|   NY|14778|           42.2701|          -78.6847|    1453|        Toxicologist|1974-02-15|220c69d2e09d3323b...|1348398522|         42.583145|        -78.244389|       0|\n",
      "|  2019-02-21 13:38:55|   3583635130604947|fraud_Weber, Thie...|     kids_pets|146.38|    Crystal|   Gamble|     F|899 Michele View ...|     Philadelphia|   PA|19149|           40.0369|          -75.0664| 1526206| Structural engineer|1985-01-01|a569367f8df5d5d34...|1329831535|         40.610395|-74.62679399999999|       0|\n",
      "|  2019-06-22 02:19:22|   6564459919350820|fraud_Towne, Gree...|  shopping_net|  1.46|    Douglas|   Willis|     M|619 Jeremy Garden...|           Benton|   WI|53803|           42.5545|          -90.3508|    1306|Public relations ...|1958-09-10|9b13b6d6222b43f14...|1340331562|         42.845955|        -90.682929|       0|\n",
      "|  2020-02-03 12:01:56|4973530368125489546|fraud_Schroeder G...|health_fitness|  9.99|       Mary|Rodriguez|     F|8986 Fitzgerald P...|          Winslow|   AR|72959|           35.8312|          -94.1187|    2786|            Musician|1965-09-27|56552bcb40cca4f43...|1359892916|         35.447025|        -93.434536|       0|\n",
      "|  2019-12-08 04:02:43|   3543591270174051|fraud_Reilly, Hea...| gas_transport| 52.92|   Margaret|      Lam|     F|6911 Nicholas Key...|           Armagh|   PA|15920|           40.4603|          -79.0097|     922| Early years teacher|1972-10-04|fc9499f57723925e2...|1354939363|         40.870096|        -79.216255|       0|\n",
      "|  2020-01-22 07:14:24|   3587044315915002|fraud_Stanton, Ja...|  shopping_net| 96.24|  Christian|    Roman|     M|495 Fisher Throug...|   Grand Junction|   TN|38039|           35.0659|          -89.1534|    1804|Clothing/textile ...|1974-10-15|636f3159d447bc56e...|1358838864|         34.583771|        -89.640556|       0|\n",
      "|  2019-06-23 22:07:02|     38199021865320|    fraud_Stark-Batz| entertainment| 67.54|      Jesse|  Roberts|     M|8415 Vaughn Squar...|          Acworth|   NH| 3601|43.196000000000005|          -72.3001|     477|     Naval architect|1988-04-15|0ecb5cf0ab3c026cb...|1340489222|         42.596169|        -72.485721|       0|\n",
      "|  2020-10-07 13:10:43|   3540210836308425|fraud_Durgan, Gis...|          home| 80.34|     Steven|    Yoder|     M|94975 David Mews ...|      Summerfield|   TX|79085|           34.7437|         -102.5064|      53|   Fisheries officer|1992-06-19|635d8d1d897bb5fa8...|1381151443|          34.64505|       -101.742618|       0|\n",
      "|  2019-03-22 13:30:49|     30407675418785|  fraud_Hudson-Grady|  shopping_pos|  3.53|   Danielle|    Evans|     F|76752 David Lodge...|        Breesport|   NY|14816|           42.1939|          -76.7361|     520|     Psychotherapist|1991-10-13|7395ccbcf19b3ce78...|1332423049|         42.645198|-75.89484499999999|       0|\n",
      "|  2019-08-20 18:28:12|      4186530744674|   fraud_Collier LLC|          home| 39.16|      Casey|   Howell|     F|374 Christopher R...|       Blackville|   SC|29817|           33.3645|          -81.2718|    4913|    Technical brewer|1966-11-10|9172087eec4c7bcfb...|1345487292|32.870909999999995|        -80.479861|       0|\n",
      "|  2020-01-01 18:28:22|   3566094707272327|fraud_Daugherty-T...|   food_dining|  53.1|   Kristina|  Stewart|     F|47029 Jimmy Tunne...|          Newhall|   CA|91321|           34.3795|          -118.523|   34882|    Health physicist|1971-04-25|3992942c1e900ef98...|1357064902|         35.133634|       -118.707277|       0|\n",
      "|  2019-12-30 22:51:32|       630424987505|     fraud_Pagac LLC|  shopping_pos|  3.78|   Jennifer|    Black|     F|2870 Bean Terrace...|           Thomas|   WV|26292|           39.1505|           -79.503|     836|Forensic psycholo...|1981-08-29|27a29a2cbff4dc57a...|1356907892|         38.174861|        -79.285536|       0|\n",
      "|  2020-07-21 17:26:40|   3518669219150142|fraud_Altenwerth,...|  shopping_net|  7.98|    Dorothy|   Thomas|     F|537 Rice Square S...|          Milford|   OH|45150|           39.1657|-84.23299999999999|   31394|     Hospital doctor|1996-11-12|da0a942db9d5fd0a7...|1374427600|         39.565647|-84.54592099999999|       0|\n",
      "+---------------------+-------------------+--------------------+--------------+------+-----------+---------+------+--------------------+-----------------+-----+-----+------------------+------------------+--------+--------------------+----------+--------------------+----------+------------------+------------------+--------+\n",
      "only showing top 20 rows\n",
      "\n"
     ]
    }
   ],
   "source": [
    "df_data=spark.read.csv(\"final_data.csv\",header=True,inferSchema=True,mode=\"DROPMALFORMED\")\n",
    "df_data.show()"
   ]
  },
  {
   "cell_type": "code",
   "execution_count": 3,
   "id": "e180c1b3-b107-44e0-aee9-406b223480e8",
   "metadata": {},
   "outputs": [
    {
     "name": "stdout",
     "output_type": "stream",
     "text": [
      "root\n",
      " |-- trans_date_trans_time: timestamp (nullable = true)\n",
      " |-- cc_num: long (nullable = true)\n",
      " |-- merchant: string (nullable = true)\n",
      " |-- category: string (nullable = true)\n",
      " |-- amt: double (nullable = true)\n",
      " |-- first: string (nullable = true)\n",
      " |-- last: string (nullable = true)\n",
      " |-- gender: string (nullable = true)\n",
      " |-- street: string (nullable = true)\n",
      " |-- city: string (nullable = true)\n",
      " |-- state: string (nullable = true)\n",
      " |-- zip: integer (nullable = true)\n",
      " |-- lat: double (nullable = true)\n",
      " |-- long: double (nullable = true)\n",
      " |-- city_pop: integer (nullable = true)\n",
      " |-- job: string (nullable = true)\n",
      " |-- dob: date (nullable = true)\n",
      " |-- trans_num: string (nullable = true)\n",
      " |-- unix_time: integer (nullable = true)\n",
      " |-- merch_lat: double (nullable = true)\n",
      " |-- merch_long: double (nullable = true)\n",
      " |-- is_fraud: integer (nullable = true)\n",
      "\n"
     ]
    },
    {
     "data": {
      "text/plain": [
       "19302"
      ]
     },
     "execution_count": 3,
     "metadata": {},
     "output_type": "execute_result"
    }
   ],
   "source": [
    "df_data.printSchema()\n",
    "df_data.count()"
   ]
  },
  {
   "cell_type": "code",
   "execution_count": 4,
   "id": "29bfdd36-fa69-431f-bac8-b8694c3e62f2",
   "metadata": {},
   "outputs": [],
   "source": [
    "data=df_data.distinct()"
   ]
  },
  {
   "cell_type": "code",
   "execution_count": 5,
   "id": "d6325cc2-477b-4ff7-a931-4c453318e1c1",
   "metadata": {},
   "outputs": [
    {
     "data": {
      "text/plain": [
       "19302"
      ]
     },
     "execution_count": 5,
     "metadata": {},
     "output_type": "execute_result"
    }
   ],
   "source": [
    "data.count()"
   ]
  },
  {
   "cell_type": "code",
   "execution_count": 7,
   "id": "5b3352ac-376f-441b-9cbb-af9ac03847af",
   "metadata": {},
   "outputs": [
    {
     "name": "stdout",
     "output_type": "stream",
     "text": [
      "+------+------------------+\n",
      "|gender|          avg(amt)|\n",
      "+------+------------------+\n",
      "|     F|271.71298766157497|\n",
      "|     M|330.50721562156156|\n",
      "+------+------------------+\n",
      "\n"
     ]
    }
   ],
   "source": [
    "from pyspark.sql.functions import avg\n",
    "avg_spent= df_data.groupBy(\"gender\").agg(avg(\"amt\")).alias(\"avg_amount\")\n",
    "avg_spent.show()"
   ]
  },
  {
   "cell_type": "code",
   "execution_count": 8,
   "id": "2547e911-d391-427c-8401-2479840ad3fc",
   "metadata": {},
   "outputs": [
    {
     "name": "stdout",
     "output_type": "stream",
     "text": [
      "+----+-----+-----------------+\n",
      "|year|month|transaction_count|\n",
      "+----+-----+-----------------+\n",
      "|2019|    1|              809|\n",
      "|2019|    2|              755|\n",
      "|2019|    3|              847|\n",
      "|2019|    4|              755|\n",
      "|2019|    5|              764|\n",
      "|2019|    6|              816|\n",
      "|2019|    7|              775|\n",
      "|2019|    8|              822|\n",
      "|2019|    9|              812|\n",
      "|2019|   10|              806|\n",
      "|2019|   11|              741|\n",
      "|2019|   12|             1293|\n",
      "|2020|    1|              604|\n",
      "|2020|    2|              605|\n",
      "|2020|    3|              817|\n",
      "|2020|    4|              661|\n",
      "|2020|    5|              910|\n",
      "|2020|    6|              925|\n",
      "|2020|    7|              788|\n",
      "|2020|    8|              872|\n",
      "+----+-----+-----------------+\n",
      "only showing top 20 rows\n",
      "\n"
     ]
    }
   ],
   "source": [
    "from pyspark.sql.functions import count, year, month\n",
    "trans = df_data.groupBy(year(\"trans_date_trans_time\").alias(\"year\"),month(\"trans_date_trans_time\").alias(\"month\")).agg(count(\"trans_num\").alias(\"transaction_count\"))\n",
    "trans = trans.orderBy(\"year\", \"month\")\n",
    "trans.show()"
   ]
  },
  {
   "cell_type": "code",
   "execution_count": 9,
   "id": "70ff9e31-96a9-4a2a-97bc-b9a5f444ac90",
   "metadata": {},
   "outputs": [
    {
     "name": "stdout",
     "output_type": "stream",
     "text": [
      "+---------------------+----------------+--------------------+-------------+-------+-------+------+------+--------------------+-------------+-----+-----+-------+---------+--------+--------------------+----------+--------------------+----------+------------------+------------------+--------+\n",
      "|trans_date_trans_time|          cc_num|            merchant|     category|    amt|  first|  last|gender|              street|         city|state|  zip|    lat|     long|city_pop|                 job|       dob|           trans_num| unix_time|         merch_lat|        merch_long|is_fraud|\n",
      "+---------------------+----------------+--------------------+-------------+-------+-------+------+------+--------------------+-------------+-----+-----+-------+---------+--------+--------------------+----------+--------------------+----------+------------------+------------------+--------+\n",
      "|  2019-01-02 01:06:37|   4613314721966|fraud_Rutherford-...|  grocery_pos| 281.06|  Jason|Murphy|     M|542 Steve Curve S...|Collettsville|   NC|28611|35.9946| -81.7266|     885|      Soil scientist|1988-09-15|e8a81877ae9a0a7f8...|1325466397|         36.430124|-81.17948299999999|       1|\n",
      "|  2019-01-02 01:47:29| 340187018810220|fraud_Jenkins, Ha...|gas_transport|  11.52|  Misty|  Hart|     F|27954 Hall Mill S...|  San Antonio|   TX|78208|  29.44|  -98.459| 1595797|Horticultural con...|1960-10-28|bc7d41c41103877b0...|1325468849|         29.819364|        -99.142791|       1|\n",
      "|  2019-01-02 03:05:23| 340187018810220|fraud_Goodwin-Nit...|  grocery_pos| 276.31|  Misty|  Hart|     F|27954 Hall Mill S...|  San Antonio|   TX|78208|  29.44|  -98.459| 1595797|Horticultural con...|1960-10-28|b98f12f4168391b22...|1325473523|         29.273085|         -98.83636|       1|\n",
      "|  2019-01-02 03:38:03|   4613314721966|fraud_Erdman-Kert...|gas_transport|   7.03|  Jason|Murphy|     M|542 Steve Curve S...|Collettsville|   NC|28611|35.9946| -81.7266|     885|      Soil scientist|1988-09-15|397894a5c4c02e3c6...|1325475483|         35.909292|         -82.09101|       1|\n",
      "|  2019-01-02 03:55:47| 340187018810220|  fraud_Koepp-Parker|  grocery_pos| 275.73|  Misty|  Hart|     F|27954 Hall Mill S...|  San Antonio|   TX|78208|  29.44|  -98.459| 1595797|Horticultural con...|1960-10-28|7863235a750d73a24...|1325476547|         29.786426|         -98.68341|       1|\n",
      "|  2019-01-02 13:38:08|   4613314721966|  fraud_Medhurst PLC| shopping_net|  844.8|  Jason|Murphy|     M|542 Steve Curve S...|Collettsville|   NC|28611|35.9946| -81.7266|     885|      Soil scientist|1988-09-15|248c2746e78f2ec71...|1325511488|         35.987802|-81.25433199999999|       1|\n",
      "|  2019-01-02 23:52:08|   4613314721966| fraud_Ruecker Group|     misc_net| 843.91|  Jason|Murphy|     M|542 Steve Curve S...|Collettsville|   NC|28611|35.9946| -81.7266|     885|      Soil scientist|1988-09-15|2f7d497f607396ab6...|1325548328|         35.985612|        -81.383306|       1|\n",
      "|  2019-01-03 01:05:27| 340187018810220|fraud_Conroy-Crui...|gas_transport|  10.76|  Misty|  Hart|     F|27954 Hall Mill S...|  San Antonio|   TX|78208|  29.44|  -98.459| 1595797|Horticultural con...|1960-10-28|0a2f8002e55a3565c...|1325552727|         28.856712|        -97.794207|       1|\n",
      "|  2019-01-03 01:35:52| 340187018810220|  fraud_Koepp-Parker|  grocery_pos| 332.35|  Misty|  Hart|     F|27954 Hall Mill S...|  San Antonio|   TX|78208|  29.44|  -98.459| 1595797|Horticultural con...|1960-10-28|97903213a2fd7e53b...|1325554552|         29.320662|        -97.937219|       1|\n",
      "|  2019-01-03 03:17:36| 340187018810220|fraud_Strosin-Cru...|  grocery_pos| 315.34|  Misty|  Hart|     F|27954 Hall Mill S...|  San Antonio|   TX|78208|  29.44|  -98.459| 1595797|Horticultural con...|1960-10-28|0ffc2b7dae4c33883...|1325560656|28.953283000000003|        -97.806528|       1|\n",
      "|  2019-01-03 16:54:53|4922710831011201|  fraud_Rau and Sons|  grocery_pos| 337.05|Heather| Chase|     F|6888 Hicks Stream...|        Manor|   PA|15665|40.3359| -79.6607|    1472|Public affairs co...|1941-03-07|7301679c460c5f2a4...|1325609693|         41.174382|        -79.809888|       1|\n",
      "|  2019-01-03 18:07:01|4922710831011201| fraud_Pouros-Conroy| shopping_pos| 711.66|Heather| Chase|     F|6888 Hicks Stream...|        Manor|   PA|15665|40.3359| -79.6607|    1472|Public affairs co...|1941-03-07|d8daaffedc75c3e92...|1325614021|         41.207335|-78.84093299999999|       1|\n",
      "|  2019-01-03 22:09:00|4922710831011201|fraud_Johnson, Ru...|     misc_net|  707.5|Heather| Chase|     F|6888 Hicks Stream...|        Manor|   PA|15665|40.3359| -79.6607|    1472|Public affairs co...|1941-03-07|e366fd492cb7dfca3...|1325628540|         40.601968|        -78.768636|       1|\n",
      "|  2019-01-03 22:21:15|   4613314721966|    fraud_Fisher Inc| shopping_net| 942.62|  Jason|Murphy|     M|542 Steve Curve S...|Collettsville|   NC|28611|35.9946| -81.7266|     885|      Soil scientist|1988-09-15|41b9e040c87e3ec69...|1325629275|          35.76589|        -81.951839|       1|\n",
      "|  2019-01-03 22:58:44|4922710831011201|fraud_Mosciski Group|       travel|    4.5|Heather| Chase|     F|6888 Hicks Stream...|        Manor|   PA|15665|40.3359| -79.6607|    1472|Public affairs co...|1941-03-07|2751eef2242b86fba...|1325631524|         39.492341|        -78.859114|       1|\n",
      "|  2019-01-03 23:09:51|   4613314721966|fraud_Morissette PLC| shopping_pos| 821.96|  Jason|Murphy|     M|542 Steve Curve S...|Collettsville|   NC|28611|35.9946| -81.7266|     885|      Soil scientist|1988-09-15|b7941dbeaf57c1dd3...|1325632191|         35.772593|        -81.593183|       1|\n",
      "|  2019-01-03 23:29:57|   4613314721966| fraud_Lemke-Gutmann| shopping_net|1092.68|  Jason|Murphy|     M|542 Steve Curve S...|Collettsville|   NC|28611|35.9946| -81.7266|     885|      Soil scientist|1988-09-15|d7a512888741e0585...|1325633397|         36.981465|        -80.767836|       1|\n",
      "|  2019-01-03 23:41:36|   4613314721966|    fraud_Mohr-Bayer| shopping_net|1254.27|  Jason|Murphy|     M|542 Steve Curve S...|Collettsville|   NC|28611|35.9946| -81.7266|     885|      Soil scientist|1988-09-15|e8cd6d3df90834fe2...|1325634096|         36.105024|        -80.963186|       1|\n",
      "|  2019-01-03 23:44:42| 340187018810220|fraud_Moen, Reing...|  grocery_pos| 274.09|  Misty|  Hart|     F|27954 Hall Mill S...|  San Antonio|   TX|78208|  29.44|  -98.459| 1595797|Horticultural con...|1960-10-28|fdae36d3824101b50...|1325634282|         29.789989|        -97.996197|       1|\n",
      "|  2019-01-04 00:58:03| 341546199006537|fraud_Stokes, Chr...|  grocery_net|  14.37|   Mark| Brown|     M|     8580 Moore Cove|        Wales|   AK|99783|64.7556|-165.6723|     145|Administrator, ed...|1939-11-09|a3806e984cec6ac00...|1325638683| 65.65414200000001|       -164.722603|       1|\n",
      "+---------------------+----------------+--------------------+-------------+-------+-------+------+------+--------------------+-------------+-----+-----+-------+---------+--------+--------------------+----------+--------------------+----------+------------------+------------------+--------+\n",
      "only showing top 20 rows\n",
      "\n"
     ]
    },
    {
     "data": {
      "text/plain": [
       "9651"
      ]
     },
     "execution_count": 9,
     "metadata": {},
     "output_type": "execute_result"
    }
   ],
   "source": [
    "fraud_df=df_data.filter(df_data.is_fraud == 1)\n",
    "fraud_df.show()\n",
    "fraud_df.count()"
   ]
  },
  {
   "cell_type": "code",
   "execution_count": 11,
   "id": "8fe4751f-a80b-4278-b047-fe2b86999c9b",
   "metadata": {},
   "outputs": [
    {
     "name": "stdout",
     "output_type": "stream",
     "text": [
      "+---------------------+-----------+\n",
      "|trans_date_trans_time|fraud_count|\n",
      "+---------------------+-----------+\n",
      "|  2019-01-12 23:32:25|          1|\n",
      "|  2019-02-08 22:34:34|          1|\n",
      "|  2019-02-12 22:03:43|          1|\n",
      "|  2019-02-22 23:38:20|          1|\n",
      "|  2019-02-28 22:02:41|          1|\n",
      "|  2019-04-26 15:45:56|          1|\n",
      "|  2019-05-16 22:03:23|          1|\n",
      "|  2019-05-18 22:21:21|          1|\n",
      "|  2019-05-22 00:17:46|          1|\n",
      "|  2019-06-03 03:05:46|          1|\n",
      "|  2019-07-10 22:53:15|          1|\n",
      "|  2019-09-20 02:42:03|          1|\n",
      "|  2019-10-18 23:19:26|          1|\n",
      "|  2019-12-12 01:06:43|          1|\n",
      "|  2020-01-27 23:17:38|          1|\n",
      "|  2020-03-24 00:33:35|          1|\n",
      "|  2019-04-12 01:27:31|          1|\n",
      "|  2019-05-29 23:57:34|          1|\n",
      "|  2019-06-09 03:11:29|          1|\n",
      "|  2019-07-27 22:32:30|          1|\n",
      "+---------------------+-----------+\n",
      "only showing top 20 rows\n",
      "\n"
     ]
    },
    {
     "data": {
      "text/plain": [
       "9646"
      ]
     },
     "execution_count": 11,
     "metadata": {},
     "output_type": "execute_result"
    }
   ],
   "source": [
    "from pyspark.sql.functions import sum\n",
    "fraud = fraud_df.groupBy(\"trans_date_trans_time\").agg(sum(\"is_fraud\").alias(\"fraud_count\")).orderBy(\"trans_date_trans_time\").distinct()\n",
    "fraud.show()\n",
    "fraud.count()"
   ]
  },
  {
   "cell_type": "code",
   "execution_count": 12,
   "id": "cbed52b6-a9d0-4f35-9df8-f78276c1022c",
   "metadata": {},
   "outputs": [
    {
     "name": "stdout",
     "output_type": "stream",
     "text": [
      "+----------+--------+---------+---------------+\n",
      "|       dob|   first|     last|age_transaction|\n",
      "+----------+--------+---------+---------------+\n",
      "|1969-12-22| Monique| Robinson|             56|\n",
      "|1967-01-24|Kathleen|    Heath|             58|\n",
      "|1988-03-09|Jennifer|    Banks|             37|\n",
      "|1956-05-15|Nicholas|  Osborne|             69|\n",
      "|1953-04-19| Michael|Rodriguez|             72|\n",
      "|1958-09-10| Douglas|   Willis|             67|\n",
      "|1966-12-21|   Jerry| Robinson|             59|\n",
      "|1930-02-28|   Frank|      Key|             95|\n",
      "|1979-01-26|  Tamara| Martinez|             46|\n",
      "|1990-10-19|    Lisa|     Lowe|             35|\n",
      "|1973-06-09| Michael| Williams|             52|\n",
      "|1969-01-14|   James|   Bishop|             56|\n",
      "|1997-12-26|   Karen|   Warren|             28|\n",
      "|1988-09-19|  Brooke|Rodriguez|             37|\n",
      "|1949-04-24|Michelle|  Russell|             76|\n",
      "|1985-04-15|   Alice|     Kemp|             40|\n",
      "|1930-08-13| Jessica|   Jordan|             95|\n",
      "|1990-04-25|   Tracy|   Conway|             35|\n",
      "|1999-06-06|  Monica|   Tucker|             26|\n",
      "|1952-04-02|   Susan|    Mills|             73|\n",
      "+----------+--------+---------+---------------+\n",
      "only showing top 20 rows\n",
      "\n"
     ]
    }
   ],
   "source": [
    "from pyspark.sql.functions import year,current_date\n",
    "df_age = data.select(\"dob\",\"first\",\"last\", (year(current_date())- year(\"dob\")).alias(\"age_transaction\")).orderBy(\"first\").distinct()\n",
    "df_age.show()"
   ]
  },
  {
   "cell_type": "code",
   "execution_count": 13,
   "id": "95eadc4d-adf7-41ee-a447-e35362e0c622",
   "metadata": {},
   "outputs": [
    {
     "data": {
      "text/plain": [
       "999"
      ]
     },
     "execution_count": 13,
     "metadata": {},
     "output_type": "execute_result"
    }
   ],
   "source": [
    "df_age.count()"
   ]
  },
  {
   "cell_type": "code",
   "execution_count": null,
   "id": "4a8d40b8-0a65-4adf-be62-ea88181de8d1",
   "metadata": {},
   "outputs": [],
   "source": []
  }
 ],
 "metadata": {
  "kernelspec": {
   "display_name": "PySpark",
   "language": "python",
   "name": "pyspark"
  },
  "language_info": {
   "codemirror_mode": {
    "name": "ipython",
    "version": 3
   },
   "file_extension": ".py",
   "mimetype": "text/x-python",
   "name": "python",
   "nbconvert_exporter": "python",
   "pygments_lexer": "ipython3",
   "version": "3.11.0"
  }
 },
 "nbformat": 4,
 "nbformat_minor": 5
}
