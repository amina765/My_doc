{
 "cells": [
  {
   "cell_type": "code",
   "execution_count": 4,
   "id": "bd14681f-8c9f-457f-b3ef-6d5e02810c14",
   "metadata": {},
   "outputs": [
    {
     "name": "stdout",
     "output_type": "stream",
     "text": [
      "This is the value of a: 5\n",
      "This is the value of b: 10\n"
     ]
    }
   ],
   "source": [
    "a=5\n",
    "b=10\n",
    "print(\"This is the value of a:\",a)\n",
    "print(\"This is the value of b:\",b)"
   ]
  },
  {
   "cell_type": "code",
   "execution_count": null,
   "id": "21905739-1a1c-476f-b272-8a83c0d38dd4",
   "metadata": {},
   "outputs": [],
   "source": [
    "#dynamic approach\n",
    "a=10; b=20\n",
    "print(\"value of a {} and value of b {}\".format(a,b))\n",
    "print(\"value of a {} and value of b {}\".format(b,a))\n",
    "print(\"value of a {1} and value of b {0}\".format(b,a))\n",
    "print(a,b)"
   ]
  },
  {
   "cell_type": "code",
   "execution_count": 9,
   "id": "304b4fb8-7012-4a9b-ba81-8f415bd37841",
   "metadata": {},
   "outputs": [
    {
     "name": "stdout",
     "output_type": "stream",
     "text": [
      "i love my country, name_is India\n"
     ]
    }
   ],
   "source": [
    "#string value\n",
    "my = \"country\"; name_is = \"India\"\n",
    "print(\"i love my {1}, name_is {0}\".format(name_is,my))"
   ]
  },
  {
   "cell_type": "code",
   "execution_count": 10,
   "id": "d43ef62c-b7ed-4f2b-997b-93d7a17ac492",
   "metadata": {},
   "outputs": [
    {
     "name": "stdout",
     "output_type": "stream",
     "text": [
      "my name is bill,gate from microsoft\n"
     ]
    }
   ],
   "source": [
    "#print without reference variable or pass by value\n",
    "\n",
    "print(\"my name is {},{} from {}\".format('bill','gate','microsoft'))"
   ]
  },
  {
   "cell_type": "code",
   "execution_count": 11,
   "id": "6eb10800-3b4b-427d-80d0-cda064a2ae08",
   "metadata": {},
   "outputs": [
    {
     "name": "stdin",
     "output_type": "stream",
     "text": [
      "enter the value:  1\n"
     ]
    },
    {
     "name": "stdout",
     "output_type": "stream",
     "text": [
      "1\n"
     ]
    }
   ],
   "source": [
    "#user input\n",
    "num = input(\"enter the value: \")\n",
    "print(num)"
   ]
  },
  {
   "cell_type": "code",
   "execution_count": 13,
   "id": "1b763345-76e6-42d7-b835-ddd3c211d962",
   "metadata": {},
   "outputs": [
    {
     "name": "stdin",
     "output_type": "stream",
     "text": [
      "enter the value:  3\n"
     ]
    },
    {
     "name": "stdout",
     "output_type": "stream",
     "text": [
      "3\n"
     ]
    }
   ],
   "source": [
    "num = int(input(\"enter the value: \"))\n",
    "print(num)"
   ]
  },
  {
   "cell_type": "code",
   "execution_count": 15,
   "id": "cf479df4-bcba-4a12-8ef1-1a9120ddfef0",
   "metadata": {},
   "outputs": [
    {
     "name": "stdin",
     "output_type": "stream",
     "text": [
      "enter the 1st digit of pin no:  3\n",
      "enter the 2nd digit of pin no:  4\n",
      "enter the 3rd digit of pin no: 6\n",
      "enter the 4th digit of pin no: 8\n"
     ]
    },
    {
     "name": "stdout",
     "output_type": "stream",
     "text": [
      "('3', '4', '6', '8')\n"
     ]
    }
   ],
   "source": [
    "#enter multiple values\n",
    "x= input(\"enter the 1st digit of pin no: \"),input(\"enter the 2nd digit of pin no: \"),input(\"enter the 3rd digit of pin no:\"),input(\"enter the 4th digit of pin no:\")\n",
    "print(x)"
   ]
  },
  {
   "cell_type": "code",
   "execution_count": 16,
   "id": "5a3a9269-b89d-4607-b826-efad8c5d9ab8",
   "metadata": {},
   "outputs": [
    {
     "name": "stdout",
     "output_type": "stream",
     "text": [
      "True False\n",
      "True\n",
      "True\n",
      "False\n"
     ]
    }
   ],
   "source": [
    "#logical operator\n",
    "a=True\n",
    "b=False\n",
    "\n",
    "print(a,b)\n",
    "print(not b)\n",
    "print(a or b)\n",
    "print(a and b)"
   ]
  },
  {
   "cell_type": "code",
   "execution_count": 18,
   "id": "bb8ab7c4-86a8-41fd-8008-753124db238c",
   "metadata": {},
   "outputs": [
    {
     "name": "stdout",
     "output_type": "stream",
     "text": [
      "140715445506984\n",
      "140715445506984\n",
      "<class 'int'>\n",
      "<class 'int'>\n",
      "False\n"
     ]
    }
   ],
   "source": [
    "#identity operator\n",
    "A = 5; B=5\n",
    "print(id(A))\n",
    "print(id(B))\n",
    "print(type(A))\n",
    "print(type(B))\n",
    "print(A is not B)"
   ]
  },
  {
   "cell_type": "code",
   "execution_count": 20,
   "id": "0b52e193-033b-429f-952b-dc71d57b7ca3",
   "metadata": {},
   "outputs": [
    {
     "name": "stdout",
     "output_type": "stream",
     "text": [
      "1952988150016\n",
      "1952994547200\n",
      "False\n"
     ]
    }
   ],
   "source": [
    "L1 = [1,2,3]\n",
    "L2 = [1,2,3]\n",
    "print(id(L1))\n",
    "print(id(L2))\n",
    "print(L1 is L2)"
   ]
  },
  {
   "cell_type": "code",
   "execution_count": 22,
   "id": "1764bf47-57b2-4a3e-96cd-e82414842be6",
   "metadata": {},
   "outputs": [
    {
     "name": "stdout",
     "output_type": "stream",
     "text": [
      "False\n"
     ]
    }
   ],
   "source": [
    "#Membership operator\n",
    "L1 = {5,7,8,9}\n",
    "print(10 in L1)"
   ]
  },
  {
   "cell_type": "code",
   "execution_count": 23,
   "id": "14f6cf69-4869-4979-9965-4e4e01fe93c7",
   "metadata": {},
   "outputs": [
    {
     "name": "stdout",
     "output_type": "stream",
     "text": [
      "x is positive no\n"
     ]
    }
   ],
   "source": [
    "x = 10\n",
    "if(x>0):\n",
    "    print(\"x is positive no\")\n",
    "else:\n",
    "    print(\"x is negative no\")"
   ]
  },
  {
   "cell_type": "code",
   "execution_count": 26,
   "id": "7d3542b2-4f25-41a6-98bc-813a569c6105",
   "metadata": {},
   "outputs": [
    {
     "name": "stdout",
     "output_type": "stream",
     "text": [
      "This will print always\n"
     ]
    }
   ],
   "source": [
    "num = 10\n",
    "if None:\n",
    "    print(\"number is positive\")\n",
    "print(\"This will print always\")"
   ]
  },
  {
   "cell_type": "code",
   "execution_count": 27,
   "id": "cc1a7e67-7c3e-48d7-bb15-0b174c6fc0fe",
   "metadata": {},
   "outputs": [
    {
     "name": "stdout",
     "output_type": "stream",
     "text": [
      "1st division\n"
     ]
    }
   ],
   "source": [
    "#Nested loop\n",
    "\n",
    "num = 19 \n",
    "if(num>=10 and 20>num):\n",
    "    print(\"1st division\")\n",
    "elif(num>10 and 20<num):\n",
    "    print(\"2nd division\")\n",
    "elif(num>10 and 12>=num):\n",
    "    print(\"3rd division\")\n",
    "else:\n",
    "    print(\"fail\")\n"
   ]
  },
  {
   "cell_type": "code",
   "execution_count": 32,
   "id": "6d623637-a4c9-4870-84de-fd8783adfd2f",
   "metadata": {},
   "outputs": [
    {
     "name": "stdout",
     "output_type": "stream",
     "text": [
      "b is largest\n"
     ]
    }
   ],
   "source": [
    "a=5; b=6; c=3\n",
    "if(a>=b and a>c):\n",
    "    print(\"a is largest\")\n",
    "elif(b>=a and b>=c):\n",
    "    print(\"b is largest\")\n",
    "else:\n",
    "    print(\"c is largest\")"
   ]
  },
  {
   "cell_type": "code",
   "execution_count": 33,
   "id": "8ca1432e-f803-4da3-b564-29bed438287e",
   "metadata": {},
   "outputs": [
    {
     "name": "stdout",
     "output_type": "stream",
     "text": [
      "2nd division\n"
     ]
    }
   ],
   "source": [
    "num = 20 \n",
    "if(num>10 or 10>num):\n",
    "    if(num>20):\n",
    "        print(\"number is positive\")\n",
    "    else:\n",
    "        print(\"2nd division\")\n",
    "else:\n",
    "    print(\"fail\")"
   ]
  },
  {
   "cell_type": "code",
   "execution_count": 34,
   "id": "cb0b6bd6-7278-4a6b-b426-dcd5c2e36dbd",
   "metadata": {},
   "outputs": [
    {
     "name": "stdout",
     "output_type": "stream",
     "text": [
      "20\n",
      "400\n",
      "12000\n",
      "480000\n",
      "24000000\n"
     ]
    }
   ],
   "source": [
    "a =[10,20,30,40,50]\n",
    "product =2\n",
    "\n",
    "for i in a:\n",
    "    product *= i\n",
    "    print(product)"
   ]
  },
  {
   "cell_type": "code",
   "execution_count": 35,
   "id": "124fd213-bb8e-42f9-97b2-53d64cffb406",
   "metadata": {},
   "outputs": [
    {
     "name": "stdout",
     "output_type": "stream",
     "text": [
      "0\n",
      "1\n",
      "2\n",
      "3\n",
      "4\n",
      "5\n",
      "6\n",
      "7\n",
      "8\n",
      "9\n",
      "10\n"
     ]
    }
   ],
   "source": [
    "for i in range(11):\n",
    "    print(i)"
   ]
  },
  {
   "cell_type": "code",
   "execution_count": 36,
   "id": "42d833b8-63c2-4b7b-bc1e-ec2a9211c769",
   "metadata": {},
   "outputs": [
    {
     "name": "stdout",
     "output_type": "stream",
     "text": [
      "1\n",
      "4\n",
      "7\n",
      "10\n"
     ]
    }
   ],
   "source": [
    "for i in range(1,11,3):\n",
    "    print(i)"
   ]
  },
  {
   "cell_type": "code",
   "execution_count": 37,
   "id": "07b52256-3f88-45cd-8433-4bd8860620a2",
   "metadata": {},
   "outputs": [
    {
     "name": "stdout",
     "output_type": "stream",
     "text": [
      "1\n",
      "2\n",
      "3\n",
      "4\n",
      "no data available in x\n"
     ]
    }
   ],
   "source": [
    "#for loop with else\n",
    "x=[1,2,3,4]\n",
    "for element in x:\n",
    "    print(element)\n",
    "else:\n",
    "    print(\"no data available in x\")"
   ]
  },
  {
   "cell_type": "code",
   "execution_count": 39,
   "id": "79248c66-cdd6-4a15-98fc-40dfd808906b",
   "metadata": {},
   "outputs": [
    {
     "name": "stdout",
     "output_type": "stream",
     "text": [
      "odd no is:  1\n",
      "even no is: 2\n",
      "odd no is:  3\n",
      "even no is: 4\n",
      "odd no is:  5\n",
      "even no is: 6\n",
      "odd no is:  7\n",
      "even no is: 8\n",
      "odd no is:  9\n",
      "even no is: 10\n"
     ]
    }
   ],
   "source": [
    "#to print odd even num\n",
    "for i in range(1,11):\n",
    "    if i%2 == 0:\n",
    "        print(\"even no is:\",i)\n",
    "    else:\n",
    "        print(\"odd no is: \",i)"
   ]
  },
  {
   "cell_type": "code",
   "execution_count": 40,
   "id": "8e188517-6bdc-40b8-aac7-546de5357c29",
   "metadata": {},
   "outputs": [
    {
     "name": "stdin",
     "output_type": "stream",
     "text": [
      "Enter the string:  mother\n"
     ]
    },
    {
     "name": "stdout",
     "output_type": "stream",
     "text": [
      "rehtom\n"
     ]
    }
   ],
   "source": [
    "# to reverse the string\n",
    "str = input(\"Enter the string: \")\n",
    "reverse = \"\"\n",
    "for i in str:\n",
    "    reverse = i+reverse\n",
    "print(reverse)"
   ]
  },
  {
   "cell_type": "code",
   "execution_count": 42,
   "id": "11d70ec5-6213-494a-9269-21e42e51c77d",
   "metadata": {},
   "outputs": [
    {
     "name": "stdin",
     "output_type": "stream",
     "text": [
      "Enter the string:  dad\n"
     ]
    },
    {
     "name": "stdout",
     "output_type": "stream",
     "text": [
      "the str dad is palindrome\n"
     ]
    }
   ],
   "source": [
    "#palindrome \n",
    "str = input(\"Enter the string: \")\n",
    "reverse = \"\"\n",
    "for i in str:\n",
    "    reverse = i+reverse\n",
    "if str == reverse:\n",
    "    print(\"the str {} is palindrome\".format(str))\n",
    "else:\n",
    "    print(\"the str {} is not palindrome\".format(str))"
   ]
  },
  {
   "cell_type": "code",
   "execution_count": 43,
   "id": "d42e15a3-2ba7-44b2-99ac-2a16ea52df56",
   "metadata": {},
   "outputs": [
    {
     "name": "stdin",
     "output_type": "stream",
     "text": [
      "Enter the string:  mother\n"
     ]
    },
    {
     "name": "stdout",
     "output_type": "stream",
     "text": [
      "the str mother is not palindrome\n"
     ]
    }
   ],
   "source": [
    "str = input(\"Enter the string: \")\n",
    "reverse = \"\"\n",
    "for i in str:\n",
    "    reverse = i+reverse\n",
    "if str == reverse:\n",
    "    print(\"the str {} is palindrome\".format(str))\n",
    "else:\n",
    "    print(\"the str {} is not palindrome\".format(str))"
   ]
  },
  {
   "cell_type": "code",
   "execution_count": 44,
   "id": "57c56e5c-6848-42d3-9036-c72749136ddd",
   "metadata": {},
   "outputs": [
    {
     "name": "stdin",
     "output_type": "stream",
     "text": [
      "enter the string mom\n"
     ]
    },
    {
     "name": "stdout",
     "output_type": "stream",
     "text": [
      "the string is palindrome\n"
     ]
    }
   ],
   "source": [
    "str = input(\"enter the string\")\n",
    "if str==str[::-1]:\n",
    "    print(\"the string is palindrome\")\n",
    "else:\n",
    "    print(\"the string is not palindrome\")"
   ]
  },
  {
   "cell_type": "code",
   "execution_count": 63,
   "id": "4144441e-b2ef-411b-ab57-31cf22836d0d",
   "metadata": {},
   "outputs": [],
   "source": [
    "#prime num"
   ]
  },
  {
   "cell_type": "code",
   "execution_count": 62,
   "id": "e773e0ce-109a-4d7e-9a9f-8f026f8f7d3a",
   "metadata": {},
   "outputs": [],
   "source": [
    "#fibnocci"
   ]
  },
  {
   "cell_type": "code",
   "execution_count": 47,
   "id": "59d95148-6764-4af4-95d2-95e0bee93757",
   "metadata": {},
   "outputs": [
    {
     "name": "stdout",
     "output_type": "stream",
     "text": [
      "name is  Amina\n"
     ]
    }
   ],
   "source": [
    "def show_name(name):\n",
    "    print(\"name is \",name)\n",
    "show_name(\"Amina\")"
   ]
  },
  {
   "cell_type": "code",
   "execution_count": 51,
   "id": "a1a39cb1-ad0c-4fcc-ab65-bd5cf3750825",
   "metadata": {},
   "outputs": [
    {
     "name": "stdout",
     "output_type": "stream",
     "text": [
      "1\n",
      "3\n",
      "6\n",
      "10\n",
      "10\n",
      "\n",
      "    This func returns sum of all element in list\n",
      "    \n",
      "<built-in function all>\n"
     ]
    }
   ],
   "source": [
    "def get_sum(lst):\n",
    "    \"\"\"\n",
    "    This func returns sum of all element in list\n",
    "    \"\"\"\n",
    "    all = 0\n",
    "    for num in lst:\n",
    "        all+=num\n",
    "        print(all)\n",
    "    return all\n",
    "\n",
    "lst1 = get_sum([1,2,3,4])\n",
    "print(lst1)\n",
    "print(get_sum.__doc__)\n",
    "print(all)"
   ]
  },
  {
   "cell_type": "code",
   "execution_count": 55,
   "id": "5892b6d6-4d24-4c7c-b8ac-991b760688ff",
   "metadata": {},
   "outputs": [
    {
     "name": "stdout",
     "output_type": "stream",
     "text": [
      "this is local variable\n",
      "this is global variable\n",
      "this is global variable\n"
     ]
    }
   ],
   "source": [
    "#global and local variable\n",
    "global_var = \"this is global variable\"\n",
    "def lis():\n",
    "    local_variable = \"this is local variable\"\n",
    "    print(local_variable)\n",
    "    print(global_var)\n",
    "lis()\n",
    "print(global_var)"
   ]
  },
  {
   "cell_type": "code",
   "execution_count": 56,
   "id": "b149888e-9831-4454-881b-ceeb945d15b4",
   "metadata": {},
   "outputs": [
    {
     "data": {
      "text/plain": [
       "6"
      ]
     },
     "execution_count": 56,
     "metadata": {},
     "output_type": "execute_result"
    }
   ],
   "source": [
    "#hcf of two num\n",
    "def hcf_num(x,y):\n",
    "    if x>y: \n",
    "        smaller = y\n",
    "    else: \n",
    "        smaller = x\n",
    "    for i in range(1,smaller+1):\n",
    "        if(x%i==0 and y%i==0):\n",
    "            hcf=i\n",
    "    return hcf\n",
    "x=54\n",
    "y=24\n",
    "hcf_num(x,y)"
   ]
  },
  {
   "cell_type": "code",
   "execution_count": 64,
   "id": "2f060032-0cc3-4c2b-a422-c235555e10e3",
   "metadata": {},
   "outputs": [
    {
     "name": "stdout",
     "output_type": "stream",
     "text": [
      "100\n"
     ]
    }
   ],
   "source": [
    "#abs\n",
    "lst = -100\n",
    "print(abs(lst))"
   ]
  },
  {
   "cell_type": "code",
   "execution_count": 65,
   "id": "cdf1d0dc-f1b0-405c-ba1b-66934939a04c",
   "metadata": {},
   "outputs": [
    {
     "name": "stdout",
     "output_type": "stream",
     "text": [
      "False\n"
     ]
    }
   ],
   "source": [
    "x=[1,2,6,4,-4,0]\n",
    "print(all(x))"
   ]
  },
  {
   "cell_type": "code",
   "execution_count": 66,
   "id": "a711e207-a5b1-47dc-beee-d71474a455ec",
   "metadata": {},
   "outputs": [
    {
     "name": "stdout",
     "output_type": "stream",
     "text": [
      "True\n"
     ]
    }
   ],
   "source": [
    "x=[]\n",
    "print(all(x))"
   ]
  },
  {
   "cell_type": "code",
   "execution_count": 67,
   "id": "6de5b6d3-0741-4a5c-96c4-88b2f028951b",
   "metadata": {},
   "outputs": [
    {
     "name": "stdout",
     "output_type": "stream",
     "text": [
      "True\n"
     ]
    }
   ],
   "source": [
    "lst=[-1,-3,8,6]\n",
    "print(all(x))"
   ]
  },
  {
   "cell_type": "code",
   "execution_count": 68,
   "id": "0f5403e6-ca2b-412c-98e6-dd71e663b6de",
   "metadata": {},
   "outputs": [
    {
     "name": "stdout",
     "output_type": "stream",
     "text": [
      "<class 'list'>\n",
      "['__add__', '__class__', '__class_getitem__', '__contains__', '__delattr__', '__delitem__', '__dir__', '__doc__', '__eq__', '__format__', '__ge__', '__getattribute__', '__getitem__', '__getstate__', '__gt__', '__hash__', '__iadd__', '__imul__', '__init__', '__init_subclass__', '__iter__', '__le__', '__len__', '__lt__', '__mul__', '__ne__', '__new__', '__reduce__', '__reduce_ex__', '__repr__', '__reversed__', '__rmul__', '__setattr__', '__setitem__', '__sizeof__', '__str__', '__subclasshook__', 'append', 'clear', 'copy', 'count', 'extend', 'index', 'insert', 'pop', 'remove', 'reverse', 'sort']\n",
      "<class 'tuple'>\n",
      "['__add__', '__class__', '__class_getitem__', '__contains__', '__delattr__', '__dir__', '__doc__', '__eq__', '__format__', '__ge__', '__getattribute__', '__getitem__', '__getnewargs__', '__getstate__', '__gt__', '__hash__', '__init__', '__init_subclass__', '__iter__', '__le__', '__len__', '__lt__', '__mul__', '__ne__', '__new__', '__reduce__', '__reduce_ex__', '__repr__', '__rmul__', '__setattr__', '__sizeof__', '__str__', '__subclasshook__', 'count', 'index']\n"
     ]
    }
   ],
   "source": [
    "#dir\n",
    "lst =[]\n",
    "print(type(lst))\n",
    "print(dir(lst))\n",
    "lst1 = tuple(lst)\n",
    "print(type(lst1))\n",
    "print(dir(lst1))"
   ]
  },
  {
   "cell_type": "code",
   "execution_count": 69,
   "id": "47ab85fd-b96d-4cff-a5ac-a4654ca8bf4c",
   "metadata": {},
   "outputs": [
    {
     "name": "stdout",
     "output_type": "stream",
     "text": [
      "(6, 1)\n"
     ]
    }
   ],
   "source": [
    "print(divmod(13,2))"
   ]
  },
  {
   "cell_type": "code",
   "execution_count": 71,
   "id": "abd7671b-5d1b-477f-a826-f3c6ec6e59c3",
   "metadata": {},
   "outputs": [
    {
     "name": "stdout",
     "output_type": "stream",
     "text": [
      "index 0 has value 10\n",
      "index 1 has value 20\n",
      "index 2 has value 30\n",
      "index 3 has value 40\n",
      "index 4 has value 50\n"
     ]
    }
   ],
   "source": [
    "lst = [10,20,30,40,50]\n",
    "for index,num in enumerate(lst,start=0):\n",
    "    print(\"index {0} has value {1}\".format(index,num))"
   ]
  },
  {
   "cell_type": "code",
   "execution_count": 73,
   "id": "79274dd8-a100-475c-a63d-18a2fdb0613d",
   "metadata": {},
   "outputs": [
    {
     "name": "stdout",
     "output_type": "stream",
     "text": [
      "None\n"
     ]
    }
   ],
   "source": [
    "def check_positive_no(num):\n",
    "    if num>0:\n",
    "        return num\n",
    "print(check_positive_no(-6))"
   ]
  },
  {
   "cell_type": "code",
   "execution_count": 74,
   "id": "9edbfee7-e16e-4d2e-99ca-4bdb83e499c6",
   "metadata": {},
   "outputs": [
    {
     "name": "stdout",
     "output_type": "stream",
     "text": [
      "-9\n",
      "-7\n",
      "-5\n",
      "-3\n",
      "-1\n",
      "1\n",
      "3\n",
      "5\n",
      "7\n",
      "9\n"
     ]
    }
   ],
   "source": [
    "lst1_list  = range(-10,10)\n",
    "lst2_positive =list(filter(lambda n:n%2!=0,lst1_list))\n",
    "for i in lst2_positive:\n",
    "    print(i)"
   ]
  },
  {
   "cell_type": "code",
   "execution_count": 75,
   "id": "b37fc47b-964e-4237-8063-7be95da046bc",
   "metadata": {},
   "outputs": [
    {
     "name": "stdout",
     "output_type": "stream",
     "text": [
      "1\n",
      "2\n",
      "3\n",
      "4\n",
      "5\n",
      "6\n",
      "7\n",
      "8\n",
      "9\n"
     ]
    }
   ],
   "source": [
    "lst1_list  = range(-10,10)\n",
    "lst2_positive =list(filter(lambda x:x>0,lst1_list))\n",
    "for i in lst2_positive:\n",
    "    print(i)"
   ]
  },
  {
   "cell_type": "code",
   "execution_count": 76,
   "id": "71bf1258-bba9-447f-8d66-814231bdfa19",
   "metadata": {},
   "outputs": [
    {
     "name": "stdout",
     "output_type": "stream",
     "text": [
      "1\n",
      "2\n",
      "3\n",
      "4\n",
      "5\n",
      "6\n",
      "7\n",
      "8\n",
      "9\n"
     ]
    }
   ],
   "source": [
    "lst1_list  = range(-10,10)\n",
    "lst2_positive =list(filter(check_positive_no,lst1_list))\n",
    "for i in lst2_positive:\n",
    "    print(i)"
   ]
  },
  {
   "cell_type": "code",
   "execution_count": 79,
   "id": "d416a85d-41fe-47eb-9d44-d6bf46d09797",
   "metadata": {},
   "outputs": [
    {
     "name": "stdout",
     "output_type": "stream",
     "text": [
      "[2, 4, 6, 8]\n",
      "[3, 6, 9, 12]\n",
      "[1, 4, 9, 16]\n",
      "[1, 4, 9, 16]\n"
     ]
    }
   ],
   "source": [
    "#map() case1\n",
    "lst = [1,2,3,4]\n",
    "squarred =[]\n",
    "squarred1 =[]\n",
    "for num in lst:\n",
    "    squarred.append(num*2)\n",
    "    squarred1.append(num*3)\n",
    "print(squarred)\n",
    "print(squarred1)\n",
    "#case2\n",
    "num = [1,2,3,4]\n",
    "def hallsquare(num):\n",
    "    return (num**2)\n",
    "squared=list(map(hallsquare, [1,2,3,4]))\n",
    "print(squared)\n",
    "#case3\n",
    "squared = list(map(lambda x:x **2, [1,2,3,4]))\n",
    "print(squared)"
   ]
  },
  {
   "cell_type": "code",
   "execution_count": 83,
   "id": "822141f9-0cc5-4668-9705-cc38eeaf59d2",
   "metadata": {},
   "outputs": [
    {
     "name": "stdout",
     "output_type": "stream",
     "text": [
      "24\n",
      "24\n",
      "24\n"
     ]
    }
   ],
   "source": [
    "#reduce()\n",
    "product = 1\n",
    "lst = [1,2,3,4]\n",
    "for num in lst:\n",
    "    product *= num\n",
    "print(product)\n",
    "\n",
    "#case2\n",
    "\n",
    "from functools import reduce\n",
    "def multiply(x,y):\n",
    "    return x*y;\n",
    "product = reduce(multiply,lst)\n",
    "print(product)\n",
    "# case3 \n",
    "product = reduce(lambda x,y: x*y,lst) #it work like an accumulator\n",
    "print(product)"
   ]
  },
  {
   "cell_type": "code",
   "execution_count": null,
   "id": "7919a0b8-9c02-4e22-a7ad-8c684d48154c",
   "metadata": {},
   "outputs": [
    {
     "name": "stdout",
     "output_type": "stream",
     "text": [
      "select operations\n",
      "1.addition\n",
      "2.substraction\n",
      "3.multiplication\n",
      "4.division\n"
     ]
    },
    {
     "name": "stdin",
     "output_type": "stream",
     "text": [
      "enter the choices (1/2/3/4): d\n",
      "enter the choices (1/2/3/4): 1\n",
      "enter the num1: w\n"
     ]
    },
    {
     "name": "stdout",
     "output_type": "stream",
     "text": [
      "invalid input.please enter a valid input\n"
     ]
    },
    {
     "name": "stdin",
     "output_type": "stream",
     "text": [
      "enter the choices (1/2/3/4): i\n",
      "enter the choices (1/2/3/4): 1\n",
      "enter the num1: ry\n"
     ]
    },
    {
     "name": "stdout",
     "output_type": "stream",
     "text": [
      "invalid input.please enter a valid input\n"
     ]
    },
    {
     "name": "stdin",
     "output_type": "stream",
     "text": [
      "enter the choices (1/2/3/4): 7\n",
      "enter the choices (1/2/3/4): 4\n",
      "enter the num1: q\n"
     ]
    },
    {
     "name": "stdout",
     "output_type": "stream",
     "text": [
      "invalid input.please enter a valid input\n"
     ]
    },
    {
     "name": "stdin",
     "output_type": "stream",
     "text": [
      "enter the choices (1/2/3/4): 2\n",
      "enter the num1: 3\n",
      "enter the num2: 5\n"
     ]
    },
    {
     "name": "stdout",
     "output_type": "stream",
     "text": [
      "3.0 - 5.0 = -2.0\n"
     ]
    }
   ],
   "source": [
    "def add(x,y):\n",
    "    return(x+y)\n",
    "def sub(x,y):\n",
    "    return(x-y)\n",
    "def mul(x,y):\n",
    "    return(x*y)\n",
    "def div(x,y):\n",
    "    return(x/y)\n",
    "\n",
    "print(\"select operations\")\n",
    "print(\"1.addition\")\n",
    "print(\"2.substraction\")\n",
    "print(\"3.multiplication\")\n",
    "print(\"4.division\")\n",
    "while True:\n",
    "    choice = input(\"enter the choices (1/2/3/4):\")\n",
    "    if choice in (\"1\",\"2\",\"3\",\"4\"):\n",
    "        try:\n",
    "            num1 = float(input(\"enter the num1:\"))\n",
    "            num2 = float(input(\"enter the num2:\"))\n",
    "        except ValueError:\n",
    "            print(\"invalid input.please enter a valid input\")\n",
    "            continue\n",
    "        \n",
    "        if choice == \"1\":\n",
    "            print(num1,\"+\",num2,\"=\",add(num1,num2))\n",
    "        elif choice == \"2\":\n",
    "            print(num1,\"-\",num2,\"=\",sub(num1,num2))\n",
    "        elif choice == \"3\":\n",
    "            print(num1,\"*\",num2,\"=\",mul(num1,num2))\n",
    "        elif choice == \"4\":\n",
    "            print(num1,\"/\",num2,\"=\",div(num1,num2))"
   ]
  },
  {
   "cell_type": "code",
   "execution_count": null,
   "id": "ed5c2a43-2414-4018-9cbb-f5e62e119801",
   "metadata": {},
   "outputs": [],
   "source": []
  }
 ],
 "metadata": {
  "kernelspec": {
   "display_name": "Python 3 (ipykernel)",
   "language": "python",
   "name": "python3"
  },
  "language_info": {
   "codemirror_mode": {
    "name": "ipython",
    "version": 3
   },
   "file_extension": ".py",
   "mimetype": "text/x-python",
   "name": "python",
   "nbconvert_exporter": "python",
   "pygments_lexer": "ipython3",
   "version": "3.11.0"
  }
 },
 "nbformat": 4,
 "nbformat_minor": 5
}
