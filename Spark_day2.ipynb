{
  "nbformat": 4,
  "nbformat_minor": 0,
  "metadata": {
    "colab": {
      "provenance": [],
      "authorship_tag": "ABX9TyO9r+ZvDRTwPFsUwTWm2Lkw",
      "include_colab_link": true
    },
    "kernelspec": {
      "name": "python3",
      "display_name": "Python 3"
    },
    "language_info": {
      "name": "python"
    }
  },
  "cells": [
    {
      "cell_type": "markdown",
      "metadata": {
        "id": "view-in-github",
        "colab_type": "text"
      },
      "source": [
        "<a href=\"https://colab.research.google.com/github/amina765/My_doc/blob/main/Spark_day2.ipynb\" target=\"_parent\"><img src=\"https://colab.research.google.com/assets/colab-badge.svg\" alt=\"Open In Colab\"/></a>"
      ]
    },
    {
      "cell_type": "markdown",
      "source": [
        "importing pyspark"
      ],
      "metadata": {
        "id": "AA9i_JHaH20K"
      }
    },
    {
      "cell_type": "code",
      "source": [
        "from pyspark.sql import SparkSession\n",
        "spark=(\n",
        "    SparkSession.builder.appName(\"SparkIntroduction\").getOrCreate()\n",
        ")\n",
        "spark"
      ],
      "metadata": {
        "colab": {
          "base_uri": "https://localhost:8080/",
          "height": 219
        },
        "id": "d_sY_klfeCmJ",
        "outputId": "2c79379a-276d-4fae-a37c-3f9d45d149a1"
      },
      "execution_count": null,
      "outputs": [
        {
          "output_type": "execute_result",
          "data": {
            "text/plain": [
              "<pyspark.sql.session.SparkSession at 0x79abacd804d0>"
            ],
            "text/html": [
              "\n",
              "            <div>\n",
              "                <p><b>SparkSession - in-memory</b></p>\n",
              "                \n",
              "        <div>\n",
              "            <p><b>SparkContext</b></p>\n",
              "\n",
              "            <p><a href=\"http://60da64ef6b39:4040\">Spark UI</a></p>\n",
              "\n",
              "            <dl>\n",
              "              <dt>Version</dt>\n",
              "                <dd><code>v3.5.1</code></dd>\n",
              "              <dt>Master</dt>\n",
              "                <dd><code>local[*]</code></dd>\n",
              "              <dt>AppName</dt>\n",
              "                <dd><code>SparkIntroduction</code></dd>\n",
              "            </dl>\n",
              "        </div>\n",
              "        \n",
              "            </div>\n",
              "        "
            ]
          },
          "metadata": {},
          "execution_count": 1
        }
      ]
    },
    {
      "cell_type": "markdown",
      "source": [
        "creating table"
      ],
      "metadata": {
        "id": "aBhqKfhmH9xA"
      }
    },
    {
      "cell_type": "code",
      "execution_count": null,
      "metadata": {
        "id": "jMEhAsTEcEUB"
      },
      "outputs": [],
      "source": [
        "emp_data = [\n",
        "    [\"001\",\"101\",\"john doe\",\"30\",\"male\",\"50000\",\"2015-01-01\"],\n",
        "    [\"002\",\"102\",\"jani smith\",\"25\",\"female\",\"45000\",\"2016-02-15\"],\n",
        "    [\"003\",\"103\",\"boby\",\"35\",\"male\",\"55000\",\"2014-05-01\"],\n",
        "    [\"004\",\"104\",\"ancy\",\"28\",\"female\",\"60000\",\"2010-07-08\"],\n",
        "    [\"005\",\"105\",\"aleena\",\"37\",\"female\",\"57000\",\"2018-08-01\"],\n",
        "    [\"006\",\"106\",\"johnny\",\"27\",\"male\",\"70000\",\"2016-04-07\"]\n",
        "]"
      ]
    },
    {
      "cell_type": "markdown",
      "source": [
        "creating the column name"
      ],
      "metadata": {
        "id": "nyvBVsv9IDO0"
      }
    },
    {
      "cell_type": "code",
      "source": [
        "columns=\"employee_id string,department_id string,employee_name string,age string,gender string,salary string,hire_date string\""
      ],
      "metadata": {
        "id": "spFzcY7Ndt6S"
      },
      "execution_count": null,
      "outputs": []
    },
    {
      "cell_type": "markdown",
      "source": [
        "clubing the column means creating a tabluar form using dataframe"
      ],
      "metadata": {
        "id": "Y55Fz1GKJROC"
      }
    },
    {
      "cell_type": "code",
      "source": [
        "emp=spark.createDataFrame(data=emp_data,schema=columns)\n",
        "emp.show()"
      ],
      "metadata": {
        "colab": {
          "base_uri": "https://localhost:8080/"
        },
        "id": "J_VqfGEFeA84",
        "outputId": "002e26a4-b979-4696-cc08-083f7de57d51"
      },
      "execution_count": null,
      "outputs": [
        {
          "output_type": "stream",
          "name": "stdout",
          "text": [
            "+-----------+-------------+-------------+---+------+------+----------+\n",
            "|employee_id|department_id|employee_name|age|gender|salary| hire_date|\n",
            "+-----------+-------------+-------------+---+------+------+----------+\n",
            "|        001|          101|     john doe| 30|  male| 50000|2015-01-01|\n",
            "|        002|          102|   jani smith| 25|female| 45000|2016-02-15|\n",
            "|        003|          103|         boby| 35|  male| 55000|2014-05-01|\n",
            "|        004|          104|         ancy| 28|female| 60000|2010-07-08|\n",
            "|        005|          105|       aleena| 37|female| 57000|2018-08-01|\n",
            "|        006|          106|       johnny| 27|  male| 70000|2016-04-07|\n",
            "+-----------+-------------+-------------+---+------+------+----------+\n",
            "\n"
          ]
        }
      ]
    },
    {
      "cell_type": "markdown",
      "source": [
        "data description"
      ],
      "metadata": {
        "id": "HOWMFQ4vJdOU"
      }
    },
    {
      "cell_type": "code",
      "source": [
        "emp.printSchema()"
      ],
      "metadata": {
        "colab": {
          "base_uri": "https://localhost:8080/"
        },
        "id": "KTE0tKRAfLji",
        "outputId": "37a4b9a0-1110-46c5-d770-e07802184087"
      },
      "execution_count": null,
      "outputs": [
        {
          "output_type": "stream",
          "name": "stdout",
          "text": [
            "root\n",
            " |-- employee_id: string (nullable = true)\n",
            " |-- department_id: string (nullable = true)\n",
            " |-- employee_name: string (nullable = true)\n",
            " |-- age: string (nullable = true)\n",
            " |-- gender: string (nullable = true)\n",
            " |-- salary: string (nullable = true)\n",
            " |-- hire_date: string (nullable = true)\n",
            "\n"
          ]
        }
      ]
    },
    {
      "cell_type": "markdown",
      "source": [
        "define the schema"
      ],
      "metadata": {
        "id": "aWM3IRS0Jl6f"
      }
    },
    {
      "cell_type": "code",
      "source": [
        "from pyspark.sql.types import StructType,StructField,StringType,IntegerType"
      ],
      "metadata": {
        "id": "Rk-wQfMhFoxm"
      },
      "execution_count": null,
      "outputs": []
    },
    {
      "cell_type": "markdown",
      "source": [
        "for creating nullable value"
      ],
      "metadata": {
        "id": "-svbTKlwJuIV"
      }
    },
    {
      "cell_type": "code",
      "source": [
        "schema=StructType([\n",
        "    StructField(\"name\",StringType(),nullable=False),\n",
        "    StructField(\"age\",StringType(),nullable=False),\n",
        "    StructField(\"city\",StringType(),nullable=False)\n",
        "])"
      ],
      "metadata": {
        "id": "Looqk2v0Fy4z"
      },
      "execution_count": null,
      "outputs": []
    },
    {
      "cell_type": "markdown",
      "source": [
        "creating another table for to show changing the nullable value"
      ],
      "metadata": {
        "id": "4STphF1nJyyN"
      }
    },
    {
      "cell_type": "code",
      "source": [
        "data = [(\"Alice\",25,\"New York\"),(\"Bob\",30,\"San Francisco\"),(\"Charlie\",35,\"Los Angeles\")]"
      ],
      "metadata": {
        "id": "xvpnO60XGQ1T"
      },
      "execution_count": null,
      "outputs": []
    },
    {
      "cell_type": "markdown",
      "source": [
        "creating the dataframe for above table"
      ],
      "metadata": {
        "id": "AlBNuzWXJ6yb"
      }
    },
    {
      "cell_type": "code",
      "source": [
        "data_datas = spark.createDataFrame(data,schema)\n",
        "data_datas.show()"
      ],
      "metadata": {
        "colab": {
          "base_uri": "https://localhost:8080/"
        },
        "id": "8s1ckalDGdZy",
        "outputId": "6d63ae7b-258e-4e1e-d7d7-327313ddf0dc"
      },
      "execution_count": null,
      "outputs": [
        {
          "output_type": "stream",
          "name": "stdout",
          "text": [
            "+-------+---+-------------+\n",
            "|   name|age|         city|\n",
            "+-------+---+-------------+\n",
            "|  Alice| 25|     New York|\n",
            "|    Bob| 30|San Francisco|\n",
            "|Charlie| 35|  Los Angeles|\n",
            "+-------+---+-------------+\n",
            "\n"
          ]
        }
      ]
    },
    {
      "cell_type": "markdown",
      "source": [
        "then here we can see the change of nullable value"
      ],
      "metadata": {
        "id": "ZkRf5XcvKLF6"
      }
    },
    {
      "cell_type": "code",
      "source": [
        "data_datas.printSchema()"
      ],
      "metadata": {
        "colab": {
          "base_uri": "https://localhost:8080/"
        },
        "id": "2pEuV3OeG6zm",
        "outputId": "6eb66c5b-b377-483b-ba6a-5ad16efaf773"
      },
      "execution_count": null,
      "outputs": [
        {
          "output_type": "stream",
          "name": "stdout",
          "text": [
            "root\n",
            " |-- name: string (nullable = false)\n",
            " |-- age: string (nullable = false)\n",
            " |-- city: string (nullable = false)\n",
            "\n"
          ]
        }
      ]
    },
    {
      "cell_type": "markdown",
      "source": [
        "to see the first 3 col in table"
      ],
      "metadata": {
        "id": "FKiGifWTKQas"
      }
    },
    {
      "cell_type": "code",
      "source": [
        "emp.show(3)"
      ],
      "metadata": {
        "colab": {
          "base_uri": "https://localhost:8080/"
        },
        "id": "2IjC-uEiHIrM",
        "outputId": "257dbc0f-dcb9-48a0-c5a2-66f4e5756f9c"
      },
      "execution_count": null,
      "outputs": [
        {
          "output_type": "stream",
          "name": "stdout",
          "text": [
            "+-----------+-------------+-------------+---+------+------+----------+\n",
            "|employee_id|department_id|employee_name|age|gender|salary| hire_date|\n",
            "+-----------+-------------+-------------+---+------+------+----------+\n",
            "|        001|          101|     john doe| 30|  male| 50000|2015-01-01|\n",
            "|        002|          102|   jani smith| 25|female| 45000|2016-02-15|\n",
            "|        003|          103|         boby| 35|  male| 55000|2014-05-01|\n",
            "+-----------+-------------+-------------+---+------+------+----------+\n",
            "only showing top 3 rows\n",
            "\n"
          ]
        }
      ]
    },
    {
      "cell_type": "markdown",
      "source": [
        "to show the name and age of first 5 table"
      ],
      "metadata": {
        "id": "ZgId8DaxKXCk"
      }
    },
    {
      "cell_type": "code",
      "source": [
        "emp.select(\"employee_name\",\"age\").show(5)"
      ],
      "metadata": {
        "colab": {
          "base_uri": "https://localhost:8080/"
        },
        "id": "hWzYMB7THzGO",
        "outputId": "996239a7-166d-4b4d-d985-fd13275f5821"
      },
      "execution_count": null,
      "outputs": [
        {
          "output_type": "stream",
          "name": "stdout",
          "text": [
            "+-------------+---+\n",
            "|employee_name|age|\n",
            "+-------------+---+\n",
            "|     john doe| 30|\n",
            "|   jani smith| 25|\n",
            "|         boby| 35|\n",
            "|         ancy| 28|\n",
            "|       aleena| 37|\n",
            "+-------------+---+\n",
            "only showing top 5 rows\n",
            "\n"
          ]
        }
      ]
    },
    {
      "cell_type": "markdown",
      "source": [
        "for filtering the data by using condition"
      ],
      "metadata": {
        "id": "8E1bXqHbKdJr"
      }
    },
    {
      "cell_type": "code",
      "source": [
        "emp.filter(emp.age>30).show()"
      ],
      "metadata": {
        "colab": {
          "base_uri": "https://localhost:8080/"
        },
        "id": "QTHOXXMRIPpi",
        "outputId": "5bc36222-ec89-42a6-c197-4c6d967808b1"
      },
      "execution_count": null,
      "outputs": [
        {
          "output_type": "stream",
          "name": "stdout",
          "text": [
            "+-----------+-------------+-------------+---+------+------+----------+\n",
            "|employee_id|department_id|employee_name|age|gender|salary| hire_date|\n",
            "+-----------+-------------+-------------+---+------+------+----------+\n",
            "|        003|          103|         boby| 35|  male| 55000|2014-05-01|\n",
            "|        005|          105|       aleena| 37|female| 57000|2018-08-01|\n",
            "+-----------+-------------+-------------+---+------+------+----------+\n",
            "\n"
          ]
        }
      ]
    },
    {
      "cell_type": "markdown",
      "source": [
        "to get the descending value"
      ],
      "metadata": {
        "id": "jIKWbBDFLAAo"
      }
    },
    {
      "cell_type": "code",
      "source": [
        "emp.orderBy(emp.salary.desc()).show()"
      ],
      "metadata": {
        "colab": {
          "base_uri": "https://localhost:8080/"
        },
        "id": "4Ydy6w8hJMwX",
        "outputId": "4d70c1c2-a159-4656-e28a-d71675c9610f"
      },
      "execution_count": null,
      "outputs": [
        {
          "output_type": "stream",
          "name": "stdout",
          "text": [
            "+-----------+-------------+-------------+---+------+------+----------+\n",
            "|employee_id|department_id|employee_name|age|gender|salary| hire_date|\n",
            "+-----------+-------------+-------------+---+------+------+----------+\n",
            "|        006|          106|       johnny| 27|  male| 70000|2016-04-07|\n",
            "|        004|          104|         ancy| 28|female| 60000|2010-07-08|\n",
            "|        005|          105|       aleena| 37|female| 57000|2018-08-01|\n",
            "|        003|          103|         boby| 35|  male| 55000|2014-05-01|\n",
            "|        001|          101|     john doe| 30|  male| 50000|2015-01-01|\n",
            "|        002|          102|   jani smith| 25|female| 45000|2016-02-15|\n",
            "+-----------+-------------+-------------+---+------+------+----------+\n",
            "\n"
          ]
        }
      ]
    },
    {
      "cell_type": "markdown",
      "source": [
        "to get ascending value"
      ],
      "metadata": {
        "id": "vgSjBclsLE2V"
      }
    },
    {
      "cell_type": "code",
      "source": [
        "emp.orderBy(emp.salary.asc()).show()"
      ],
      "metadata": {
        "colab": {
          "base_uri": "https://localhost:8080/"
        },
        "id": "n_QsXAKuKvlR",
        "outputId": "efe46f3a-f6fb-486f-8567-176d06581a68"
      },
      "execution_count": null,
      "outputs": [
        {
          "output_type": "stream",
          "name": "stdout",
          "text": [
            "+-----------+-------------+-------------+---+------+------+----------+\n",
            "|employee_id|department_id|employee_name|age|gender|salary| hire_date|\n",
            "+-----------+-------------+-------------+---+------+------+----------+\n",
            "|        002|          102|   jani smith| 25|female| 45000|2016-02-15|\n",
            "|        001|          101|     john doe| 30|  male| 50000|2015-01-01|\n",
            "|        003|          103|         boby| 35|  male| 55000|2014-05-01|\n",
            "|        005|          105|       aleena| 37|female| 57000|2018-08-01|\n",
            "|        004|          104|         ancy| 28|female| 60000|2010-07-08|\n",
            "|        006|          106|       johnny| 27|  male| 70000|2016-04-07|\n",
            "+-----------+-------------+-------------+---+------+------+----------+\n",
            "\n"
          ]
        }
      ]
    },
    {
      "cell_type": "code",
      "source": [],
      "metadata": {
        "id": "J7qCCaaFK1Rn"
      },
      "execution_count": null,
      "outputs": []
    }
  ]
}